{
  "nbformat": 4,
  "nbformat_minor": 0,
  "metadata": {
    "colab": {
      "name": "258 HW5 XGboost.ipynb",
      "provenance": []
    },
    "kernelspec": {
      "name": "python3",
      "display_name": "Python 3"
    },
    "language_info": {
      "name": "python"
    }
  },
  "cells": [
    {
      "cell_type": "markdown",
      "metadata": {
        "id": "XaewgltWYZIV"
      },
      "source": [
        "## Data Preprocessing"
      ]
    },
    {
      "cell_type": "code",
      "metadata": {
        "id": "RTOeFsz0ToS4"
      },
      "source": [
        "import numpy as np\n",
        "import pandas as pd\n",
        "\n",
        "import matplotlib.pyplot as plt\n",
        "import seaborn as sns\n",
        "% matplotlib inline\n",
        "\n",
        "plt.style.use('seaborn-whitegrid')\n",
        "\n",
        "import warnings\n",
        "warnings.filterwarnings('ignore')"
      ],
      "execution_count": null,
      "outputs": []
    },
    {
      "cell_type": "code",
      "metadata": {
        "colab": {
          "base_uri": "https://localhost:8080/",
          "height": 370
        },
        "id": "0TzXoj61UV0h",
        "outputId": "dae4b758-ecad-4abd-9feb-b97a3235f001"
      },
      "source": [
        "import pandas as pd\n",
        "df=pd.read_csv('/content/drive/MyDrive/temp.csv',index_col=0)\n",
        "df.head()"
      ],
      "execution_count": null,
      "outputs": [
        {
          "output_type": "execute_result",
          "data": {
            "text/html": [
              "<div>\n",
              "<style scoped>\n",
              "    .dataframe tbody tr th:only-of-type {\n",
              "        vertical-align: middle;\n",
              "    }\n",
              "\n",
              "    .dataframe tbody tr th {\n",
              "        vertical-align: top;\n",
              "    }\n",
              "\n",
              "    .dataframe thead th {\n",
              "        text-align: right;\n",
              "    }\n",
              "</style>\n",
              "<table border=\"1\" class=\"dataframe\">\n",
              "  <thead>\n",
              "    <tr style=\"text-align: right;\">\n",
              "      <th></th>\n",
              "      <th>key</th>\n",
              "      <th>fare_amount</th>\n",
              "      <th>pickup_datetime</th>\n",
              "      <th>pickup_longitude</th>\n",
              "      <th>pickup_latitude</th>\n",
              "      <th>dropoff_longitude</th>\n",
              "      <th>dropoff_latitude</th>\n",
              "      <th>passenger_count</th>\n",
              "    </tr>\n",
              "  </thead>\n",
              "  <tbody>\n",
              "    <tr>\n",
              "      <th>0</th>\n",
              "      <td>2012-01-13 11:28:00.00000062</td>\n",
              "      <td>14.9</td>\n",
              "      <td>2012-01-13 11:28:00 UTC</td>\n",
              "      <td>-73.955268</td>\n",
              "      <td>40.782767</td>\n",
              "      <td>-73.932382</td>\n",
              "      <td>40.794812</td>\n",
              "      <td>6</td>\n",
              "    </tr>\n",
              "    <tr>\n",
              "      <th>1</th>\n",
              "      <td>2014-06-30 11:26:37.0000001</td>\n",
              "      <td>6.0</td>\n",
              "      <td>2014-06-30 11:26:37 UTC</td>\n",
              "      <td>-73.995635</td>\n",
              "      <td>40.744387</td>\n",
              "      <td>-74.002325</td>\n",
              "      <td>40.730406</td>\n",
              "      <td>1</td>\n",
              "    </tr>\n",
              "    <tr>\n",
              "      <th>2</th>\n",
              "      <td>2012-04-08 13:42:13.0000001</td>\n",
              "      <td>5.3</td>\n",
              "      <td>2012-04-08 13:42:13 UTC</td>\n",
              "      <td>-73.992020</td>\n",
              "      <td>40.731651</td>\n",
              "      <td>-74.003277</td>\n",
              "      <td>40.731583</td>\n",
              "      <td>1</td>\n",
              "    </tr>\n",
              "    <tr>\n",
              "      <th>3</th>\n",
              "      <td>2009-08-18 11:18:00.000000117</td>\n",
              "      <td>6.9</td>\n",
              "      <td>2009-08-18 11:18:00 UTC</td>\n",
              "      <td>-73.993190</td>\n",
              "      <td>40.744670</td>\n",
              "      <td>-73.978242</td>\n",
              "      <td>40.752835</td>\n",
              "      <td>1</td>\n",
              "    </tr>\n",
              "    <tr>\n",
              "      <th>4</th>\n",
              "      <td>2013-04-30 08:00:00.000000137</td>\n",
              "      <td>7.5</td>\n",
              "      <td>2013-04-30 08:00:00 UTC</td>\n",
              "      <td>-73.992223</td>\n",
              "      <td>40.748710</td>\n",
              "      <td>-73.998547</td>\n",
              "      <td>40.758332</td>\n",
              "      <td>1</td>\n",
              "    </tr>\n",
              "  </tbody>\n",
              "</table>\n",
              "</div>"
            ],
            "text/plain": [
              "                             key  ...  passenger_count\n",
              "0   2012-01-13 11:28:00.00000062  ...                6\n",
              "1    2014-06-30 11:26:37.0000001  ...                1\n",
              "2    2012-04-08 13:42:13.0000001  ...                1\n",
              "3  2009-08-18 11:18:00.000000117  ...                1\n",
              "4  2013-04-30 08:00:00.000000137  ...                1\n",
              "\n",
              "[5 rows x 8 columns]"
            ]
          },
          "metadata": {
            "tags": []
          },
          "execution_count": 40
        }
      ]
    },
    {
      "cell_type": "code",
      "metadata": {
        "id": "C-SGSDGDUgy7"
      },
      "source": [
        "#dropping null rows\n",
        "df=df.dropna()"
      ],
      "execution_count": null,
      "outputs": []
    },
    {
      "cell_type": "code",
      "metadata": {
        "id": "jm4mNaLdUhlt"
      },
      "source": [
        "#dropping rows where the fare is below 0 and above 200 considering it as outlier, however only one row is present\n",
        "df = df.drop(df[df['fare_amount'] < 0].index)\n",
        "df = df.drop(df[df['fare_amount'] >200].index)"
      ],
      "execution_count": null,
      "outputs": []
    },
    {
      "cell_type": "code",
      "metadata": {
        "colab": {
          "base_uri": "https://localhost:8080/",
          "height": 79
        },
        "id": "ROWhpCdwU0Dk",
        "outputId": "9b1e5b67-fea9-409b-c62d-358010a0d590"
      },
      "source": [
        "#distribution of fare amount\n",
        "plt.figure(figsize=(15, 8))\n",
        "sns.distplot(df['fare_amount'])"
      ],
      "execution_count": null,
      "outputs": [
        {
          "output_type": "execute_result",
          "data": {
            "text/plain": [
              "<matplotlib.axes._subplots.AxesSubplot at 0x7eff8930bb50>"
            ]
          },
          "metadata": {
            "tags": []
          },
          "execution_count": 43
        },
        {
          "output_type": "display_data",
          "data": {
            "image/png": "[encoded data removed]",
            "text/plain": [
              "<Figure size 1080x576 with 1 Axes>"
            ]
          },
          "metadata": {
            "tags": []
          }
        }
      ]
    },
    {
      "cell_type": "code",
      "metadata": {
        "colab": {
          "base_uri": "https://localhost:8080/",
          "height": 79
        },
        "id": "-iWJ4mGHVmGb",
        "outputId": "c4cd5ca9-b511-44e9-ac07-f650450efef1"
      },
      "source": [
        "#distribution of rows with passengercount\n",
        "df.passenger_count.hist(bins=10, figsize = (16,8))\n",
        "plt.xlabel(\"Passanger Count\")\n",
        "plt.ylabel(\"Frequency\")"
      ],
      "execution_count": null,
      "outputs": [
        {
          "output_type": "execute_result",
          "data": {
            "text/plain": [
              "Text(0, 0.5, 'Frequency')"
            ]
          },
          "metadata": {
            "tags": []
          },
          "execution_count": 44
        },
        {
          "output_type": "display_data",
          "data": {
            "image/png": "[encoded data removed]",
            "text/plain": [
              "<Figure size 1152x576 with 1 Axes>"
            ]
          },
          "metadata": {
            "tags": []
          }
        }
      ]
    },
    {
      "cell_type": "code",
      "metadata": {
        "colab": {
          "base_uri": "https://localhost:8080/"
        },
        "id": "SiIrDCCYV1ga",
        "outputId": "94c7900e-866f-438f-b3fc-1333acf65b8d"
      },
      "source": [
        "#Rows with passenger 0 or below which are senseless\n",
        "df[df.passenger_count ==0].shape"
      ],
      "execution_count": null,
      "outputs": [
        {
          "output_type": "execute_result",
          "data": {
            "text/plain": [
              "(333, 8)"
            ]
          },
          "metadata": {
            "tags": []
          },
          "execution_count": 45
        }
      ]
    },
    {
      "cell_type": "code",
      "metadata": {
        "id": "LtEIfDyKWEDb"
      },
      "source": [
        "df=df.drop(df[df['passenger_count'] ==0].index)"
      ],
      "execution_count": null,
      "outputs": []
    },
    {
      "cell_type": "code",
      "metadata": {
        "colab": {
          "base_uri": "https://localhost:8080/",
          "height": 79
        },
        "id": "p50JfxlxYg3Z",
        "outputId": "693058c3-72cc-4a2c-dbbc-1e8dbf4a3dae"
      },
      "source": [
        "#distribution of rows with fare amount \n",
        "df.fare_amount.hist(bins=10, figsize = (16,8))\n",
        "plt.xlabel(\"Passanger Count\")\n",
        "plt.ylabel(\"Frequency\")"
      ],
      "execution_count": null,
      "outputs": [
        {
          "output_type": "execute_result",
          "data": {
            "text/plain": [
              "Text(0, 0.5, 'Frequency')"
            ]
          },
          "metadata": {
            "tags": []
          },
          "execution_count": 47
        },
        {
          "output_type": "display_data",
          "data": {
            "image/png": "[encoded data removed]",
            "text/plain": [
              "<Figure size 1152x576 with 1 Axes>"
            ]
          },
          "metadata": {
            "tags": []
          }
        }
      ]
    },
    {
      "cell_type": "code",
      "metadata": {
        "colab": {
          "base_uri": "https://localhost:8080/"
        },
        "id": "hf3JKTImYrhi",
        "outputId": "6d499b1b-b650-409b-a30d-f7c73fa831e9"
      },
      "source": [
        "#Rows with fare amount 0 \n",
        "df[df.fare_amount ==0].shape"
      ],
      "execution_count": null,
      "outputs": [
        {
          "output_type": "execute_result",
          "data": {
            "text/plain": [
              "(3, 8)"
            ]
          },
          "metadata": {
            "tags": []
          },
          "execution_count": 48
        }
      ]
    },
    {
      "cell_type": "code",
      "metadata": {
        "id": "1tSP1Vg6Yy1j"
      },
      "source": [
        "df=df.drop(df[df['fare_amount'] ==0].index)"
      ],
      "execution_count": null,
      "outputs": []
    },
    {
      "cell_type": "markdown",
      "metadata": {
        "id": "Dv10cghqWmMZ"
      },
      "source": [
        "## Feature engineering"
      ]
    },
    {
      "cell_type": "code",
      "metadata": {
        "id": "i-j0pj1JWsb-"
      },
      "source": [
        "#calculate distance covered in trip\n",
        "from math import sin, cos, sqrt, atan2, radians\n",
        "def Calculate_distance(lat1,lon1,lat2,lon2):\n",
        "  # approximate radius of earth in km\n",
        "  R = 6373.0\n",
        "  dlon=lon2-lon1\n",
        "  dlat=lat2-lat1\n",
        "  a=sin(dlat / 2)**2 + cos(lat1) * cos(lat2) * sin(dlon / 2)**2 \n",
        "  c = 2 * atan2(sqrt(a), sqrt(1 - a))\n",
        "  d=R*c\n",
        "  return d \n",
        "\n",
        "\n",
        "distances_km=[]\n",
        "for row in df.itertuples(index=False):\n",
        "  distances_km.append(Calculate_distance(row.pickup_latitude, row.pickup_longitude, row.dropoff_latitude, row.dropoff_longitude))\n",
        "df['trip_distance_km']=distances_km"
      ],
      "execution_count": null,
      "outputs": []
    },
    {
      "cell_type": "code",
      "metadata": {
        "id": "kb9lP3heW9Gk"
      },
      "source": [
        "#extarct datetime features\n",
        "def Extract_datetime_features(df):\n",
        "    df['pickup_datetime'] = df['pickup_datetime'].str.slice(0, 16)\n",
        "    df['pickup_datetime'] = pd.to_datetime(df['pickup_datetime'], utc=True, format='%Y-%m-%d %H:%M')\n",
        "    df['hour'] = df.pickup_datetime.dt.hour\n",
        "    df['month'] = df.pickup_datetime.dt.month\n",
        "    df[\"year\"] = df.pickup_datetime.dt.year\n",
        "    df[\"day\"] = df.pickup_datetime.dt.weekday\n",
        "    return df\n",
        "df = Extract_datetime_features(df)"
      ],
      "execution_count": null,
      "outputs": []
    },
    {
      "cell_type": "code",
      "metadata": {
        "id": "fRw-WcFmXz_E"
      },
      "source": [
        "#dropping unnecessary rows\n",
        "df=df.drop(columns=['key','pickup_datetime'])"
      ],
      "execution_count": null,
      "outputs": []
    },
    {
      "cell_type": "code",
      "metadata": {
        "colab": {
          "base_uri": "https://localhost:8080/"
        },
        "id": "-Ert1DeTWoEa",
        "outputId": "589b93bf-6310-47d7-bdd1-51a766c55a57"
      },
      "source": [
        "from sklearn.model_selection import train_test_split \n",
        "X_train, X_test, y_train, y_test = train_test_split(df.drop('fare_amount', axis=1),\n",
        "                                                    df['fare_amount'], test_size=0.2, random_state = 42)\n",
        "print(X_train.shape)\n",
        "print(X_test.shape)\n",
        "print(y_train.shape)\n",
        "print(y_test.shape)"
      ],
      "execution_count": null,
      "outputs": [
        {
          "output_type": "stream",
          "text": [
            "(79726, 10)\n",
            "(19932, 10)\n",
            "(79726,)\n",
            "(19932,)\n"
          ],
          "name": "stdout"
        }
      ]
    },
    {
      "cell_type": "markdown",
      "metadata": {
        "id": "3dKPEIsdXKdO"
      },
      "source": [
        "## Model"
      ]
    },
    {
      "cell_type": "code",
      "metadata": {
        "colab": {
          "base_uri": "https://localhost:8080/"
        },
        "id": "Ql0Wk5nPXKGe",
        "outputId": "ff1c335b-7a22-4702-8fe7-08b21500f1f4"
      },
      "source": [
        "import xgboost as xgb\n",
        "params = {\n",
        "   \n",
        "    'max_depth': 7,\n",
        "    'gamma' :0,\n",
        "    'eta':.03, \n",
        "    'subsample': 1,\n",
        "    'colsample_bytree': 0.9, \n",
        "    'objective':'reg:linear',\n",
        "    'eval_metric':'rmse',\n",
        "    'silent': 0\n",
        "}\n",
        "def XGBmodel(X_train,X_test,y_train,y_test,params):\n",
        "    matrix_train = xgb.DMatrix(X_train,label=y_train)\n",
        "    matrix_test = xgb.DMatrix(X_test,label=y_test)\n",
        "    model=xgb.train(params=params,\n",
        "                    dtrain=matrix_train,num_boost_round=5000, \n",
        "                    early_stopping_rounds=10,evals=[(matrix_test,'test')])\n",
        "    return model\n",
        "\n",
        "model = XGBmodel(X_train,X_test,y_train,y_test,params)"
      ],
      "execution_count": null,
      "outputs": [
        {
          "output_type": "stream",
          "text": [
            "[01:01:25] WARNING: /workspace/src/objective/regression_obj.cu:152: reg:linear is now deprecated in favor of reg:squarederror.\n",
            "[0]\ttest-rmse:14.2695\n",
            "Will train until test-rmse hasn't improved in 10 rounds.\n",
            "[1]\ttest-rmse:13.8916\n",
            "[2]\ttest-rmse:13.5256\n",
            "[3]\ttest-rmse:13.1724\n",
            "[4]\ttest-rmse:12.8307\n",
            "[5]\ttest-rmse:12.5009\n",
            "[6]\ttest-rmse:12.1817\n",
            "[7]\ttest-rmse:11.8727\n",
            "[8]\ttest-rmse:11.5729\n",
            "[9]\ttest-rmse:11.2878\n",
            "[10]\ttest-rmse:11.0099\n",
            "[11]\ttest-rmse:10.7412\n",
            "[12]\ttest-rmse:10.4808\n",
            "[13]\ttest-rmse:10.2308\n",
            "[14]\ttest-rmse:10.0092\n",
            "[15]\ttest-rmse:9.77599\n",
            "[16]\ttest-rmse:9.55088\n",
            "[17]\ttest-rmse:9.33526\n",
            "[18]\ttest-rmse:9.12665\n",
            "[19]\ttest-rmse:8.9261\n",
            "[20]\ttest-rmse:8.73584\n",
            "[21]\ttest-rmse:8.54895\n",
            "[22]\ttest-rmse:8.37237\n",
            "[23]\ttest-rmse:8.20192\n",
            "[24]\ttest-rmse:8.03449\n",
            "[25]\ttest-rmse:7.87746\n",
            "[26]\ttest-rmse:7.72438\n",
            "[27]\ttest-rmse:7.5802\n",
            "[28]\ttest-rmse:7.4398\n",
            "[29]\ttest-rmse:7.30468\n",
            "[30]\ttest-rmse:7.17616\n",
            "[31]\ttest-rmse:7.0514\n",
            "[32]\ttest-rmse:6.93479\n",
            "[33]\ttest-rmse:6.82005\n",
            "[34]\ttest-rmse:6.71407\n",
            "[35]\ttest-rmse:6.60959\n",
            "[36]\ttest-rmse:6.51061\n",
            "[37]\ttest-rmse:6.41309\n",
            "[38]\ttest-rmse:6.32334\n",
            "[39]\ttest-rmse:6.23536\n",
            "[40]\ttest-rmse:6.1545\n",
            "[41]\ttest-rmse:6.07384\n",
            "[42]\ttest-rmse:6.00317\n",
            "[43]\ttest-rmse:5.93218\n",
            "[44]\ttest-rmse:5.8648\n",
            "[45]\ttest-rmse:5.79765\n",
            "[46]\ttest-rmse:5.7337\n",
            "[47]\ttest-rmse:5.67594\n",
            "[48]\ttest-rmse:5.61901\n",
            "[49]\ttest-rmse:5.5641\n",
            "[50]\ttest-rmse:5.51453\n",
            "[51]\ttest-rmse:5.46724\n",
            "[52]\ttest-rmse:5.4224\n",
            "[53]\ttest-rmse:5.37707\n",
            "[54]\ttest-rmse:5.33478\n",
            "[55]\ttest-rmse:5.29591\n",
            "[56]\ttest-rmse:5.25852\n",
            "[57]\ttest-rmse:5.22375\n",
            "[58]\ttest-rmse:5.19012\n",
            "[59]\ttest-rmse:5.15778\n",
            "[60]\ttest-rmse:5.12517\n",
            "[61]\ttest-rmse:5.09444\n",
            "[62]\ttest-rmse:5.06674\n",
            "[63]\ttest-rmse:5.04248\n",
            "[64]\ttest-rmse:5.01713\n",
            "[65]\ttest-rmse:4.9941\n",
            "[66]\ttest-rmse:4.97068\n",
            "[67]\ttest-rmse:4.94784\n",
            "[68]\ttest-rmse:4.92797\n",
            "[69]\ttest-rmse:4.91073\n",
            "[70]\ttest-rmse:4.89403\n",
            "[71]\ttest-rmse:4.87481\n",
            "[72]\ttest-rmse:4.85748\n",
            "[73]\ttest-rmse:4.84002\n",
            "[74]\ttest-rmse:4.82293\n",
            "[75]\ttest-rmse:4.80675\n",
            "[76]\ttest-rmse:4.79448\n",
            "[77]\ttest-rmse:4.78014\n",
            "[78]\ttest-rmse:4.76705\n",
            "[79]\ttest-rmse:4.75531\n",
            "[80]\ttest-rmse:4.74388\n",
            "[81]\ttest-rmse:4.73135\n",
            "[82]\ttest-rmse:4.72088\n",
            "[83]\ttest-rmse:4.71209\n",
            "[84]\ttest-rmse:4.70097\n",
            "[85]\ttest-rmse:4.69146\n",
            "[86]\ttest-rmse:4.6835\n",
            "[87]\ttest-rmse:4.67687\n",
            "[88]\ttest-rmse:4.66785\n",
            "[89]\ttest-rmse:4.66072\n",
            "[90]\ttest-rmse:4.65614\n",
            "[91]\ttest-rmse:4.64987\n",
            "[92]\ttest-rmse:4.6444\n",
            "[93]\ttest-rmse:4.63905\n",
            "[94]\ttest-rmse:4.63408\n",
            "[95]\ttest-rmse:4.62789\n",
            "[96]\ttest-rmse:4.62327\n",
            "[97]\ttest-rmse:4.6177\n",
            "[98]\ttest-rmse:4.61418\n",
            "[99]\ttest-rmse:4.61076\n",
            "[100]\ttest-rmse:4.60614\n",
            "[101]\ttest-rmse:4.60173\n",
            "[102]\ttest-rmse:4.59805\n",
            "[103]\ttest-rmse:4.59534\n",
            "[104]\ttest-rmse:4.59372\n",
            "[105]\ttest-rmse:4.59084\n",
            "[106]\ttest-rmse:4.58752\n",
            "[107]\ttest-rmse:4.58422\n",
            "[108]\ttest-rmse:4.58147\n",
            "[109]\ttest-rmse:4.57897\n",
            "[110]\ttest-rmse:4.57713\n",
            "[111]\ttest-rmse:4.5744\n",
            "[112]\ttest-rmse:4.5724\n",
            "[113]\ttest-rmse:4.57068\n",
            "[114]\ttest-rmse:4.56891\n",
            "[115]\ttest-rmse:4.56585\n",
            "[116]\ttest-rmse:4.56284\n",
            "[117]\ttest-rmse:4.56005\n",
            "[118]\ttest-rmse:4.55909\n",
            "[119]\ttest-rmse:4.55643\n",
            "[120]\ttest-rmse:4.55479\n",
            "[121]\ttest-rmse:4.55157\n",
            "[122]\ttest-rmse:4.55015\n",
            "[123]\ttest-rmse:4.54866\n",
            "[124]\ttest-rmse:4.54705\n",
            "[125]\ttest-rmse:4.54529\n",
            "[126]\ttest-rmse:4.54403\n",
            "[127]\ttest-rmse:4.54185\n",
            "[128]\ttest-rmse:4.54074\n",
            "[129]\ttest-rmse:4.53963\n",
            "[130]\ttest-rmse:4.53923\n",
            "[131]\ttest-rmse:4.538\n",
            "[132]\ttest-rmse:4.53745\n",
            "[133]\ttest-rmse:4.53507\n",
            "[134]\ttest-rmse:4.53298\n",
            "[135]\ttest-rmse:4.53111\n",
            "[136]\ttest-rmse:4.52978\n",
            "[137]\ttest-rmse:4.52979\n",
            "[138]\ttest-rmse:4.5281\n",
            "[139]\ttest-rmse:4.52631\n",
            "[140]\ttest-rmse:4.52587\n",
            "[141]\ttest-rmse:4.52478\n",
            "[142]\ttest-rmse:4.52367\n",
            "[143]\ttest-rmse:4.52381\n",
            "[144]\ttest-rmse:4.52233\n",
            "[145]\ttest-rmse:4.52162\n",
            "[146]\ttest-rmse:4.51948\n",
            "[147]\ttest-rmse:4.5191\n",
            "[148]\ttest-rmse:4.51878\n",
            "[149]\ttest-rmse:4.51817\n",
            "[150]\ttest-rmse:4.51787\n",
            "[151]\ttest-rmse:4.51781\n",
            "[152]\ttest-rmse:4.51654\n",
            "[153]\ttest-rmse:4.51614\n",
            "[154]\ttest-rmse:4.51556\n",
            "[155]\ttest-rmse:4.51497\n",
            "[156]\ttest-rmse:4.51395\n",
            "[157]\ttest-rmse:4.51219\n",
            "[158]\ttest-rmse:4.51031\n",
            "[159]\ttest-rmse:4.50966\n",
            "[160]\ttest-rmse:4.50839\n",
            "[161]\ttest-rmse:4.5082\n",
            "[162]\ttest-rmse:4.50734\n",
            "[163]\ttest-rmse:4.50685\n",
            "[164]\ttest-rmse:4.50656\n",
            "[165]\ttest-rmse:4.50545\n",
            "[166]\ttest-rmse:4.50432\n",
            "[167]\ttest-rmse:4.50337\n",
            "[168]\ttest-rmse:4.50228\n",
            "[169]\ttest-rmse:4.50216\n",
            "[170]\ttest-rmse:4.50118\n",
            "[171]\ttest-rmse:4.5008\n",
            "[172]\ttest-rmse:4.49996\n",
            "[173]\ttest-rmse:4.49938\n",
            "[174]\ttest-rmse:4.49833\n",
            "[175]\ttest-rmse:4.49842\n",
            "[176]\ttest-rmse:4.49829\n",
            "[177]\ttest-rmse:4.49809\n",
            "[178]\ttest-rmse:4.49754\n",
            "[179]\ttest-rmse:4.4958\n",
            "[180]\ttest-rmse:4.49566\n",
            "[181]\ttest-rmse:4.49458\n",
            "[182]\ttest-rmse:4.49408\n",
            "[183]\ttest-rmse:4.49398\n",
            "[184]\ttest-rmse:4.49388\n",
            "[185]\ttest-rmse:4.49296\n",
            "[186]\ttest-rmse:4.49211\n",
            "[187]\ttest-rmse:4.4912\n",
            "[188]\ttest-rmse:4.49096\n",
            "[189]\ttest-rmse:4.49054\n",
            "[190]\ttest-rmse:4.49039\n",
            "[191]\ttest-rmse:4.49016\n",
            "[192]\ttest-rmse:4.49019\n",
            "[193]\ttest-rmse:4.49063\n",
            "[194]\ttest-rmse:4.49035\n",
            "[195]\ttest-rmse:4.48958\n",
            "[196]\ttest-rmse:4.48924\n",
            "[197]\ttest-rmse:4.48969\n",
            "[198]\ttest-rmse:4.48817\n",
            "[199]\ttest-rmse:4.48792\n",
            "[200]\ttest-rmse:4.4877\n",
            "[201]\ttest-rmse:4.48648\n",
            "[202]\ttest-rmse:4.48615\n",
            "[203]\ttest-rmse:4.48527\n",
            "[204]\ttest-rmse:4.48547\n",
            "[205]\ttest-rmse:4.48538\n",
            "[206]\ttest-rmse:4.48592\n",
            "[207]\ttest-rmse:4.48551\n",
            "[208]\ttest-rmse:4.48458\n",
            "[209]\ttest-rmse:4.48468\n",
            "[210]\ttest-rmse:4.48435\n",
            "[211]\ttest-rmse:4.48358\n",
            "[212]\ttest-rmse:4.48329\n",
            "[213]\ttest-rmse:4.48367\n",
            "[214]\ttest-rmse:4.48376\n",
            "[215]\ttest-rmse:4.48402\n",
            "[216]\ttest-rmse:4.48329\n",
            "[217]\ttest-rmse:4.48232\n",
            "[218]\ttest-rmse:4.48241\n",
            "[219]\ttest-rmse:4.48234\n",
            "[220]\ttest-rmse:4.4824\n",
            "[221]\ttest-rmse:4.48147\n",
            "[222]\ttest-rmse:4.48138\n",
            "[223]\ttest-rmse:4.48134\n",
            "[224]\ttest-rmse:4.48066\n",
            "[225]\ttest-rmse:4.48014\n",
            "[226]\ttest-rmse:4.48031\n",
            "[227]\ttest-rmse:4.47995\n",
            "[228]\ttest-rmse:4.47996\n",
            "[229]\ttest-rmse:4.48028\n",
            "[230]\ttest-rmse:4.48087\n",
            "[231]\ttest-rmse:4.48036\n",
            "[232]\ttest-rmse:4.47956\n",
            "[233]\ttest-rmse:4.4791\n",
            "[234]\ttest-rmse:4.47849\n",
            "[235]\ttest-rmse:4.47807\n",
            "[236]\ttest-rmse:4.47764\n",
            "[237]\ttest-rmse:4.47796\n",
            "[238]\ttest-rmse:4.47745\n",
            "[239]\ttest-rmse:4.47725\n",
            "[240]\ttest-rmse:4.47725\n",
            "[241]\ttest-rmse:4.47744\n",
            "[242]\ttest-rmse:4.47665\n",
            "[243]\ttest-rmse:4.4767\n",
            "[244]\ttest-rmse:4.47706\n",
            "[245]\ttest-rmse:4.47694\n",
            "[246]\ttest-rmse:4.47664\n",
            "[247]\ttest-rmse:4.47584\n",
            "[248]\ttest-rmse:4.47563\n",
            "[249]\ttest-rmse:4.4757\n",
            "[250]\ttest-rmse:4.47541\n",
            "[251]\ttest-rmse:4.47547\n",
            "[252]\ttest-rmse:4.47498\n",
            "[253]\ttest-rmse:4.47446\n",
            "[254]\ttest-rmse:4.47493\n",
            "[255]\ttest-rmse:4.47549\n",
            "[256]\ttest-rmse:4.4756\n",
            "[257]\ttest-rmse:4.47559\n",
            "[258]\ttest-rmse:4.47539\n",
            "[259]\ttest-rmse:4.47539\n",
            "[260]\ttest-rmse:4.47541\n",
            "[261]\ttest-rmse:4.47403\n",
            "[262]\ttest-rmse:4.474\n",
            "[263]\ttest-rmse:4.47368\n",
            "[264]\ttest-rmse:4.47286\n",
            "[265]\ttest-rmse:4.47311\n",
            "[266]\ttest-rmse:4.47255\n",
            "[267]\ttest-rmse:4.47211\n",
            "[268]\ttest-rmse:4.47212\n",
            "[269]\ttest-rmse:4.47187\n",
            "[270]\ttest-rmse:4.47222\n",
            "[271]\ttest-rmse:4.47204\n",
            "[272]\ttest-rmse:4.4708\n",
            "[273]\ttest-rmse:4.4708\n",
            "[274]\ttest-rmse:4.47017\n",
            "[275]\ttest-rmse:4.46949\n",
            "[276]\ttest-rmse:4.46924\n",
            "[277]\ttest-rmse:4.46919\n",
            "[278]\ttest-rmse:4.46864\n",
            "[279]\ttest-rmse:4.46781\n",
            "[280]\ttest-rmse:4.46775\n",
            "[281]\ttest-rmse:4.46686\n",
            "[282]\ttest-rmse:4.46718\n",
            "[283]\ttest-rmse:4.46752\n",
            "[284]\ttest-rmse:4.46759\n",
            "[285]\ttest-rmse:4.46683\n",
            "[286]\ttest-rmse:4.46659\n",
            "[287]\ttest-rmse:4.46608\n",
            "[288]\ttest-rmse:4.46645\n",
            "[289]\ttest-rmse:4.46633\n",
            "[290]\ttest-rmse:4.46598\n",
            "[291]\ttest-rmse:4.46562\n",
            "[292]\ttest-rmse:4.46549\n",
            "[293]\ttest-rmse:4.46602\n",
            "[294]\ttest-rmse:4.46557\n",
            "[295]\ttest-rmse:4.46597\n",
            "[296]\ttest-rmse:4.46612\n",
            "[297]\ttest-rmse:4.46582\n",
            "[298]\ttest-rmse:4.46578\n",
            "[299]\ttest-rmse:4.46543\n",
            "[300]\ttest-rmse:4.46587\n",
            "[301]\ttest-rmse:4.46466\n",
            "[302]\ttest-rmse:4.46464\n",
            "[303]\ttest-rmse:4.46443\n",
            "[304]\ttest-rmse:4.46428\n",
            "[305]\ttest-rmse:4.46394\n",
            "[306]\ttest-rmse:4.46415\n",
            "[307]\ttest-rmse:4.46403\n",
            "[308]\ttest-rmse:4.46303\n",
            "[309]\ttest-rmse:4.4628\n",
            "[310]\ttest-rmse:4.4627\n",
            "[311]\ttest-rmse:4.46254\n",
            "[312]\ttest-rmse:4.46224\n",
            "[313]\ttest-rmse:4.46313\n",
            "[314]\ttest-rmse:4.46336\n",
            "[315]\ttest-rmse:4.46325\n",
            "[316]\ttest-rmse:4.46329\n",
            "[317]\ttest-rmse:4.46246\n",
            "[318]\ttest-rmse:4.46277\n",
            "[319]\ttest-rmse:4.46287\n",
            "[320]\ttest-rmse:4.46248\n",
            "[321]\ttest-rmse:4.46269\n",
            "[322]\ttest-rmse:4.4622\n",
            "[323]\ttest-rmse:4.46211\n",
            "[324]\ttest-rmse:4.462\n",
            "[325]\ttest-rmse:4.46106\n",
            "[326]\ttest-rmse:4.4612\n",
            "[327]\ttest-rmse:4.46129\n",
            "[328]\ttest-rmse:4.46118\n",
            "[329]\ttest-rmse:4.46139\n",
            "[330]\ttest-rmse:4.46105\n",
            "[331]\ttest-rmse:4.46142\n",
            "[332]\ttest-rmse:4.46136\n",
            "[333]\ttest-rmse:4.46125\n",
            "[334]\ttest-rmse:4.46127\n",
            "[335]\ttest-rmse:4.46124\n",
            "[336]\ttest-rmse:4.46079\n",
            "[337]\ttest-rmse:4.46078\n",
            "[338]\ttest-rmse:4.46096\n",
            "[339]\ttest-rmse:4.46055\n",
            "[340]\ttest-rmse:4.46016\n",
            "[341]\ttest-rmse:4.46001\n",
            "[342]\ttest-rmse:4.46002\n",
            "[343]\ttest-rmse:4.45969\n",
            "[344]\ttest-rmse:4.45941\n",
            "[345]\ttest-rmse:4.45899\n",
            "[346]\ttest-rmse:4.45826\n",
            "[347]\ttest-rmse:4.45803\n",
            "[348]\ttest-rmse:4.45798\n",
            "[349]\ttest-rmse:4.45793\n",
            "[350]\ttest-rmse:4.458\n",
            "[351]\ttest-rmse:4.45765\n",
            "[352]\ttest-rmse:4.45769\n",
            "[353]\ttest-rmse:4.45761\n",
            "[354]\ttest-rmse:4.4574\n",
            "[355]\ttest-rmse:4.45829\n",
            "[356]\ttest-rmse:4.45804\n",
            "[357]\ttest-rmse:4.45811\n",
            "[358]\ttest-rmse:4.45779\n",
            "[359]\ttest-rmse:4.45765\n",
            "[360]\ttest-rmse:4.45804\n",
            "[361]\ttest-rmse:4.45827\n",
            "[362]\ttest-rmse:4.4584\n",
            "[363]\ttest-rmse:4.4583\n",
            "[364]\ttest-rmse:4.45819\n",
            "Stopping. Best iteration:\n",
            "[354]\ttest-rmse:4.4574\n",
            "\n"
          ],
          "name": "stdout"
        }
      ]
    }
  ]
}