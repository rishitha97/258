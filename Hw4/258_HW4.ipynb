{
  "nbformat": 4,
  "nbformat_minor": 0,
  "metadata": {
    "colab": {
      "name": "258 HW4.ipynb",
      "provenance": [],
      "collapsed_sections": []
    },
    "kernelspec": {
      "name": "python3",
      "display_name": "Python 3"
    },
    "language_info": {
      "name": "python"
    }
  },
  "cells": [
    {
      "cell_type": "code",
      "metadata": {
        "id": "ebO_CZ6w6Jd-",
        "colab": {
          "base_uri": "https://localhost:8080/"
        },
        "outputId": "a1212a49-bd4f-493a-fe4b-c3cc259ae88c"
      },
      "source": [
        "#load mnist dataset\n",
        "from keras.datasets import mnist\n",
        "import sys\n",
        "import numpy as np\n",
        "(trainX,trainy),(testX,testy)=mnist.load_data()"
      ],
      "execution_count": 1,
      "outputs": [
        {
          "output_type": "stream",
          "text": [
            "Downloading data from https://storage.googleapis.com/tensorflow/tf-keras-datasets/mnist.npz\n",
            "11493376/11490434 [==============================] - 0s 0us/step\n"
          ],
          "name": "stdout"
        }
      ]
    },
    {
      "cell_type": "code",
      "metadata": {
        "colab": {
          "base_uri": "https://localhost:8080/"
        },
        "id": "LhkN5GUZ6eWu",
        "outputId": "fb0f1949-47a5-4fe4-8c61-66109d9ab791"
      },
      "source": [
        "#loaded dataset summary\n",
        "print(trainX.shape, trainy.shape)\n",
        "print(testX.shape,testy.shape)"
      ],
      "execution_count": 2,
      "outputs": [
        {
          "output_type": "stream",
          "text": [
            "(60000, 28, 28) (60000,)\n",
            "(10000, 28, 28) (10000,)\n"
          ],
          "name": "stdout"
        }
      ]
    },
    {
      "cell_type": "code",
      "metadata": {
        "id": "ClaVXG8D7LY5"
      },
      "source": [
        "#one hot encoding the labels \n",
        "one_hot=np.zeros((len(trainy),10))\n",
        "for a,b in enumerate(trainy):\n",
        "  one_hot[a][b]=1\n",
        "trainy=one_hot\n",
        "test_labels=np.zeros((len(testy),10))\n",
        "for a,b in enumerate(testy):\n",
        "  test_labels[a][b]=1"
      ],
      "execution_count": 3,
      "outputs": []
    },
    {
      "cell_type": "code",
      "metadata": {
        "colab": {
          "base_uri": "https://localhost:8080/"
        },
        "id": "-O9Rqx2oplGo",
        "outputId": "c3137800-0608-4e13-9e06-542578536a9f"
      },
      "source": [
        "#reshaping the numpy array as image generator iterator needs numpy array of rank 4 \n",
        "trainx=trainX.reshape(trainX.shape[0],trainX.shape[1],trainX.shape[2],1)\n",
        "#trainx=trainX.reshape(-1,28,28,1)\n",
        "print(\"train data before and after reshaping:\",trainX.shape,trainx.shape)\n",
        "testx=testX.reshape(testX.shape[0],testX.shape[1],testX.shape[2],1)\n",
        "print(\"test data before and after reshaping:\",testX.shape,testx.shape)"
      ],
      "execution_count": 4,
      "outputs": [
        {
          "output_type": "stream",
          "text": [
            "train data before and after reshaping: (60000, 28, 28) (60000, 28, 28, 1)\n",
            "test data before and after reshaping: (10000, 28, 28) (10000, 28, 28, 1)\n"
          ],
          "name": "stdout"
        }
      ]
    },
    {
      "cell_type": "code",
      "metadata": {
        "id": "RokSsNkV5IBM"
      },
      "source": [
        "#define sigmoid function and its derivative\n",
        "def sigmoid(x):\n",
        "  return 1/(np.exp(-x)+1)\n",
        "\n",
        "def sigmoid_gradient(x):\n",
        "  t=sigmoid(x)\n",
        "  return t*(1-t)\n"
      ],
      "execution_count": 5,
      "outputs": []
    },
    {
      "cell_type": "code",
      "metadata": {
        "id": "kBfqZl8mw8rC"
      },
      "source": [
        "#define relu activation function and its derivative\n",
        "def relu(x):\n",
        "  return np.maximum(x,0)\n",
        "\n",
        "def relu_gradient(x):\n",
        "  return (x>0).astype(int)"
      ],
      "execution_count": 6,
      "outputs": []
    },
    {
      "cell_type": "code",
      "metadata": {
        "id": "aY96gvXd6ljr"
      },
      "source": [
        "#define softmax function and its derivative function\n",
        "def softmax(x):\n",
        "  e=np.exp(x-x.max())\n",
        "  return e/np.sum(e,axis=0)\n",
        "\n",
        "def softmax_gradient(x):\n",
        "  e=np.exp(x-x.max())\n",
        "  return e/np.sum(e,axis=0) * ((1-e)/np.sum(e,axis=0))\n",
        "\n"
      ],
      "execution_count": 7,
      "outputs": []
    },
    {
      "cell_type": "code",
      "metadata": {
        "id": "wgupFkpsbUXn"
      },
      "source": [
        "#initialising weights for 3 layers\n",
        "w1=0.2*np.random.randn(784,128)*np.sqrt(1/128)\n",
        "w2=0.2*np.random.randn(128,64)*np.sqrt(1/64)\n",
        "w3=0.2*np.random.randn(64,10)*np.sqrt(1/10)\n"
      ],
      "execution_count": 8,
      "outputs": []
    },
    {
      "cell_type": "code",
      "metadata": {
        "id": "6TWqFmgAgDyg"
      },
      "source": [
        "#Initialising image data generator to normalise the input data and apply augmentation techniques\n",
        "from keras.preprocessing.image import ImageDataGenerator\n",
        "generator=ImageDataGenerator(featurewise_center=True,featurewise_std_normalization=True,zoom_range=0.12,width_shift_range=0.12,height_shift_range=0.12, rescale=1/255)\n",
        "generator.fit(trainx)\n",
        "#generator.fit(testx)\n",
        "#train=generator.flow(trainx,trainy,batch_size=128)\n",
        "#test=generator.flow(testx,testy,batch_size=128)\n",
        "\n",
        "\n"
      ],
      "execution_count": 9,
      "outputs": []
    },
    {
      "cell_type": "code",
      "metadata": {
        "colab": {
          "base_uri": "https://localhost:8080/"
        },
        "id": "8TSTl3iUNx2M",
        "outputId": "00bcb3c4-4b5b-41b7-d659-f0e326ca723e"
      },
      "source": [
        "#considering just 100 iterations as colab is crashing if more number are considered",
        "for iterations in range(100):\n",
        "  error=0\n",
        "  count=0\n",
        "  bias=0.001\n",
        "  batches=0\n",
        "  for x,y in generator.flow(trainx,trainy,batch_size=128):\n",
        "    if batches>10:\n",
        "      break\n",
        "    batches=batches+1\n",
        "    x.shape=(128,784)\n",
        "    z1=x.dot(w1)\n",
        "    #initilaising dropout layer to reduce the number of nodes\n",
        "    dropout_layer=np.random.randint(2,size=z1.shape)\n",
        "    a1=relu(z1)\n",
        "    d1=a1* dropout_layer * 2\n",
        "    z2=d1.dot(w2)\n",
        "    a2=relu(z2)\n",
        "    z3=a2.dot(w3)\n",
        "    error += np.sum((y - z3) ** 2)\n",
        "    for k in range(128):\n",
        "      count+=int(np.argmax(z3[k:k+1]))==np.argmax(y[k:k+1])\n",
        "      z3_gradient=(y-z3)/128\n",
        "      z2_gradient=z3_gradient.dot(w3.T)*relu_gradient(a2)\n",
        "      z1_gradient=z2_gradient.dot(w2.T)*relu_gradient(a1)\n",
        "      z1_gradient*=dropout_layer\n",
        "      #update weights\n",
        "      w1+=bias* x.T.dot(z1_gradient)\n",
        "      w2+=bias* a1.T.dot(z2_gradient)\n",
        "      w3+=bias* a2.T.dot(z3_gradient)\n",
        "  if(iterations%10==0):\n",
        "    test_err=0.0\n",
        "    test_crct=0\n",
        "\n",
        "    y_pred=[]\n",
        "    y_true=[]\n",
        "    test_img=testx.reshape(len(testx),28*28)/255\n",
        "    for i in range(len(test_img)):\n",
        "      l1=relu(np.dot(test_img[i:i+1],w1))\n",
        "      l2=np.dot(l1,w2)\n",
        "      l3=np.dot(l2,w3)\n",
        "\n",
        "      y_pred.append((np.argmax(l3))) \n",
        "      y_true.append(int(np.argmax(test_labels[i:i+1])))\n",
        "      test_err+=np.sum((test_labels[i:i+1] - l3)**2)\n",
        "      test_crct+=int(np.argmax(l3))==np.argmax(test_labels[i:i+1])\n",
        "    sys.stdout.write(\"\\n\"+ \"Iteration:\" + str(iterations) + \" Test-Error: \" + str(test_err/ float(len(test_img)))[0:5]+\" Test-Accuracy: \"+str(test_crct/ float(len(test_img)))+\" Train-Error: \"+str(error/ float(1000))[0:5] +\"Train-Accuracy:\"+str(count/ float(len(x))))\n",
        "\n",
        "\n",
        "\n"
      ],
      "execution_count": 10,
      "outputs": [
        {
          "output_type": "stream",
          "text": [
            "\n",
            "Iteration:0 Test-Error: 0.927 Test-Accuracy: 0.1579 Train-Error: 1.327Train-Accuracy:1.59375\n",
            "Iteration:10 Test-Error: 0.840 Test-Accuracy: 0.5078 Train-Error: 1.033Train-Accuracy:4.9140625\n",
            "Iteration:20 Test-Error: 0.800 Test-Accuracy: 0.565 Train-Error: 0.926Train-Accuracy:6.09375\n",
            "Iteration:30 Test-Error: 0.780 Test-Accuracy: 0.5512 Train-Error: 0.856Train-Accuracy:6.40625\n",
            "Iteration:40 Test-Error: 0.761 Test-Accuracy: 0.5337 Train-Error: 0.769Train-Accuracy:7.28125\n",
            "Iteration:50 Test-Error: 0.740 Test-Accuracy: 0.6907 Train-Error: 0.759Train-Accuracy:7.2265625\n",
            "Iteration:60 Test-Error: 0.738 Test-Accuracy: 0.6306 Train-Error: 0.722Train-Accuracy:7.5546875\n",
            "Iteration:70 Test-Error: 0.736 Test-Accuracy: 0.6982 Train-Error: 0.720Train-Accuracy:7.6796875\n",
            "Iteration:80 Test-Error: 0.723 Test-Accuracy: 0.7387 Train-Error: 0.656Train-Accuracy:8.171875\n",
            "Iteration:90 Test-Error: 0.711 Test-Accuracy: 0.7596 Train-Error: 0.655Train-Accuracy:8.1875"
          ],
          "name": "stdout"
        }
      ]
    },
    {
      "cell_type": "code",
      "metadata": {
        "id": "_qYdrsTvM65s"
      },
      "source": [
        "from sklearn.metrics import confusion_matrix\n",
        "import itertools\n",
        "import matplotlib.pyplot as plt\n",
        "def Confusion_matrix(cm,classes,normalize=False,title='confusion matrix of mnist',cmap=plt.cm.Greens):\n",
        "  plt.imshow(cm,interpolation='nearest',cmap=cmap)\n",
        "  plt.title(title)\n",
        "  plt.colorbar()\n",
        "  tick_marks=np.arange(len(classes))\n",
        "  plt.xticks(tick_marks,classes,rotation=45)\n",
        "  plt.yticks(tick_marks,classes)\n",
        "  threshold=cm.max() / 3.\n",
        "  for i,j in itertools.product(range(cm.shape[0]),range(cm.shape[1])):\n",
        "    plt.text(j,i,cm[i,j],horizontalalignment='center',color='white' if cm[i,j]>threshold else 'black')\n",
        "  \n",
        "  plt.tight_layout()\n",
        "  plt.ylabel('True')\n",
        "  plt.xlabel('Predicted')"
      ],
      "execution_count": 31,
      "outputs": []
    },
    {
      "cell_type": "code",
      "metadata": {
        "id": "h9PpuX8XORMF",
        "colab": {
          "base_uri": "https://localhost:8080/",
          "height": 311
        },
        "outputId": "2d3fec19-f0f8-4cee-f472-17ea725d35a6"
      },
      "source": [
        "confusion_matrix=confusion_matrix(y_true,y_pred)\n",
        "Confusion_matrix(confusion_matrix,classes=range(10))"
      ],
      "execution_count": 32,
      "outputs": [
        {
          "output_type": "display_data",
          "data": {
            "image/png": "[encoded data removed]",
            "text/plain": [
              "<Figure size 432x288 with 2 Axes>"
            ]
          },
          "metadata": {
            "tags": [],
            "needs_background": "light"
          }
        }
      ]
    }
  ]
}
