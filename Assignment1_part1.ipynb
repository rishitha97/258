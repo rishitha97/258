{
  "nbformat": 4,
  "nbformat_minor": 0,
  "metadata": {
    "colab": {
      "name": "258 hw1.ipynb",
      "provenance": [],
      "collapsed_sections": []
    },
    "kernelspec": {
      "name": "python3",
      "display_name": "Python 3"
    },
    "accelerator": "GPU",
    "widgets": {
      "application/vnd.jupyter.widget-state+json": {
        "7770b86dc77748a697817256aeab67bf": {
          "model_module": "@jupyter-widgets/controls",
          "model_name": "FileUploadModel",
          "state": {
            "_view_name": "FileUploadView",
            "_counter": 4,
            "style": "IPY_MODEL_96c140996f404cc1b7434a34ada11c13",
            "_dom_classes": [],
            "description": "Upload",
            "multiple": false,
            "_model_name": "FileUploadModel",
            "data": [
              null
            ],
            "button_style": "",
            "_view_module": "@jupyter-widgets/controls",
            "_model_module_version": "1.5.0",
            "accept": "",
            "_view_count": null,
            "disabled": false,
            "_view_module_version": "1.5.0",
            "error": "",
            "description_tooltip": null,
            "metadata": [
              {
                "name": "image_0494.jpg",
                "type": "image/jpeg",
                "size": 52922,
                "lastModified": 1146783928000
              }
            ],
            "_model_module": "@jupyter-widgets/controls",
            "layout": "IPY_MODEL_35a4cfc1522f478fa10bc0712a6965f3",
            "icon": "upload"
          }
        },
        "96c140996f404cc1b7434a34ada11c13": {
          "model_module": "@jupyter-widgets/controls",
          "model_name": "ButtonStyleModel",
          "state": {
            "_view_name": "StyleView",
            "_model_name": "ButtonStyleModel",
            "_view_module": "@jupyter-widgets/base",
            "_model_module_version": "1.5.0",
            "_view_count": null,
            "button_color": null,
            "font_weight": "",
            "_view_module_version": "1.2.0",
            "_model_module": "@jupyter-widgets/controls"
          }
        },
        "35a4cfc1522f478fa10bc0712a6965f3": {
          "model_module": "@jupyter-widgets/base",
          "model_name": "LayoutModel",
          "state": {
            "_view_name": "LayoutView",
            "grid_template_rows": null,
            "right": null,
            "justify_content": null,
            "_view_module": "@jupyter-widgets/base",
            "overflow": null,
            "_model_module_version": "1.2.0",
            "_view_count": null,
            "flex_flow": null,
            "width": null,
            "min_width": null,
            "border": null,
            "align_items": null,
            "bottom": null,
            "_model_module": "@jupyter-widgets/base",
            "top": null,
            "grid_column": null,
            "overflow_y": null,
            "overflow_x": null,
            "grid_auto_flow": null,
            "grid_area": null,
            "grid_template_columns": null,
            "flex": null,
            "_model_name": "LayoutModel",
            "justify_items": null,
            "grid_row": null,
            "max_height": null,
            "align_content": null,
            "visibility": null,
            "align_self": null,
            "height": null,
            "min_height": null,
            "padding": null,
            "grid_auto_rows": null,
            "grid_gap": null,
            "max_width": null,
            "order": null,
            "_view_module_version": "1.2.0",
            "grid_template_areas": null,
            "object_position": null,
            "object_fit": null,
            "grid_auto_columns": null,
            "margin": null,
            "display": null,
            "left": null
          }
        },
        "975230dcd3574811b5e5b13c49e1131e": {
          "model_module": "@jupyter-widgets/controls",
          "model_name": "HBoxModel",
          "state": {
            "_view_name": "HBoxView",
            "_dom_classes": [],
            "_model_name": "HBoxModel",
            "_view_module": "@jupyter-widgets/controls",
            "_model_module_version": "1.5.0",
            "_view_count": null,
            "_view_module_version": "1.5.0",
            "box_style": "",
            "layout": "IPY_MODEL_dc707dd5366a407fb50b3d4b1606cac5",
            "_model_module": "@jupyter-widgets/controls",
            "children": [
              "IPY_MODEL_989de4d120d644ba8575e32c6208287f",
              "IPY_MODEL_73d8b3f7920f45dfaf46ce8681799f3c"
            ]
          }
        },
        "dc707dd5366a407fb50b3d4b1606cac5": {
          "model_module": "@jupyter-widgets/base",
          "model_name": "LayoutModel",
          "state": {
            "_view_name": "LayoutView",
            "grid_template_rows": null,
            "right": null,
            "justify_content": null,
            "_view_module": "@jupyter-widgets/base",
            "overflow": null,
            "_model_module_version": "1.2.0",
            "_view_count": null,
            "flex_flow": null,
            "width": null,
            "min_width": null,
            "border": null,
            "align_items": null,
            "bottom": null,
            "_model_module": "@jupyter-widgets/base",
            "top": null,
            "grid_column": null,
            "overflow_y": null,
            "overflow_x": null,
            "grid_auto_flow": null,
            "grid_area": null,
            "grid_template_columns": null,
            "flex": null,
            "_model_name": "LayoutModel",
            "justify_items": null,
            "grid_row": null,
            "max_height": null,
            "align_content": null,
            "visibility": null,
            "align_self": null,
            "height": null,
            "min_height": null,
            "padding": null,
            "grid_auto_rows": null,
            "grid_gap": null,
            "max_width": null,
            "order": null,
            "_view_module_version": "1.2.0",
            "grid_template_areas": null,
            "object_position": null,
            "object_fit": null,
            "grid_auto_columns": null,
            "margin": null,
            "display": null,
            "left": null
          }
        },
        "989de4d120d644ba8575e32c6208287f": {
          "model_module": "@jupyter-widgets/controls",
          "model_name": "FloatProgressModel",
          "state": {
            "_view_name": "ProgressView",
            "style": "IPY_MODEL_4704a594bd9149e4a05e8c453cb5d83e",
            "_dom_classes": [],
            "description": "100%",
            "_model_name": "FloatProgressModel",
            "bar_style": "success",
            "max": 87306240,
            "_view_module": "@jupyter-widgets/controls",
            "_model_module_version": "1.5.0",
            "value": 87306240,
            "_view_count": null,
            "_view_module_version": "1.5.0",
            "orientation": "horizontal",
            "min": 0,
            "description_tooltip": null,
            "_model_module": "@jupyter-widgets/controls",
            "layout": "IPY_MODEL_32a4398b0bca4087ac42d79c708dd895"
          }
        },
        "73d8b3f7920f45dfaf46ce8681799f3c": {
          "model_module": "@jupyter-widgets/controls",
          "model_name": "HTMLModel",
          "state": {
            "_view_name": "HTMLView",
            "style": "IPY_MODEL_70621d0034f249f8bf3b2c8d52321513",
            "_dom_classes": [],
            "description": "",
            "_model_name": "HTMLModel",
            "placeholder": "​",
            "_view_module": "@jupyter-widgets/controls",
            "_model_module_version": "1.5.0",
            "value": " 83.3M/83.3M [00:05&lt;00:00, 17.2MB/s]",
            "_view_count": null,
            "_view_module_version": "1.5.0",
            "description_tooltip": null,
            "_model_module": "@jupyter-widgets/controls",
            "layout": "IPY_MODEL_54038db5cbd34bd4ae5799d22c40a530"
          }
        },
        "4704a594bd9149e4a05e8c453cb5d83e": {
          "model_module": "@jupyter-widgets/controls",
          "model_name": "ProgressStyleModel",
          "state": {
            "_view_name": "StyleView",
            "_model_name": "ProgressStyleModel",
            "description_width": "initial",
            "_view_module": "@jupyter-widgets/base",
            "_model_module_version": "1.5.0",
            "_view_count": null,
            "_view_module_version": "1.2.0",
            "bar_color": null,
            "_model_module": "@jupyter-widgets/controls"
          }
        },
        "32a4398b0bca4087ac42d79c708dd895": {
          "model_module": "@jupyter-widgets/base",
          "model_name": "LayoutModel",
          "state": {
            "_view_name": "LayoutView",
            "grid_template_rows": null,
            "right": null,
            "justify_content": null,
            "_view_module": "@jupyter-widgets/base",
            "overflow": null,
            "_model_module_version": "1.2.0",
            "_view_count": null,
            "flex_flow": null,
            "width": null,
            "min_width": null,
            "border": null,
            "align_items": null,
            "bottom": null,
            "_model_module": "@jupyter-widgets/base",
            "top": null,
            "grid_column": null,
            "overflow_y": null,
            "overflow_x": null,
            "grid_auto_flow": null,
            "grid_area": null,
            "grid_template_columns": null,
            "flex": null,
            "_model_name": "LayoutModel",
            "justify_items": null,
            "grid_row": null,
            "max_height": null,
            "align_content": null,
            "visibility": null,
            "align_self": null,
            "height": null,
            "min_height": null,
            "padding": null,
            "grid_auto_rows": null,
            "grid_gap": null,
            "max_width": null,
            "order": null,
            "_view_module_version": "1.2.0",
            "grid_template_areas": null,
            "object_position": null,
            "object_fit": null,
            "grid_auto_columns": null,
            "margin": null,
            "display": null,
            "left": null
          }
        },
        "70621d0034f249f8bf3b2c8d52321513": {
          "model_module": "@jupyter-widgets/controls",
          "model_name": "DescriptionStyleModel",
          "state": {
            "_view_name": "StyleView",
            "_model_name": "DescriptionStyleModel",
            "description_width": "",
            "_view_module": "@jupyter-widgets/base",
            "_model_module_version": "1.5.0",
            "_view_count": null,
            "_view_module_version": "1.2.0",
            "_model_module": "@jupyter-widgets/controls"
          }
        },
        "54038db5cbd34bd4ae5799d22c40a530": {
          "model_module": "@jupyter-widgets/base",
          "model_name": "LayoutModel",
          "state": {
            "_view_name": "LayoutView",
            "grid_template_rows": null,
            "right": null,
            "justify_content": null,
            "_view_module": "@jupyter-widgets/base",
            "overflow": null,
            "_model_module_version": "1.2.0",
            "_view_count": null,
            "flex_flow": null,
            "width": null,
            "min_width": null,
            "border": null,
            "align_items": null,
            "bottom": null,
            "_model_module": "@jupyter-widgets/base",
            "top": null,
            "grid_column": null,
            "overflow_y": null,
            "overflow_x": null,
            "grid_auto_flow": null,
            "grid_area": null,
            "grid_template_columns": null,
            "flex": null,
            "_model_name": "LayoutModel",
            "justify_items": null,
            "grid_row": null,
            "max_height": null,
            "align_content": null,
            "visibility": null,
            "align_self": null,
            "height": null,
            "min_height": null,
            "padding": null,
            "grid_auto_rows": null,
            "grid_gap": null,
            "max_width": null,
            "order": null,
            "_view_module_version": "1.2.0",
            "grid_template_areas": null,
            "object_position": null,
            "object_fit": null,
            "grid_auto_columns": null,
            "margin": null,
            "display": null,
            "left": null
          }
        }
      }
    }
  },
  "cells": [
    {
      "cell_type": "code",
      "metadata": {
        "colab": {
          "base_uri": "https://localhost:8080/"
        },
        "id": "JIC_G71-aMSY",
        "outputId": "25e35ab4-f7bc-4eb9-d353-002b5fae2233"
      },
      "source": [
        "!pip install fastbook\n",
        "import fastbook\n",
        "from fastbook import*"
      ],
      "execution_count": null,
      "outputs": [
        {
          "output_type": "stream",
          "text": [
            "Collecting fastbook\n",
            "\u001b[?25l  Downloading https://files.pythonhosted.org/packages/f2/ff/66f16fb9ceb45646e59a38ad5eb0f05fbd6524c20d9c4a2c922cdcd2955b/fastbook-0.0.16-py3-none-any.whl (720kB)\n",
            "\u001b[K     |████████████████████████████████| 727kB 16.7MB/s \n",
            "\u001b[?25hCollecting fastai>=2.1\n",
            "\u001b[?25l  Downloading https://files.pythonhosted.org/packages/f3/09/36d4d472d0c953f5d931f4c415f715a909793e5d222af205f3e65c034da3/fastai-2.2.5-py3-none-any.whl (191kB)\n",
            "\u001b[K     |████████████████████████████████| 194kB 61.0MB/s \n",
            "\u001b[?25hRequirement already satisfied: pandas in /usr/local/lib/python3.6/dist-packages (from fastbook) (1.1.5)\n",
            "Requirement already satisfied: pip in /usr/local/lib/python3.6/dist-packages (from fastbook) (19.3.1)\n",
            "Collecting sentencepiece\n",
            "\u001b[?25l  Downloading https://files.pythonhosted.org/packages/14/67/e42bd1181472c95c8cda79305df848264f2a7f62740995a46945d9797b67/sentencepiece-0.1.95-cp36-cp36m-manylinux2014_x86_64.whl (1.2MB)\n",
            "\u001b[K     |████████████████████████████████| 1.2MB 41.4MB/s \n",
            "\u001b[?25hRequirement already satisfied: requests in /usr/local/lib/python3.6/dist-packages (from fastbook) (2.23.0)\n",
            "Requirement already satisfied: ipywidgets in /usr/local/lib/python3.6/dist-packages (from fastbook) (7.6.3)\n",
            "Requirement already satisfied: packaging in /usr/local/lib/python3.6/dist-packages (from fastbook) (20.9)\n",
            "Collecting nbdev>=0.2.38\n",
            "\u001b[?25l  Downloading https://files.pythonhosted.org/packages/b7/81/7ae0d7f03a69601943b7f77216f014f0668286cf67ac7780b2351a962291/nbdev-1.1.12-py3-none-any.whl (46kB)\n",
            "\u001b[K     |████████████████████████████████| 51kB 9.2MB/s \n",
            "\u001b[?25hCollecting fastcore<1.4,>=1.3.8\n",
            "\u001b[?25l  Downloading https://files.pythonhosted.org/packages/0c/98/60404e2817cff113a6ae4023bc1772e23179408fdf7857fa410551758dfe/fastcore-1.3.19-py3-none-any.whl (53kB)\n",
            "\u001b[K     |████████████████████████████████| 61kB 11.1MB/s \n",
            "\u001b[?25hRequirement already satisfied: spacy in /usr/local/lib/python3.6/dist-packages (from fastai>=2.1->fastbook) (2.2.4)\n",
            "Requirement already satisfied: scikit-learn in /usr/local/lib/python3.6/dist-packages (from fastai>=2.1->fastbook) (0.22.2.post1)\n",
            "Requirement already satisfied: matplotlib in /usr/local/lib/python3.6/dist-packages (from fastai>=2.1->fastbook) (3.2.2)\n",
            "Requirement already satisfied: pyyaml in /usr/local/lib/python3.6/dist-packages (from fastai>=2.1->fastbook) (3.13)\n",
            "Requirement already satisfied: scipy in /usr/local/lib/python3.6/dist-packages (from fastai>=2.1->fastbook) (1.4.1)\n",
            "Requirement already satisfied: torch<1.8,>=1.7.0 in /usr/local/lib/python3.6/dist-packages (from fastai>=2.1->fastbook) (1.7.0+cu101)\n",
            "Requirement already satisfied: fastprogress>=0.2.4 in /usr/local/lib/python3.6/dist-packages (from fastai>=2.1->fastbook) (1.0.0)\n",
            "Requirement already satisfied: pillow>6.0.0 in /usr/local/lib/python3.6/dist-packages (from fastai>=2.1->fastbook) (7.0.0)\n",
            "Requirement already satisfied: torchvision<0.9,>=0.8 in /usr/local/lib/python3.6/dist-packages (from fastai>=2.1->fastbook) (0.8.1+cu101)\n",
            "Requirement already satisfied: pytz>=2017.2 in /usr/local/lib/python3.6/dist-packages (from pandas->fastbook) (2018.9)\n",
            "Requirement already satisfied: python-dateutil>=2.7.3 in /usr/local/lib/python3.6/dist-packages (from pandas->fastbook) (2.8.1)\n",
            "Requirement already satisfied: numpy>=1.15.4 in /usr/local/lib/python3.6/dist-packages (from pandas->fastbook) (1.19.5)\n",
            "Requirement already satisfied: chardet<4,>=3.0.2 in /usr/local/lib/python3.6/dist-packages (from requests->fastbook) (3.0.4)\n",
            "Requirement already satisfied: urllib3!=1.25.0,!=1.25.1,<1.26,>=1.21.1 in /usr/local/lib/python3.6/dist-packages (from requests->fastbook) (1.24.3)\n",
            "Requirement already satisfied: idna<3,>=2.5 in /usr/local/lib/python3.6/dist-packages (from requests->fastbook) (2.10)\n",
            "Requirement already satisfied: certifi>=2017.4.17 in /usr/local/lib/python3.6/dist-packages (from requests->fastbook) (2020.12.5)\n",
            "Requirement already satisfied: ipython>=4.0.0; python_version >= \"3.3\" in /usr/local/lib/python3.6/dist-packages (from ipywidgets->fastbook) (5.5.0)\n",
            "Requirement already satisfied: ipykernel>=4.5.1 in /usr/local/lib/python3.6/dist-packages (from ipywidgets->fastbook) (4.10.1)\n",
            "Requirement already satisfied: traitlets>=4.3.1 in /usr/local/lib/python3.6/dist-packages (from ipywidgets->fastbook) (4.3.3)\n",
            "Requirement already satisfied: jupyterlab-widgets>=1.0.0; python_version >= \"3.6\" in /usr/local/lib/python3.6/dist-packages (from ipywidgets->fastbook) (1.0.0)\n",
            "Requirement already satisfied: nbformat>=4.2.0 in /usr/local/lib/python3.6/dist-packages (from ipywidgets->fastbook) (5.1.2)\n",
            "Requirement already satisfied: widgetsnbextension~=3.5.0 in /usr/local/lib/python3.6/dist-packages (from ipywidgets->fastbook) (3.5.1)\n",
            "Requirement already satisfied: pyparsing>=2.0.2 in /usr/local/lib/python3.6/dist-packages (from packaging->fastbook) (2.4.7)\n",
            "Requirement already satisfied: jupyter in /usr/local/lib/python3.6/dist-packages (from nbdev>=0.2.38->fastbook) (1.0.0)\n",
            "Requirement already satisfied: nbconvert<6 in /usr/local/lib/python3.6/dist-packages (from nbdev>=0.2.38->fastbook) (5.6.1)\n",
            "Requirement already satisfied: jupyter-client in /usr/local/lib/python3.6/dist-packages (from nbdev>=0.2.38->fastbook) (5.3.5)\n",
            "Requirement already satisfied: preshed<3.1.0,>=3.0.2 in /usr/local/lib/python3.6/dist-packages (from spacy->fastai>=2.1->fastbook) (3.0.5)\n",
            "Requirement already satisfied: setuptools in /usr/local/lib/python3.6/dist-packages (from spacy->fastai>=2.1->fastbook) (53.0.0)\n",
            "Requirement already satisfied: cymem<2.1.0,>=2.0.2 in /usr/local/lib/python3.6/dist-packages (from spacy->fastai>=2.1->fastbook) (2.0.5)\n",
            "Requirement already satisfied: blis<0.5.0,>=0.4.0 in /usr/local/lib/python3.6/dist-packages (from spacy->fastai>=2.1->fastbook) (0.4.1)\n",
            "Requirement already satisfied: catalogue<1.1.0,>=0.0.7 in /usr/local/lib/python3.6/dist-packages (from spacy->fastai>=2.1->fastbook) (1.0.0)\n",
            "Requirement already satisfied: thinc==7.4.0 in /usr/local/lib/python3.6/dist-packages (from spacy->fastai>=2.1->fastbook) (7.4.0)\n",
            "Requirement already satisfied: tqdm<5.0.0,>=4.38.0 in /usr/local/lib/python3.6/dist-packages (from spacy->fastai>=2.1->fastbook) (4.41.1)\n",
            "Requirement already satisfied: plac<1.2.0,>=0.9.6 in /usr/local/lib/python3.6/dist-packages (from spacy->fastai>=2.1->fastbook) (1.1.3)\n",
            "Requirement already satisfied: murmurhash<1.1.0,>=0.28.0 in /usr/local/lib/python3.6/dist-packages (from spacy->fastai>=2.1->fastbook) (1.0.5)\n",
            "Requirement already satisfied: wasabi<1.1.0,>=0.4.0 in /usr/local/lib/python3.6/dist-packages (from spacy->fastai>=2.1->fastbook) (0.8.2)\n",
            "Requirement already satisfied: srsly<1.1.0,>=1.0.2 in /usr/local/lib/python3.6/dist-packages (from spacy->fastai>=2.1->fastbook) (1.0.5)\n",
            "Requirement already satisfied: joblib>=0.11 in /usr/local/lib/python3.6/dist-packages (from scikit-learn->fastai>=2.1->fastbook) (1.0.0)\n",
            "Requirement already satisfied: kiwisolver>=1.0.1 in /usr/local/lib/python3.6/dist-packages (from matplotlib->fastai>=2.1->fastbook) (1.3.1)\n",
            "Requirement already satisfied: cycler>=0.10 in /usr/local/lib/python3.6/dist-packages (from matplotlib->fastai>=2.1->fastbook) (0.10.0)\n",
            "Requirement already satisfied: future in /usr/local/lib/python3.6/dist-packages (from torch<1.8,>=1.7.0->fastai>=2.1->fastbook) (0.16.0)\n",
            "Requirement already satisfied: typing-extensions in /usr/local/lib/python3.6/dist-packages (from torch<1.8,>=1.7.0->fastai>=2.1->fastbook) (3.7.4.3)\n",
            "Requirement already satisfied: dataclasses in /usr/local/lib/python3.6/dist-packages (from torch<1.8,>=1.7.0->fastai>=2.1->fastbook) (0.8)\n",
            "Requirement already satisfied: six>=1.5 in /usr/local/lib/python3.6/dist-packages (from python-dateutil>=2.7.3->pandas->fastbook) (1.15.0)\n",
            "Requirement already satisfied: pickleshare in /usr/local/lib/python3.6/dist-packages (from ipython>=4.0.0; python_version >= \"3.3\"->ipywidgets->fastbook) (0.7.5)\n",
            "Requirement already satisfied: pexpect; sys_platform != \"win32\" in /usr/local/lib/python3.6/dist-packages (from ipython>=4.0.0; python_version >= \"3.3\"->ipywidgets->fastbook) (4.8.0)\n",
            "Requirement already satisfied: decorator in /usr/local/lib/python3.6/dist-packages (from ipython>=4.0.0; python_version >= \"3.3\"->ipywidgets->fastbook) (4.4.2)\n",
            "Requirement already satisfied: pygments in /usr/local/lib/python3.6/dist-packages (from ipython>=4.0.0; python_version >= \"3.3\"->ipywidgets->fastbook) (2.6.1)\n",
            "Requirement already satisfied: prompt-toolkit<2.0.0,>=1.0.4 in /usr/local/lib/python3.6/dist-packages (from ipython>=4.0.0; python_version >= \"3.3\"->ipywidgets->fastbook) (1.0.18)\n",
            "Requirement already satisfied: simplegeneric>0.8 in /usr/local/lib/python3.6/dist-packages (from ipython>=4.0.0; python_version >= \"3.3\"->ipywidgets->fastbook) (0.8.1)\n",
            "Requirement already satisfied: tornado>=4.0 in /usr/local/lib/python3.6/dist-packages (from ipykernel>=4.5.1->ipywidgets->fastbook) (5.1.1)\n",
            "Requirement already satisfied: ipython-genutils in /usr/local/lib/python3.6/dist-packages (from traitlets>=4.3.1->ipywidgets->fastbook) (0.2.0)\n",
            "Requirement already satisfied: jupyter-core in /usr/local/lib/python3.6/dist-packages (from nbformat>=4.2.0->ipywidgets->fastbook) (4.7.1)\n",
            "Requirement already satisfied: jsonschema!=2.5.0,>=2.4 in /usr/local/lib/python3.6/dist-packages (from nbformat>=4.2.0->ipywidgets->fastbook) (2.6.0)\n",
            "Requirement already satisfied: notebook>=4.4.1 in /usr/local/lib/python3.6/dist-packages (from widgetsnbextension~=3.5.0->ipywidgets->fastbook) (5.3.1)\n",
            "Requirement already satisfied: jupyter-console in /usr/local/lib/python3.6/dist-packages (from jupyter->nbdev>=0.2.38->fastbook) (5.2.0)\n",
            "Requirement already satisfied: qtconsole in /usr/local/lib/python3.6/dist-packages (from jupyter->nbdev>=0.2.38->fastbook) (5.0.2)\n",
            "Requirement already satisfied: testpath in /usr/local/lib/python3.6/dist-packages (from nbconvert<6->nbdev>=0.2.38->fastbook) (0.4.4)\n",
            "Requirement already satisfied: mistune<2,>=0.8.1 in /usr/local/lib/python3.6/dist-packages (from nbconvert<6->nbdev>=0.2.38->fastbook) (0.8.4)\n",
            "Requirement already satisfied: defusedxml in /usr/local/lib/python3.6/dist-packages (from nbconvert<6->nbdev>=0.2.38->fastbook) (0.6.0)\n",
            "Requirement already satisfied: bleach in /usr/local/lib/python3.6/dist-packages (from nbconvert<6->nbdev>=0.2.38->fastbook) (3.3.0)\n",
            "Requirement already satisfied: pandocfilters>=1.4.1 in /usr/local/lib/python3.6/dist-packages (from nbconvert<6->nbdev>=0.2.38->fastbook) (1.4.3)\n",
            "Requirement already satisfied: entrypoints>=0.2.2 in /usr/local/lib/python3.6/dist-packages (from nbconvert<6->nbdev>=0.2.38->fastbook) (0.3)\n",
            "Requirement already satisfied: jinja2>=2.4 in /usr/local/lib/python3.6/dist-packages (from nbconvert<6->nbdev>=0.2.38->fastbook) (2.11.3)\n",
            "Requirement already satisfied: pyzmq>=13 in /usr/local/lib/python3.6/dist-packages (from jupyter-client->nbdev>=0.2.38->fastbook) (22.0.2)\n",
            "Requirement already satisfied: importlib-metadata>=0.20; python_version < \"3.8\" in /usr/local/lib/python3.6/dist-packages (from catalogue<1.1.0,>=0.0.7->spacy->fastai>=2.1->fastbook) (3.4.0)\n",
            "Requirement already satisfied: ptyprocess>=0.5 in /usr/local/lib/python3.6/dist-packages (from pexpect; sys_platform != \"win32\"->ipython>=4.0.0; python_version >= \"3.3\"->ipywidgets->fastbook) (0.7.0)\n",
            "Requirement already satisfied: wcwidth in /usr/local/lib/python3.6/dist-packages (from prompt-toolkit<2.0.0,>=1.0.4->ipython>=4.0.0; python_version >= \"3.3\"->ipywidgets->fastbook) (0.2.5)\n",
            "Requirement already satisfied: terminado>=0.8.1 in /usr/local/lib/python3.6/dist-packages (from notebook>=4.4.1->widgetsnbextension~=3.5.0->ipywidgets->fastbook) (0.9.2)\n",
            "Requirement already satisfied: Send2Trash in /usr/local/lib/python3.6/dist-packages (from notebook>=4.4.1->widgetsnbextension~=3.5.0->ipywidgets->fastbook) (1.5.0)\n",
            "Requirement already satisfied: qtpy in /usr/local/lib/python3.6/dist-packages (from qtconsole->jupyter->nbdev>=0.2.38->fastbook) (1.9.0)\n",
            "Requirement already satisfied: webencodings in /usr/local/lib/python3.6/dist-packages (from bleach->nbconvert<6->nbdev>=0.2.38->fastbook) (0.5.1)\n",
            "Requirement already satisfied: MarkupSafe>=0.23 in /usr/local/lib/python3.6/dist-packages (from jinja2>=2.4->nbconvert<6->nbdev>=0.2.38->fastbook) (1.1.1)\n",
            "Requirement already satisfied: zipp>=0.5 in /usr/local/lib/python3.6/dist-packages (from importlib-metadata>=0.20; python_version < \"3.8\"->catalogue<1.1.0,>=0.0.7->spacy->fastai>=2.1->fastbook) (3.4.0)\n",
            "Installing collected packages: fastcore, fastai, sentencepiece, nbdev, fastbook\n",
            "  Found existing installation: fastai 1.0.61\n",
            "    Uninstalling fastai-1.0.61:\n",
            "      Successfully uninstalled fastai-1.0.61\n",
            "Successfully installed fastai-2.2.5 fastbook-0.0.16 fastcore-1.3.19 nbdev-1.1.12 sentencepiece-0.1.95\n"
          ],
          "name": "stdout"
        }
      ]
    },
    {
      "cell_type": "markdown",
      "metadata": {
        "id": "4XJrD9T-OdVJ"
      },
      "source": [
        "**Collab Learner**"
      ]
    },
    {
      "cell_type": "code",
      "metadata": {
        "colab": {
          "base_uri": "https://localhost:8080/",
          "height": 282
        },
        "id": "qpJFlZLQbVkA",
        "outputId": "286fc63d-3bfe-4597-d05b-cd51eb4426f0"
      },
      "source": [
        "from fastai.collab import*\n",
        "path=untar_data(URLs.ML_SAMPLE) \n",
        "#unzip's or untar's the data from the URL\n",
        "data_loader_collab= CollabDataLoaders.from_csv('/content/songsDataset.csv')\n",
        "#Loads data from the file in given path\n",
        "train_collab=collab_learner(data_loader_collab,y_range=(1,5)) #y_range is used to provide the range in which the prediction can be\n",
        "#train the data\n",
        "train_collab.fine_tune(5)"
      ],
      "execution_count": null,
      "outputs": [
        {
          "output_type": "display_data",
          "data": {
            "text/html": [
              "<table border=\"1\" class=\"dataframe\">\n",
              "  <thead>\n",
              "    <tr style=\"text-align: left;\">\n",
              "      <th>epoch</th>\n",
              "      <th>train_loss</th>\n",
              "      <th>valid_loss</th>\n",
              "      <th>time</th>\n",
              "    </tr>\n",
              "  </thead>\n",
              "  <tbody>\n",
              "    <tr>\n",
              "      <td>0</td>\n",
              "      <td>2.375698</td>\n",
              "      <td>2.356834</td>\n",
              "      <td>05:21</td>\n",
              "    </tr>\n",
              "  </tbody>\n",
              "</table>"
            ],
            "text/plain": [
              "<IPython.core.display.HTML object>"
            ]
          },
          "metadata": {
            "tags": []
          }
        },
        {
          "output_type": "display_data",
          "data": {
            "text/html": [
              "\n",
              "    <div>\n",
              "        <style>\n",
              "            /* Turns off some styling */\n",
              "            progress {\n",
              "                /* gets rid of default border in Firefox and Opera. */\n",
              "                border: none;\n",
              "                /* Needs to be in here for Safari polyfill so background images work as expected. */\n",
              "                background-size: auto;\n",
              "            }\n",
              "            .progress-bar-interrupted, .progress-bar-interrupted::-webkit-progress-bar {\n",
              "                background: #F44336;\n",
              "            }\n",
              "        </style>\n",
              "      <progress value='4' class='' max='5' style='width:300px; height:20px; vertical-align: middle;'></progress>\n",
              "      80.00% [4/5 21:17<05:19]\n",
              "    </div>\n",
              "    \n",
              "<table border=\"1\" class=\"dataframe\">\n",
              "  <thead>\n",
              "    <tr style=\"text-align: left;\">\n",
              "      <th>epoch</th>\n",
              "      <th>train_loss</th>\n",
              "      <th>valid_loss</th>\n",
              "      <th>time</th>\n",
              "    </tr>\n",
              "  </thead>\n",
              "  <tbody>\n",
              "    <tr>\n",
              "      <td>0</td>\n",
              "      <td>2.157076</td>\n",
              "      <td>2.302889</td>\n",
              "      <td>05:20</td>\n",
              "    </tr>\n",
              "    <tr>\n",
              "      <td>1</td>\n",
              "      <td>1.954571</td>\n",
              "      <td>2.207693</td>\n",
              "      <td>05:18</td>\n",
              "    </tr>\n",
              "    <tr>\n",
              "      <td>2</td>\n",
              "      <td>1.652269</td>\n",
              "      <td>2.153194</td>\n",
              "      <td>05:18</td>\n",
              "    </tr>\n",
              "    <tr>\n",
              "      <td>3</td>\n",
              "      <td>1.424339</td>\n",
              "      <td>2.134776</td>\n",
              "      <td>05:19</td>\n",
              "    </tr>\n",
              "  </tbody>\n",
              "</table><p>\n",
              "\n",
              "    <div>\n",
              "        <style>\n",
              "            /* Turns off some styling */\n",
              "            progress {\n",
              "                /* gets rid of default border in Firefox and Opera. */\n",
              "                border: none;\n",
              "                /* Needs to be in here for Safari polyfill so background images work as expected. */\n",
              "                background-size: auto;\n",
              "            }\n",
              "            .progress-bar-interrupted, .progress-bar-interrupted::-webkit-progress-bar {\n",
              "                background: #F44336;\n",
              "            }\n",
              "        </style>\n",
              "      <progress value='16303' class='' max='25000' style='width:300px; height:20px; vertical-align: middle;'></progress>\n",
              "      65.21% [16303/25000 03:14<01:43 1.3232]\n",
              "    </div>\n",
              "    "
            ],
            "text/plain": [
              "<IPython.core.display.HTML object>"
            ]
          },
          "metadata": {
            "tags": []
          }
        }
      ]
    },
    {
      "cell_type": "code",
      "metadata": {
        "colab": {
          "base_uri": "https://localhost:8080/",
          "height": 328
        },
        "id": "pyVzx40tcr_e",
        "outputId": "51063ec8-2a54-4210-8fb8-4f5a284bd98d"
      },
      "source": [
        "train_collab.show_results()"
      ],
      "execution_count": null,
      "outputs": [
        {
          "output_type": "display_data",
          "data": {
            "text/html": [
              ""
            ],
            "text/plain": [
              "<IPython.core.display.HTML object>"
            ]
          },
          "metadata": {
            "tags": []
          }
        },
        {
          "output_type": "display_data",
          "data": {
            "text/html": [
              "<table border=\"1\" class=\"dataframe\">\n",
              "  <thead>\n",
              "    <tr style=\"text-align: right;\">\n",
              "      <th></th>\n",
              "      <th>userId</th>\n",
              "      <th>movieId</th>\n",
              "      <th>rating</th>\n",
              "      <th>rating_pred</th>\n",
              "    </tr>\n",
              "  </thead>\n",
              "  <tbody>\n",
              "    <tr>\n",
              "      <th>0</th>\n",
              "      <td>18.0</td>\n",
              "      <td>46.0</td>\n",
              "      <td>1.5</td>\n",
              "      <td>3.292354</td>\n",
              "    </tr>\n",
              "    <tr>\n",
              "      <th>1</th>\n",
              "      <td>24.0</td>\n",
              "      <td>32.0</td>\n",
              "      <td>3.5</td>\n",
              "      <td>3.142697</td>\n",
              "    </tr>\n",
              "    <tr>\n",
              "      <th>2</th>\n",
              "      <td>100.0</td>\n",
              "      <td>22.0</td>\n",
              "      <td>5.0</td>\n",
              "      <td>3.523743</td>\n",
              "    </tr>\n",
              "    <tr>\n",
              "      <th>3</th>\n",
              "      <td>73.0</td>\n",
              "      <td>78.0</td>\n",
              "      <td>3.0</td>\n",
              "      <td>3.087869</td>\n",
              "    </tr>\n",
              "    <tr>\n",
              "      <th>4</th>\n",
              "      <td>84.0</td>\n",
              "      <td>37.0</td>\n",
              "      <td>3.0</td>\n",
              "      <td>3.300176</td>\n",
              "    </tr>\n",
              "    <tr>\n",
              "      <th>5</th>\n",
              "      <td>24.0</td>\n",
              "      <td>23.0</td>\n",
              "      <td>3.5</td>\n",
              "      <td>3.091569</td>\n",
              "    </tr>\n",
              "    <tr>\n",
              "      <th>6</th>\n",
              "      <td>61.0</td>\n",
              "      <td>74.0</td>\n",
              "      <td>4.0</td>\n",
              "      <td>3.168946</td>\n",
              "    </tr>\n",
              "    <tr>\n",
              "      <th>7</th>\n",
              "      <td>1.0</td>\n",
              "      <td>59.0</td>\n",
              "      <td>5.0</td>\n",
              "      <td>3.473531</td>\n",
              "    </tr>\n",
              "    <tr>\n",
              "      <th>8</th>\n",
              "      <td>26.0</td>\n",
              "      <td>94.0</td>\n",
              "      <td>1.5</td>\n",
              "      <td>3.492800</td>\n",
              "    </tr>\n",
              "  </tbody>\n",
              "</table>"
            ],
            "text/plain": [
              "<IPython.core.display.HTML object>"
            ]
          },
          "metadata": {
            "tags": []
          }
        }
      ]
    },
    {
      "cell_type": "code",
      "metadata": {
        "colab": {
          "base_uri": "https://localhost:8080/"
        },
        "id": "65pchz-kzo5Z",
        "outputId": "999be62f-c04a-465d-c912-5c459038d544"
      },
      "source": [
        "print(os.listdir(untar_data(URLs.PASCAL_2007)/'train'))\n"
      ],
      "execution_count": null,
      "outputs": [
        {
          "output_type": "stream",
          "text": [
            "['005951.jpg', '004085.jpg', '006033.jpg', '002208.jpg', '000130.jpg', '006506.jpg', '004682.jpg', '003868.jpg', '003798.jpg', '002994.jpg', '009717.jpg', '002481.jpg', '004776.jpg', '006636.jpg', '003923.jpg', '005093.jpg', '008688.jpg', '009954.jpg', '009586.jpg', '003047.jpg', '005805.jpg', '000831.jpg', '005640.jpg', '002142.jpg', '007361.jpg', '001875.jpg', '008083.jpg', '008521.jpg', '007897.jpg', '004025.jpg', '000579.jpg', '003681.jpg', '005585.jpg', '007334.jpg', '001782.jpg', '005159.jpg', '004339.jpg', '007650.jpg', '004618.jpg', '007642.jpg', '004438.jpg', '003751.jpg', '007212.jpg', '008317.jpg', '007624.jpg', '002751.jpg', '003784.jpg', '006736.jpg', '005222.jpg', '007857.jpg', '000164.jpg', '009524.jpg', '002559.jpg', '008376.jpg', '001226.jpg', '000859.jpg', '001130.jpg', '002544.jpg', '007280.jpg', '003599.jpg', '006135.jpg', '003417.jpg', '008502.jpg', '000862.jpg', '005674.jpg', '002938.jpg', '001299.jpg', '006622.jpg', '004224.jpg', '006159.jpg', '004264.jpg', '005244.jpg', '004997.jpg', '007791.jpg', '002302.jpg', '008190.jpg', '003363.jpg', '000694.jpg', '008084.jpg', '005738.jpg', '007935.jpg', '003634.jpg', '007619.jpg', '005398.jpg', '003890.jpg', '000874.jpg', '002191.jpg', '001828.jpg', '007691.jpg', '007754.jpg', '006282.jpg', '006833.jpg', '009681.jpg', '004936.jpg', '001976.jpg', '004310.jpg', '000730.jpg', '001571.jpg', '009710.jpg', '001733.jpg', '006958.jpg', '004625.jpg', '002767.jpg', '007411.jpg', '008319.jpg', '003685.jpg', '003382.jpg', '007886.jpg', '006425.jpg', '006286.jpg', '001523.jpg', '009781.jpg', '005453.jpg', '008718.jpg', '008211.jpg', '006829.jpg', '009699.jpg', '000332.jpg', '003038.jpg', '007979.jpg', '003606.jpg', '001841.jpg', '005764.jpg', '001526.jpg', '003433.jpg', '001903.jpg', '006562.jpg', '002545.jpg', '008008.jpg', '000132.jpg', '008965.jpg', '008100.jpg', '007263.jpg', '009386.jpg', '005731.jpg', '001653.jpg', '006214.jpg', '003359.jpg', '006385.jpg', '009162.jpg', '009455.jpg', '007749.jpg', '008335.jpg', '009734.jpg', '002063.jpg', '000554.jpg', '005373.jpg', '008338.jpg', '000632.jpg', '003443.jpg', '003807.jpg', '007182.jpg', '005658.jpg', '007590.jpg', '003597.jpg', '006697.jpg', '003518.jpg', '001632.jpg', '001827.jpg', '009150.jpg', '005387.jpg', '001651.jpg', '003412.jpg', '001750.jpg', '004796.jpg', '008725.jpg', '003057.jpg', '000308.jpg', '002677.jpg', '002186.jpg', '009819.jpg', '007905.jpg', '006931.jpg', '009411.jpg', '001453.jpg', '001842.jpg', '008351.jpg', '007718.jpg', '008663.jpg', '000435.jpg', '004479.jpg', '008142.jpg', '007869.jpg', '003169.jpg', '006825.jpg', '005956.jpg', '005893.jpg', '009565.jpg', '006264.jpg', '003566.jpg', '009315.jpg', '006626.jpg', '009926.jpg', '009860.jpg', '002965.jpg', '005077.jpg', '008989.jpg', '000400.jpg', '009887.jpg', '009596.jpg', '004035.jpg', '005952.jpg', '008921.jpg', '009515.jpg', '008026.jpg', '009072.jpg', '005461.jpg', '000917.jpg', '006084.jpg', '008456.jpg', '000700.jpg', '006300.jpg', '000857.jpg', '004532.jpg', '008051.jpg', '004255.jpg', '004528.jpg', '008222.jpg', '004468.jpg', '002868.jpg', '003204.jpg', '002599.jpg', '003996.jpg', '006421.jpg', '008064.jpg', '009373.jpg', '009325.jpg', '009285.jpg', '000601.jpg', '007876.jpg', '007855.jpg', '002413.jpg', '009629.jpg', '004315.jpg', '001199.jpg', '004770.jpg', '004954.jpg', '005033.jpg', '005331.jpg', '005028.jpg', '001577.jpg', '009238.jpg', '004779.jpg', '001212.jpg', '003147.jpg', '004958.jpg', '000609.jpg', '009879.jpg', '001124.jpg', '009839.jpg', '001836.jpg', '008837.jpg', '009347.jpg', '008043.jpg', '003871.jpg', '005975.jpg', '004241.jpg', '007305.jpg', '007998.jpg', '009851.jpg', '009197.jpg', '008831.jpg', '004325.jpg', '002723.jpg', '002668.jpg', '008636.jpg', '001972.jpg', '006593.jpg', '005407.jpg', '007296.jpg', '001881.jpg', '000406.jpg', '009772.jpg', '001927.jpg', '000786.jpg', '001752.jpg', '005485.jpg', '002913.jpg', '008244.jpg', '007097.jpg', '008232.jpg', '001409.jpg', '002749.jpg', '000109.jpg', '001529.jpg', '000419.jpg', '007521.jpg', '001324.jpg', '001172.jpg', '004466.jpg', '001899.jpg', '000764.jpg', '008890.jpg', '000834.jpg', '002427.jpg', '002425.jpg', '000763.jpg', '004963.jpg', '000772.jpg', '005352.jpg', '007697.jpg', '005879.jpg', '008969.jpg', '007045.jpg', '009729.jpg', '003546.jpg', '008635.jpg', '005655.jpg', '003991.jpg', '007672.jpg', '008472.jpg', '000720.jpg', '002480.jpg', '005526.jpg', '009189.jpg', '006652.jpg', '000771.jpg', '003126.jpg', '009698.jpg', '007657.jpg', '007777.jpg', '003511.jpg', '003491.jpg', '007125.jpg', '006440.jpg', '008151.jpg', '005662.jpg', '005215.jpg', '006667.jpg', '004265.jpg', '001479.jpg', '009464.jpg', '007511.jpg', '000810.jpg', '001849.jpg', '004601.jpg', '006648.jpg', '002643.jpg', '002153.jpg', '003154.jpg', '004253.jpg', '000187.jpg', '007954.jpg', '005878.jpg', '009136.jpg', '005052.jpg', '004077.jpg', '003705.jpg', '006647.jpg', '000829.jpg', '002366.jpg', '000492.jpg', '005536.jpg', '001888.jpg', '005254.jpg', '002796.jpg', '007491.jpg', '007139.jpg', '009886.jpg', '005421.jpg', '000613.jpg', '005346.jpg', '008307.jpg', '003410.jpg', '001430.jpg', '007065.jpg', '003987.jpg', '005736.jpg', '003164.jpg', '000352.jpg', '002795.jpg', '008086.jpg', '006773.jpg', '007101.jpg', '002772.jpg', '001079.jpg', '009792.jpg', '006065.jpg', '006769.jpg', '009880.jpg', '008620.jpg', '009504.jpg', '001904.jpg', '007729.jpg', '009490.jpg', '007578.jpg', '009789.jpg', '005613.jpg', '002378.jpg', '004093.jpg', '008596.jpg', '008586.jpg', '009614.jpg', '002490.jpg', '009480.jpg', '000552.jpg', '006465.jpg', '002649.jpg', '008285.jpg', '003814.jpg', '002494.jpg', '009942.jpg', '003296.jpg', '005853.jpg', '003416.jpg', '005735.jpg', '002169.jpg', '003826.jpg', '004973.jpg', '007854.jpg', '007637.jpg', '008953.jpg', '006350.jpg', '007946.jpg', '006841.jpg', '000582.jpg', '009790.jpg', '005129.jpg', '008483.jpg', '001152.jpg', '004896.jpg', '004274.jpg', '009354.jpg', '001721.jpg', '008208.jpg', '006731.jpg', '005544.jpg', '006719.jpg', '004842.jpg', '009409.jpg', '004689.jpg', '002691.jpg', '005509.jpg', '004051.jpg', '006668.jpg', '008755.jpg', '005160.jpg', '002114.jpg', '006987.jpg', '004168.jpg', '005424.jpg', '003604.jpg', '006042.jpg', '009194.jpg', '002163.jpg', '008919.jpg', '003135.jpg', '003759.jpg', '009500.jpg', '006549.jpg', '007959.jpg', '003924.jpg', '002347.jpg', '002178.jpg', '009049.jpg', '003261.jpg', '009343.jpg', '007092.jpg', '006495.jpg', '009246.jpg', '005161.jpg', '003965.jpg', '004242.jpg', '005006.jpg', '007021.jpg', '002944.jpg', '003565.jpg', '009588.jpg', '006797.jpg', '001754.jpg', '008770.jpg', '000528.jpg', '006848.jpg', '000748.jpg', '003188.jpg', '004509.jpg', '001137.jpg', '002730.jpg', '009407.jpg', '001807.jpg', '008116.jpg', '004872.jpg', '004432.jpg', '000373.jpg', '003407.jpg', '005510.jpg', '005873.jpg', '000379.jpg', '002462.jpg', '004563.jpg', '008197.jpg', '005343.jpg', '002101.jpg', '007163.jpg', '006209.jpg', '003918.jpg', '009830.jpg', '005716.jpg', '003444.jpg', '005920.jpg', '006470.jpg', '004588.jpg', '006806.jpg', '002171.jpg', '003362.jpg', '008817.jpg', '006883.jpg', '000340.jpg', '004597.jpg', '007259.jpg', '003466.jpg', '002899.jpg', '002099.jpg', '003458.jpg', '004826.jpg', '006252.jpg', '007318.jpg', '004129.jpg', '000971.jpg', '008628.jpg', '004977.jpg', '002140.jpg', '006548.jpg', '003529.jpg', '003078.jpg', '005535.jpg', '008647.jpg', '001393.jpg', '001460.jpg', '005741.jpg', '008568.jpg', '005825.jpg', '000793.jpg', '009904.jpg', '005039.jpg', '006933.jpg', '002096.jpg', '004185.jpg', '007916.jpg', '007571.jpg', '005156.jpg', '009180.jpg', '003907.jpg', '006866.jpg', '003669.jpg', '005369.jpg', '005416.jpg', '004928.jpg', '007223.jpg', '004257.jpg', '003632.jpg', '007289.jpg', '005319.jpg', '001563.jpg', '005591.jpg', '002714.jpg', '004076.jpg', '005644.jpg', '008241.jpg', '008062.jpg', '001711.jpg', '008529.jpg', '004441.jpg', '002625.jpg', '007210.jpg', '002611.jpg', '005930.jpg', '006602.jpg', '000776.jpg', '001821.jpg', '006914.jpg', '009398.jpg', '004215.jpg', '004537.jpg', '003588.jpg', '003373.jpg', '006427.jpg', '005223.jpg', '009611.jpg', '004390.jpg', '000637.jpg', '000118.jpg', '003645.jpg', '006912.jpg', '008856.jpg', '009250.jpg', '009609.jpg', '008159.jpg', '007072.jpg', '009469.jpg', '000848.jpg', '006869.jpg', '005024.jpg', '003960.jpg', '005988.jpg', '005281.jpg', '002738.jpg', '007230.jpg', '001164.jpg', '007113.jpg', '009950.jpg', '008944.jpg', '008213.jpg', '000635.jpg', '001999.jpg', '002641.jpg', '004205.jpg', '004683.jpg', '000047.jpg', '005577.jpg', '001463.jpg', '004189.jpg', '006532.jpg', '003673.jpg', '001936.jpg', '002745.jpg', '006910.jpg', '004549.jpg', '004295.jpg', '006442.jpg', '002238.jpg', '005806.jpg', '009408.jpg', '006374.jpg', '000899.jpg', '005780.jpg', '009163.jpg', '007109.jpg', '004587.jpg', '008976.jpg', '007709.jpg', '000104.jpg', '006141.jpg', '001337.jpg', '001595.jpg', '000331.jpg', '004346.jpg', '008783.jpg', '004421.jpg', '000996.jpg', '005371.jpg', '001273.jpg', '008624.jpg', '002407.jpg', '000077.jpg', '000591.jpg', '005209.jpg', '000099.jpg', '002197.jpg', '001231.jpg', '007551.jpg', '001421.jpg', '006575.jpg', '005828.jpg', '002267.jpg', '003605.jpg', '001541.jpg', '008223.jpg', '005782.jpg', '002403.jpg', '002291.jpg', '000303.jpg', '009713.jpg', '001375.jpg', '002006.jpg', '008413.jpg', '008879.jpg', '008320.jpg', '003415.jpg', '008495.jpg', '008005.jpg', '002179.jpg', '004799.jpg', '001277.jpg', '008122.jpg', '008618.jpg', '004263.jpg', '000317.jpg', '002943.jpg', '008999.jpg', '000433.jpg', '006430.jpg', '006488.jpg', '000224.jpg', '001941.jpg', '008012.jpg', '009615.jpg', '001755.jpg', '002375.jpg', '008759.jpg', '003740.jpg', '001258.jpg', '002734.jpg', '006187.jpg', '008706.jpg', '009499.jpg', '001406.jpg', '009181.jpg', '004304.jpg', '005542.jpg', '002924.jpg', '007250.jpg', '002696.jpg', '002415.jpg', '006482.jpg', '002330.jpg', '002285.jpg', '008478.jpg', '003644.jpg', '009541.jpg', '007864.jpg', '007853.jpg', '005685.jpg', '000480.jpg', '008121.jpg', '005979.jpg', '006847.jpg', '007424.jpg', '004171.jpg', '005680.jpg', '009036.jpg', '009281.jpg', '000060.jpg', '003690.jpg', '006670.jpg', '005970.jpg', '006699.jpg', '001528.jpg', '007902.jpg', '007566.jpg', '002776.jpg', '006210.jpg', '001042.jpg', '004275.jpg', '002249.jpg', '005274.jpg', '001062.jpg', '009157.jpg', '007093.jpg', '003177.jpg', '007679.jpg', '000438.jpg', '000349.jpg', '009099.jpg', '002533.jpg', '009940.jpg', '009668.jpg', '007227.jpg', '004089.jpg', '003743.jpg', '006945.jpg', '005761.jpg', '003983.jpg', '004397.jpg', '001434.jpg', '003708.jpg', '003159.jpg', '001084.jpg', '006306.jpg', '002221.jpg', '009613.jpg', '001045.jpg', '007152.jpg', '004322.jpg', '005020.jpg', '000755.jpg', '004929.jpg', '004100.jpg', '000363.jpg', '007535.jpg', '004627.jpg', '008057.jpg', '004459.jpg', '000275.jpg', '002277.jpg', '003229.jpg', '007883.jpg', '000962.jpg', '003028.jpg', '005606.jpg', '009121.jpg', '001727.jpg', '006838.jpg', '009039.jpg', '007524.jpg', '001892.jpg', '005991.jpg', '005831.jpg', '001756.jpg', '004371.jpg', '004131.jpg', '001932.jpg', '005550.jpg', '000823.jpg', '009089.jpg', '001378.jpg', '005860.jpg', '009659.jpg', '003145.jpg', '001498.jpg', '004411.jpg', '000680.jpg', '005897.jpg', '007740.jpg', '001944.jpg', '000289.jpg', '002919.jpg', '001265.jpg', '004329.jpg', '008655.jpg', '009961.jpg', '005992.jpg', '008549.jpg', '004510.jpg', '004748.jpg', '000550.jpg', '005742.jpg', '006219.jpg', '001205.jpg', '006765.jpg', '008322.jpg', '007217.jpg', '002368.jpg', '002693.jpg', '002448.jpg', '009808.jpg', '009106.jpg', '001420.jpg', '006177.jpg', '009413.jpg', '004135.jpg', '004576.jpg', '000107.jpg', '005433.jpg', '008865.jpg', '004174.jpg', '004626.jpg', '000549.jpg', '004392.jpg', '006061.jpg', '002957.jpg', '001191.jpg', '000761.jpg', '001174.jpg', '002867.jpg', '007078.jpg', '000993.jpg', '005757.jpg', '001097.jpg', '006447.jpg', '003688.jpg', '002091.jpg', '004609.jpg', '009037.jpg', '001598.jpg', '007931.jpg', '002237.jpg', '003847.jpg', '003549.jpg', '007084.jpg', '001730.jpg', '000519.jpg', '000131.jpg', '005350.jpg', '007454.jpg', '001158.jpg', '003827.jpg', '009034.jpg', '002816.jpg', '003391.jpg', '002704.jpg', '000207.jpg', '008564.jpg', '003721.jpg', '005919.jpg', '007678.jpg', '007699.jpg', '005856.jpg', '000780.jpg', '000524.jpg', '008293.jpg', '003066.jpg', '000091.jpg', '006450.jpg', '006305.jpg', '001010.jpg', '007890.jpg', '008606.jpg', '003162.jpg', '005312.jpg', '007004.jpg', '008872.jpg', '006139.jpg', '006417.jpg', '000269.jpg', '002108.jpg', '002609.jpg', '007622.jpg', '003790.jpg', '007325.jpg', '003971.jpg', '006628.jpg', '000947.jpg', '009836.jpg', '001937.jpg', '005236.jpg', '005874.jpg', '002791.jpg', '008943.jpg', '008690.jpg', '008216.jpg', '008466.jpg', '001497.jpg', '008891.jpg', '001509.jpg', '003834.jpg', '007458.jpg', '007490.jpg', '009278.jpg', '005395.jpg', '007154.jpg', '009405.jpg', '000879.jpg', '004783.jpg', '009647.jpg', '006128.jpg', '009270.jpg', '004298.jpg', '008809.jpg', '006098.jpg', '002350.jpg', '009251.jpg', '009894.jpg', '007926.jpg', '003528.jpg', '002931.jpg', '009810.jpg', '003269.jpg', '007773.jpg', '008905.jpg', '009519.jpg', '007133.jpg', '007920.jpg', '002866.jpg', '003157.jpg', '003142.jpg', '003250.jpg', '001263.jpg', '009308.jpg', '005648.jpg', '009117.jpg', '008017.jpg', '003855.jpg', '009764.jpg', '005695.jpg', '003500.jpg', '007285.jpg', '000026.jpg', '003424.jpg', '009417.jpg', '003421.jpg', '000257.jpg', '009959.jpg', '005135.jpg', '000208.jpg', '006270.jpg', '007526.jpg', '000016.jpg', '002056.jpg', '002477.jpg', '006878.jpg', '004737.jpg', '001537.jpg', '006739.jpg', '003957.jpg', '001989.jpg', '007997.jpg', '009144.jpg', '004630.jpg', '002387.jpg', '005803.jpg', '009494.jpg', '001402.jpg', '000439.jpg', '003058.jpg', '003788.jpg', '003316.jpg', '005062.jpg', '007419.jpg', '006726.jpg', '000489.jpg', '003510.jpg', '001361.jpg', '002645.jpg', '007031.jpg', '001649.jpg', '007431.jpg', '009330.jpg', '009420.jpg', '002233.jpg', '008576.jpg', '003103.jpg', '008173.jpg', '006346.jpg', '005068.jpg', '008359.jpg', '009532.jpg', '008096.jpg', '003760.jpg', '005097.jpg', '000948.jpg', '007398.jpg', '003844.jpg', '004574.jpg', '001676.jpg', '002261.jpg', '001326.jpg', '009774.jpg', '000543.jpg', '006542.jpg', '000044.jpg', '002518.jpg', '001622.jpg', '007007.jpg', '008398.jpg', '003493.jpg', '000923.jpg', '008553.jpg', '004815.jpg', '003344.jpg', '009823.jpg', '001738.jpg', '001315.jpg', '007070.jpg', '009045.jpg', '001352.jpg', '009684.jpg', '000009.jpg', '001310.jpg', '005713.jpg', '001580.jpg', '003961.jpg', '000806.jpg', '008370.jpg', '000496.jpg', '007245.jpg', '000294.jpg', '003244.jpg', '005600.jpg', '009445.jpg', '000307.jpg', '001693.jpg', '001882.jpg', '004946.jpg', '008103.jpg', '000830.jpg', '000796.jpg', '001922.jpg', '000193.jpg', '005964.jpg', '007592.jpg', '008971.jpg', '002975.jpg', '006196.jpg', '002405.jpg', '003497.jpg', '006475.jpg', '005145.jpg', '000815.jpg', '006707.jpg', '006349.jpg', '001064.jpg', '004031.jpg', '007204.jpg', '007812.jpg', '007908.jpg', '007687.jpg', '009148.jpg', '007667.jpg', '003350.jpg', '008384.jpg', '006362.jpg', '007123.jpg', '002539.jpg', '000598.jpg', '003750.jpg', '004910.jpg', '003083.jpg', '002884.jpg', '009410.jpg', '008174.jpg', '000120.jpg', '006687.jpg', '005107.jpg', '008970.jpg', '001793.jpg', '008847.jpg', '001136.jpg', '007314.jpg', '008004.jpg', '002263.jpg', '003258.jpg', '008920.jpg', '008374.jpg', '000218.jpg', '009872.jpg', '001343.jpg', '009863.jpg', '002549.jpg', '001341.jpg', '006603.jpg', '002268.jpg', '003243.jpg', '002444.jpg', '006661.jpg', '000685.jpg', '008279.jpg', '003331.jpg', '000531.jpg', '007836.jpg', '006706.jpg', '007266.jpg', '004396.jpg', '004075.jpg', '001861.jpg', '002785.jpg', '001510.jpg', '007020.jpg', '006865.jpg', '005631.jpg', '003356.jpg', '009129.jpg', '000936.jpg', '000929.jpg', '000911.jpg', '003678.jpg', '002129.jpg', '009679.jpg', '005664.jpg', '002471.jpg', '008733.jpg', '003120.jpg', '000101.jpg', '004384.jpg', '008427.jpg', '006849.jpg', '001284.jpg', '008049.jpg', '006238.jpg', '000878.jpg', '005130.jpg', '004300.jpg', '009066.jpg', '006995.jpg', '009882.jpg', '002718.jpg', '002090.jpg', '007064.jpg', '001182.jpg', '006988.jpg', '005298.jpg', '005830.jpg', '003441.jpg', '009477.jpg', '003228.jpg', '002213.jpg', '001741.jpg', '002002.jpg', '004221.jpg', '004073.jpg', '008805.jpg', '009816.jpg', '003524.jpg', '007847.jpg', '005584.jpg', '005527.jpg', '006150.jpg', '007174.jpg', '003963.jpg', '003874.jpg', '000535.jpg', '002450.jpg', '008771.jpg', '007408.jpg', '005270.jpg', '006572.jpg', '004647.jpg', '009177.jpg', '008559.jpg', '000329.jpg', '009459.jpg', '008202.jpg', '008968.jpg', '005489.jpg', '008311.jpg', '002288.jpg', '003303.jpg', '006366.jpg', '004548.jpg', '005747.jpg', '008452.jpg', '005639.jpg', '005796.jpg', '001501.jpg', '007815.jpg', '002881.jpg', '008966.jpg', '006096.jpg', '009296.jpg', '005496.jpg', '001200.jpg', '006962.jpg', '007798.jpg', '006027.jpg', '006419.jpg', '001092.jpg', '003703.jpg', '008450.jpg', '000826.jpg', '008939.jpg', '006536.jpg', '007544.jpg', '004327.jpg', '006953.jpg', '007058.jpg', '009737.jpg', '008621.jpg', '004943.jpg', '004158.jpg', '002717.jpg', '000312.jpg', '003270.jpg', '000503.jpg', '004017.jpg', '000812.jpg', '006709.jpg', '006637.jpg', '000626.jpg', '009079.jpg', '005438.jpg', '004361.jpg', '006822.jpg', '008572.jpg', '007950.jpg', '003704.jpg', '002202.jpg', '001689.jpg', '006794.jpg', '003648.jpg', '006484.jpg', '008140.jpg', '004345.jpg', '003200.jpg', '001186.jpg', '006766.jpg', '007185.jpg', '002784.jpg', '001102.jpg', '001854.jpg', '005624.jpg', '005405.jpg', '006353.jpg', '003919.jpg', '004687.jpg', '001475.jpg', '006146.jpg', '000767.jpg', '001778.jpg', '001121.jpg', '005817.jpg', '005799.jpg', '004998.jpg', '003004.jpg', '005863.jpg', '003638.jpg', '008769.jpg', '009865.jpg', '001707.jpg', '002542.jpg', '003783.jpg', '004005.jpg', '003921.jpg', '009259.jpg', '008695.jpg', '005360.jpg', '009299.jpg', '003451.jpg', '004674.jpg', '004722.jpg', '004246.jpg', '005908.jpg', '001450.jpg', '004060.jpg', '009080.jpg', '002024.jpg', '006329.jpg', '008506.jpg', '006352.jpg', '002953.jpg', '003809.jpg', '009550.jpg', '005588.jpg', '009196.jpg', '009584.jpg', '003054.jpg', '006158.jpg', '004790.jpg', '009809.jpg', '009378.jpg', '007889.jpg', '008799.jpg', '001553.jpg', '004237.jpg', '006584.jpg', '001877.jpg', '001233.jpg', '000133.jpg', '000964.jpg', '009195.jpg', '002362.jpg', '002732.jpg', '007344.jpg', '007570.jpg', '006976.jpg', '003149.jpg', '000113.jpg', '000822.jpg', '003256.jpg', '002690.jpg', '003339.jpg', '003455.jpg', '009719.jpg', '002385.jpg', '007525.jpg', '005418.jpg', '001107.jpg', '001556.jpg', '006371.jpg', '000470.jpg', '005467.jpg', '004150.jpg', '003124.jpg', '005056.jpg', '008867.jpg', '004471.jpg', '005629.jpg', '003435.jpg', '006932.jpg', '008617.jpg', '003429.jpg', '000323.jpg', '001444.jpg', '006751.jpg', '005765.jpg', '006369.jpg', '002561.jpg', '001952.jpg', '005947.jpg', '005055.jpg', '002910.jpg', '001166.jpg', '001504.jpg', '003086.jpg', '000036.jpg', '002042.jpg', '007236.jpg', '006382.jpg', '009549.jpg', '003107.jpg', '008794.jpg', '000705.jpg', '007790.jpg', '008592.jpg', '000380.jpg', '007654.jpg', '005702.jpg', '009112.jpg', '007300.jpg', '003320.jpg', '001982.jpg', '005811.jpg', '008098.jpg', '006632.jpg', '008139.jpg', '004558.jpg', '004986.jpg', '003279.jpg', '000768.jpg', '002670.jpg', '002605.jpg', '002713.jpg', '006046.jpg', '001894.jpg', '000908.jpg', '002500.jpg', '007168.jpg', '007688.jpg', '009048.jpg', '005064.jpg', '003674.jpg', '005202.jpg', '000934.jpg', '005840.jpg', '009523.jpg', '000150.jpg', '009834.jpg', '004499.jpg', '004046.jpg', '004983.jpg', '004148.jpg', '007261.jpg', '003089.jpg', '000752.jpg', '006395.jpg', '006507.jpg', '000818.jpg', '005676.jpg', '003585.jpg', '002411.jpg', '009833.jpg', '004999.jpg', '005841.jpg', '005894.jpg', '007793.jpg', '005384.jpg', '007843.jpg', '007925.jpg', '002335.jpg', '008760.jpg', '002019.jpg', '008691.jpg', '002783.jpg', '005007.jpg', '005267.jpg', '007297.jpg', '007018.jpg', '009247.jpg', '007565.jpg', '005171.jpg', '005026.jpg', '000845.jpg', '001887.jpg', '004719.jpg', '006556.jpg', '007572.jpg', '003729.jpg', '008475.jpg', '003110.jpg', '009027.jpg', '004507.jpg', '007618.jpg', '007558.jpg', '004691.jpg', '004644.jpg', '008790.jpg', '000051.jpg', '007033.jpg', '003112.jpg', '003684.jpg', '000381.jpg', '005990.jpg', '000192.jpg', '009733.jpg', '000675.jpg', '009351.jpg', '007530.jpg', '000259.jpg', '008365.jpg', '000999.jpg', '002194.jpg', '005023.jpg', '006005.jpg', '005499.jpg', '005608.jpg', '008766.jpg', '002284.jpg', '006547.jpg', '001260.jpg', '004768.jpg', '008585.jpg', '003992.jpg', '001931.jpg', '007606.jpg', '008931.jpg', '002915.jpg', '000304.jpg', '002219.jpg', '009687.jpg', '003539.jpg', '004013.jpg', '008892.jpg', '005378.jpg', '004956.jpg', '004170.jpg', '006570.jpg', '004732.jpg', '004584.jpg', '006202.jpg', '008874.jpg', '004284.jpg', '004034.jpg', '005410.jpg', '009832.jpg', '000268.jpg', '001948.jpg', '003072.jpg', '001144.jpg', '005391.jpg', '009732.jpg', '006221.jpg', '001915.jpg', '006972.jpg', '001717.jpg', '004856.jpg', '001545.jpg', '006111.jpg', '007933.jpg', '006965.jpg', '004293.jpg', '006320.jpg', '003354.jpg', '001408.jpg', '009422.jpg', '009528.jpg', '001539.jpg', '000061.jpg', '001612.jpg', '000695.jpg', '002030.jpg', '000374.jpg', '002632.jpg', '006682.jpg', '004360.jpg', '004631.jpg', '008581.jpg', '001499.jpg', '008885.jpg', '000991.jpg', '003575.jpg', '004201.jpg', '000354.jpg', '002220.jpg', '001241.jpg', '000770.jpg', '009454.jpg', '005475.jpg', '006020.jpg', '007536.jpg', '007284.jpg', '003628.jpg', '003521.jpg', '004229.jpg', '003129.jpg', '001726.jpg', '007421.jpg', '008692.jpg', '002525.jpg', '002896.jpg', '008880.jpg', '008595.jpg', '000820.jpg', '003021.jpg', '008772.jpg', '001221.jpg', '003282.jpg', '002493.jpg', '007533.jpg', '006789.jpg', '009123.jpg', '008757.jpg', '008323.jpg', '003849.jpg', '004706.jpg', '005877.jpg', '008218.jpg', '004727.jpg', '005037.jpg', '007234.jpg', '001073.jpg', '006657.jpg', '009138.jpg', '009711.jpg', '003625.jpg', '006930.jpg', '001532.jpg', '004019.jpg', '000198.jpg', '002433.jpg', '001151.jpg', '006858.jpg', '004321.jpg', '002847.jpg', '005311.jpg', '000125.jpg', '002763.jpg', '000021.jpg', '003044.jpg', '003577.jpg', '007953.jpg', '009531.jpg', '001451.jpg', '007311.jpg', '007673.jpg', '007721.jpg', '008723.jpg', '001582.jpg', '004962.jpg', '000915.jpg', '002571.jpg', '003064.jpg', '006990.jpg', '007056.jpg', '006759.jpg', '006367.jpg', '002146.jpg', '005190.jpg', '006088.jpg', '003717.jpg', '009605.jpg', '004777.jpg', '002958.jpg', '005338.jpg', '002209.jpg', '004106.jpg', '004890.jpg', '001809.jpg', '009419.jpg', '009126.jpg', '005531.jpg', '004052.jpg', '007373.jpg', '008670.jpg', '006966.jpg', '000904.jpg', '008513.jpg', '006448.jpg', '007140.jpg', '008082.jpg', '002324.jpg', '005514.jpg', '000931.jpg', '009831.jpg', '000599.jpg', '005590.jpg', '001554.jpg', '008601.jpg', '000229.jpg', '003100.jpg', '006476.jpg', '000250.jpg', '008130.jpg', '002145.jpg', '006355.jpg', '006610.jpg', '005423.jpg', '002156.jpg', '006702.jpg', '000189.jpg', '002741.jpg', '007416.jpg', '001960.jpg', '007144.jpg', '006433.jpg', '006276.jpg', '009245.jpg', '001268.jpg', '009438.jpg', '004808.jpg', '001209.jpg', '003015.jpg', '001559.jpg', '000448.jpg', '003325.jpg', '004502.jpg', '005773.jpg', '003308.jpg', '004995.jpg', '002310.jpg', '002889.jpg', '006704.jpg', '000799.jpg', '007479.jpg', '006185.jpg', '002666.jpg', '008029.jpg', '001617.jpg', '003877.jpg', '005867.jpg', '003808.jpg', '009491.jpg', '007939.jpg', '005110.jpg', '005325.jpg', '008268.jpg', '006206.jpg', '008302.jpg', '000270.jpg', '006839.jpg', '008923.jpg', '007180.jpg', '000887.jpg', '004723.jpg', '009133.jpg', '005605.jpg', '009312.jpg', '001647.jpg', '008409.jpg', '006939.jpg', '001069.jpg', '002848.jpg', '006679.jpg', '008002.jpg', '004622.jpg', '008542.jpg', '002721.jpg', '004279.jpg', '005483.jpg', '004169.jpg', '005393.jpg', '003623.jpg', '003509.jpg', '004685.jpg', '006850.jpg', '000431.jpg', '008926.jpg', '004675.jpg', '000555.jpg', '007932.jpg', '003913.jpg', '001432.jpg', '003285.jpg', '001878.jpg', '002058.jpg', '001512.jpg', '006576.jpg', '002001.jpg', '007100.jpg', '008871.jpg', '008835.jpg', '008948.jpg', '009424.jpg', '002933.jpg', '000302.jpg', '005203.jpg', '002501.jpg', '002766.jpg', '006810.jpg', '003007.jpg', '005630.jpg', '002618.jpg', '002569.jpg', '001907.jpg', '007351.jpg', '003254.jpg', '003997.jpg', '000394.jpg', '004015.jpg', '009520.jpg', '007205.jpg', '007247.jpg', '004903.jpg', '009418.jpg', '009291.jpg', '006458.jpg', '005781.jpg', '000359.jpg', '001775.jpg', '006198.jpg', '008588.jpg', '006569.jpg', '002181.jpg', '008978.jpg', '003386.jpg', '009432.jpg', '005636.jpg', '008558.jpg', '004960.jpg', '000564.jpg', '005710.jpg', '008699.jpg', '002027.jpg', '002566.jpg', '008260.jpg', '005859.jpg', '000174.jpg', '003404.jpg', '007758.jpg', '007528.jpg', '003620.jpg', '004203.jpg', '006011.jpg', '004566.jpg', '002256.jpg', '007049.jpg', '009691.jpg', '008297.jpg', '009414.jpg', '003781.jpg', '001483.jpg', '008806.jpg', '002722.jpg', '003199.jpg', '006935.jpg', '007724.jpg', '003374.jpg', '005263.jpg', '001187.jpg', '000235.jpg', '009004.jpg', '003946.jpg', '009580.jpg', '003664.jpg', '001036.jpg', '009813.jpg', '002037.jpg', '007390.jpg', '002765.jpg', '002404.jpg', '009794.jpg', '009252.jpg', '005819.jpg', '005813.jpg', '002382.jpg', '004424.jpg', '000416.jpg', '007640.jpg', '008189.jpg', '000278.jpg', '006424.jpg', '005288.jpg', '004152.jpg', '004782.jpg', '001918.jpg', '008186.jpg', '008310.jpg', '002248.jpg', '000849.jpg', '009756.jpg', '001390.jpg', '002255.jpg', '003301.jpg', '006524.jpg', '001270.jpg', '007274.jpg', '003011.jpg', '006284.jpg', '004231.jpg', '009562.jpg', '003993.jpg', '006867.jpg', '009371.jpg', '009746.jpg', '004286.jpg', '009086.jpg', '006000.jpg', '005290.jpg', '007503.jpg', '001009.jpg', '007467.jpg', '008036.jpg', '008987.jpg', '004387.jpg', '002683.jpg', '009269.jpg', '006208.jpg', '007394.jpg', '008536.jpg', '000912.jpg', '005374.jpg', '004137.jpg', '002043.jpg', '004715.jpg', '003330.jpg', '008784.jpg', '006055.jpg', '006660.jpg', '007555.jpg', '003773.jpg', '000078.jpg', '005217.jpg', '005487.jpg', '007910.jpg', '002869.jpg', '000973.jpg', '007365.jpg', '003754.jpg', '006400.jpg', '008982.jpg', '001840.jpg', '004702.jpg', '005045.jpg', '005530.jpg', '007519.jpg', '000222.jpg', '007279.jpg', '009303.jpg', '004916.jpg', '005168.jpg', '007615.jpg', '007298.jpg', '005102.jpg', '003711.jpg', '002340.jpg', '000370.jpg', '000760.jpg', '000656.jpg', '005470.jpg', '000563.jpg', '005327.jpg', '007980.jpg', '004837.jpg', '000540.jpg', '007177.jpg', '001142.jpg', '008518.jpg', '006695.jpg', '009542.jpg', '004517.jpg', '003274.jpg', '001633.jpg', '006391.jpg', '008235.jpg', '000888.jpg', '000154.jpg', '008087.jpg', '005784.jpg', '004450.jpg', '003872.jpg', '008329.jpg', '000699.jpg', '000645.jpg', '000328.jpg', '002653.jpg', '001628.jpg', '005789.jpg', '003343.jpg', '008917.jpg', '001847.jpg', '002391.jpg', '000446.jpg', '001958.jpg', '002504.jpg', '003753.jpg', '005660.jpg', '002505.jpg', '002315.jpg', '005379.jpg', '002657.jpg', '003108.jpg', '002563.jpg', '009638.jpg', '004823.jpg', '000387.jpg', '000903.jpg', '002547.jpg', '001445.jpg', '007748.jpg', '008467.jpg', '006520.jpg', '009900.jpg', '001002.jpg', '001140.jpg', '002139.jpg', '004761.jpg', '008300.jpg', '002706.jpg', '000514.jpg', '002287.jpg', '006029.jpg', '005067.jpg', '004786.jpg', '006272.jpg', '007919.jpg', '000850.jpg', '005078.jpg', '009151.jpg', '003155.jpg', '004953.jpg', '006180.jpg', '004452.jpg', '009911.jpg', '002635.jpg', '005219.jpg', '005657.jpg', '001017.jpg', '007167.jpg', '009215.jpg', '006499.jpg', '005285.jpg', '000477.jpg', '006212.jpg', '003956.jpg', '001860.jpg', '004437.jpg', '007427.jpg', '008484.jpg', '009712.jpg', '003990.jpg', '002483.jpg', '007104.jpg', '006844.jpg', '002470.jpg', '005768.jpg', '004209.jpg', '001472.jpg', '009577.jpg', '004830.jpg', '007826.jpg', '005884.jpg', '002055.jpg', '000288.jpg', '002476.jpg', '008144.jpg', '003651.jpg', '005843.jpg', '008739.jpg', '003998.jpg', '003556.jpg', '000034.jpg', '008819.jpg', '001855.jpg', '002838.jpg', '001548.jpg', '005888.jpg', '008019.jpg', '003912.jpg', '002334.jpg', '001810.jpg', '006295.jpg', '004220.jpg', '005434.jpg', '002401.jpg', '006917.jpg', '006319.jpg', '001611.jpg', '005448.jpg', '006229.jpg', '006218.jpg', '005345.jpg', '002648.jpg', '006153.jpg', '005938.jpg', '001323.jpg', '006223.jpg', '009035.jpg', '009908.jpg', '003469.jpg', '004797.jpg', '007323.jpg', '003170.jpg', '003865.jpg', '009735.jpg', '004606.jpg', '003262.jpg', '007685.jpg', '002589.jpg', '001386.jpg', '000169.jpg', '003679.jpg', '008425.jpg', '000544.jpg', '002584.jpg', '005554.jpg', '005715.jpg', '009512.jpg', '007885.jpg', '004016.jpg', '004140.jpg', '006234.jpg', '003732.jpg', '004788.jpg', '004873.jpg', '005143.jpg', '008720.jpg', '006260.jpg', '009029.jpg', '002891.jpg', '004341.jpg', '002270.jpg', '004839.jpg', '002954.jpg', '004120.jpg', '006437.jpg', '000141.jpg', '006836.jpg', '009309.jpg', '003092.jpg', '005363.jpg', '009600.jpg', '004338.jpg', '009439.jpg', '007165.jpg', '007720.jpg', '001043.jpg', '007475.jpg', '009758.jpg', '004457.jpg', '001522.jpg', '008503.jpg', '007438.jpg', '002990.jpg', '002088.jpg', '008730.jpg', '005682.jpg', '009078.jpg', '004178.jpg', '003300.jpg', '003133.jpg', '001397.jpg', '004692.jpg', '005861.jpg', '007486.jpg', '009905.jpg', '001650.jpg', '005396.jpg', '001830.jpg', '002333.jpg', '006722.jpg', '003886.jpg', '008512.jpg', '001636.jpg', '003465.jpg', '007859.jpg', '005414.jpg', '001977.jpg', '000147.jpg', '001154.jpg', '008930.jpg', '004138.jpg', '004484.jpg', '000305.jpg', '002158.jpg', '003695.jpg', '001071.jpg', '002834.jpg', '005478.jpg', '009460.jpg', '002215.jpg', '004163.jpg', '002064.jpg', '001041.jpg', '008665.jpg', '000863.jpg', '006233.jpg', '005960.jpg', '007449.jpg', '002125.jpg', '002047.jpg', '001555.jpg', '007436.jpg', '004972.jpg', '006281.jpg', '006916.jpg', '007765.jpg', '005697.jpg', '007359.jpg', '000499.jpg', '009064.jpg', '000791.jpg', '002436.jpg', '009374.jpg', '005195.jpg', '009348.jpg', '004464.jpg', '009845.jpg', '000501.jpg', '005552.jpg', '009218.jpg', '009098.jpg', '002318.jpg', '000498.jpg', '008633.jpg', '006730.jpg', '005515.jpg', '002675.jpg', '009214.jpg', '005601.jpg', '004951.jpg', '007468.jpg', '006845.jpg', '005961.jpg', '008573.jpg', '005895.jpg', '001594.jpg', '009458.jpg', '004146.jpg', '004866.jpg', '006472.jpg', '004368.jpg', '005845.jpg', '007197.jpg', '002520.jpg', '004976.jpg', '007048.jpg', '008768.jpg', '000522.jpg', '007374.jpg', '007746.jpg', '002836.jpg', '007821.jpg', '002967.jpg', '000851.jpg', '008756.jpg', '001768.jpg', '005901.jpg', '009946.jpg', '009333.jpg', '009874.jpg', '005124.jpg', '008312.jpg', '009443.jpg', '009359.jpg', '006131.jpg', '008727.jpg', '008584.jpg', '002112.jpg', '007461.jpg', '007547.jpg', '002136.jpg', '000095.jpg', '008166.jpg', '000318.jpg', '001797.jpg', '003966.jpg', '005073.jpg', '005903.jpg', '006001.jpg', '002281.jpg', '000219.jpg', '002095.jpg', '005242.jpg', '002321.jpg', '003587.jpg', '006800.jpg', '008522.jpg', '004455.jpg', '007779.jpg', '009776.jpg', '000407.jpg', '009094.jpg', '008386.jpg', '005699.jpg', '002311.jpg', '003803.jpg', '007901.jpg', '006868.jpg', '006842.jpg', '005085.jpg', '009375.jpg', '005058.jpg', '003885.jpg', '000753.jpg', '005755.jpg', '001125.jpg', '007626.jpg', '000690.jpg', '002760.jpg', '006392.jpg', '002976.jpg', '005304.jpg', '007831.jpg', '009947.jpg', '005114.jpg', '008108.jpg', '003589.jpg', '004433.jpg', '009472.jpg', '000146.jpg', '000946.jpg', '005948.jpg', '005185.jpg', '001292.jpg', '000918.jpg', '002134.jpg', '001928.jpg', '004742.jpg', '005169.jpg', '005122.jpg', '008742.jpg', '001127.jpg', '006091.jpg', '003061.jpg', '006241.jpg', '006279.jpg', '003121.jpg', '009479.jpg', '003845.jpg', '007976.jpg', '002989.jpg', '004331.jpg', '003150.jpg', '002069.jpg', '008465.jpg', '001597.jpg', '005385.jpg', '003767.jpg', '004886.jpg', '005971.jpg', '001106.jpg', '006627.jpg', '006762.jpg', '003420.jpg', '007443.jpg', '001725.jpg', '007086.jpg', '001129.jpg', '009368.jpg', '006225.jpg', '008385.jpg', '007999.jpg', '006409.jpg', '008316.jpg', '004524.jpg', '009020.jpg', '008387.jpg', '003231.jpg', '006140.jpg', '004693.jpg', '004352.jpg', '003034.jpg', '002015.jpg', '008523.jpg', '003828.jpg', '006067.jpg', '002373.jpg', '009282.jpg', '006689.jpg', '002523.jpg', '000117.jpg', '000707.jpg', '002870.jpg', '006184.jpg', '007704.jpg', '003911.jpg', '002025.jpg', '001237.jpg', '000787.jpg', '001239.jpg', '003817.jpg', '005328.jpg', '001945.jpg', '009463.jpg', '001334.jpg', '009022.jpg', '003401.jpg', '000048.jpg', '003253.jpg', '008526.jpg', '006583.jpg', '002492.jpg', '004707.jpg', '005851.jpg', '003856.jpg', '001008.jpg', '007483.jpg', '005264.jpg', '001176.jpg', '007614.jpg', '002855.jpg', '001514.jpg', '003835.jpg', '000162.jpg', '003949.jpg', '001012.jpg', '001544.jpg', '002417.jpg', '009005.jpg', '005672.jpg', '008773.jpg', '008973.jpg', '000740.jpg', '009051.jpg', '000482.jpg', '005084.jpg', '008294.jpg', '007702.jpg', '001492.jpg', '001699.jpg', '000417.jpg', '004102.jpg', '009537.jpg', '000997.jpg', '005592.jpg', '001816.jpg', '009456.jpg', '004508.jpg', '009603.jpg', 'models', '004660.jpg', '007675.jpg', '001521.jpg', '009326.jpg', '008988.jpg', '007330.jpg', '008849.jpg', '009862.jpg', '003027.jpg', '006462.jpg', '006449.jpg', '006959.jpg', '009902.jpg', '000900.jpg', '001269.jpg', '004708.jpg', '007668.jpg', '004012.jpg', '000800.jpg', '006617.jpg', '005740.jpg', '002020.jpg', '004718.jpg', '006919.jpg', '005566.jpg', '003045.jpg', '004816.jpg', '006501.jpg', '000804.jpg', '001184.jpg', '004318.jpg', '007751.jpg', '001985.jpg', '004760.jpg', '002011.jpg', '001346.jpg', '000443.jpg', '009331.jpg', '005273.jpg', '000872.jpg', '007150.jpg', '006028.jpg', '003895.jpg', '004512.jpg', '002265.jpg', '009016.jpg', '002775.jpg', '003337.jpg', '001561.jpg', '004746.jpg', '006058.jpg', '002439.jpg', '007579.jpg', '003567.jpg', '005783.jpg', '006956.jpg', '004326.jpg', '007215.jpg', '001480.jpg', '005408.jpg', '006671.jpg', '003398.jpg', '000520.jpg', '005814.jpg', '001175.jpg', '003791.jpg', '004247.jpg', '009382.jpg', '002320.jpg', '002000.jpg', '001148.jpg', '006291.jpg', '006269.jpg', '009457.jpg', '002201.jpg', '005909.jpg', '007224.jpg', '003468.jpg', '002472.jpg', '000777.jpg', '001294.jpg', '005042.jpg', '003032.jpg', '003453.jpg', '006578.jpg', '009091.jpg', '009192.jpg', '003380.jpg', '007200.jpg', '002460.jpg', '000513.jpg', '008168.jpg', '001004.jpg', '008169.jpg', '008848.jpg', '006880.jpg', '005315.jpg', '002593.jpg', '005497.jpg', '008983.jpg', '009852.jpg', '001486.jpg', '006948.jpg', '006171.jpg', '004857.jpg', '009825.jpg', '005652.jpg', '009007.jpg', '000321.jpg', '003953.jpg', '004258.jpg', '006673.jpg', '003820.jpg', '004530.jpg', '001789.jpg', '000246.jpg', '004272.jpg', '003313.jpg', '004701.jpg', '007664.jpg', '009484.jpg', '007073.jpg', '004111.jpg', '003656.jpg', '004496.jpg', '006285.jpg', '000233.jpg', '009227.jpg', '007810.jpg', '000072.jpg', '005146.jpg', '009778.jpg', '001024.jpg', '006069.jpg', '007940.jpg', '000411.jpg', '000802.jpg', '009878.jpg', '003005.jpg', '006338.jpg', '008236.jpg', '006351.jpg', '001201.jpg', '001806.jpg', '005111.jpg', '001911.jpg', '005090.jpg', '008175.jpg', '007568.jpg', '002054.jpg', '001467.jpg', '005138.jpg', '006071.jpg', '006103.jpg', '006786.jpg', '008913.jpg', '008224.jpg', '007868.jpg', '007680.jpg', '003105.jpg', '007987.jpg', '003390.jpg', '009707.jpg', '003947.jpg', '009461.jpg', '006734.jpg', '000382.jpg', '000958.jpg', '007546.jpg', '004009.jpg', '001455.jpg', '003207.jpg', '001350.jpg', '001686.jpg', '000702.jpg', '003311.jpg', '006887.jpg', '001385.jpg', '003642.jpg', '000158.jpg', '004386.jpg', '002323.jpg', '005719.jpg', '001112.jpg', '005928.jpg', '006100.jpg', '009923.jpg', '007621.jpg', '000403.jpg', '003821.jpg', '008275.jpg', '000142.jpg', '002947.jpg', '007363.jpg', '009254.jpg', '005732.jpg', '000334.jpg', '005081.jpg', '009323.jpg', '001970.jpg', '001488.jpg', '003023.jpg', '007923.jpg', '002307.jpg', '007731.jpg', '000717.jpg', '006981.jpg', '002367.jpg', '003186.jpg', '001485.jpg', '007193.jpg', '002709.jpg', '002441.jpg', '006261.jpg', '002826.jpg', '006323.jpg', '004961.jpg', '004656.jpg', '009566.jpg', '007732.jpg', '005454.jpg', '005618.jpg', '008888.jpg', '006761.jpg', '001739.jpg', '000590.jpg', '000892.jpg', '000565.jpg', '003830.jpg', '005983.jpg', '005268.jpg', '008075.jpg', '003797.jpg', '009389.jpg', '002257.jpg', '005136.jpg', '002170.jpg', '009848.jpg', '006243.jpg', '009533.jpg', '002343.jpg', '001028.jpg', '008811.jpg', '002372.jpg', '007446.jpg', '009131.jpg', '000184.jpg', '007369.jpg', '004196.jpg', '000625.jpg', '005563.jpg', '005637.jpg', '007743.jpg', '009571.jpg', '006835.jpg', '002880.jpg', '008683.jpg', '001266.jpg', '007540.jpg', '008269.jpg', '003284.jpg', '007327.jpg', '000608.jpg', '001557.jpg', '009073.jpg', '006125.jpg', '005071.jpg', '006438.jpg', '002135.jpg', '008883.jpg', '009637.jpg', '004409.jpg', '008873.jpg', '006519.jpg', '003175.jpg', '004244.jpg', '007035.jpg', '000982.jpg', '002744.jpg', '002293.jpg', '002935.jpg', '002778.jpg', '003671.jpg', '004143.jpg', '005349.jpg', '006772.jpg', '008653.jpg', '009801.jpg', '000987.jpg', '002572.jpg', '003211.jpg', '008680.jpg', '001405.jpg', '000134.jpg', '007795.jpg', '004193.jpg', '007295.jpg', '001056.jpg', '005144.jpg', '002977.jpg', '001293.jpg', '000427.jpg', '001906.jpg', '007271.jpg', '004634.jpg', '004672.jpg', '005968.jpg', '000214.jpg', '003748.jpg', '007974.jpg', '007631.jpg', '004287.jpg', '007909.jpg', '009058.jpg', '002995.jpg', '008410.jpg', '007594.jpg', '007776.jpg', '009709.jpg', '006341.jpg', '002392.jpg', '008550.jpg', '003205.jpg', '009255.jpg', '000782.jpg', '002496.jpg', '008453.jpg', '009896.jpg', '007656.jpg', '003667.jpg', '004149.jpg', '004430.jpg', '009116.jpg', '001729.jpg', '002260.jpg', '004271.jpg', '002737.jpg', '004333.jpg', '006203.jpg', '009527.jpg', '009221.jpg', '009481.jpg', '005714.jpg', '000081.jpg', '004974.jpg', '007824.jpg', '000847.jpg', '000677.jpg', '002070.jpg', '008967.jpg', '006161.jpg', '000756.jpg', '005794.jpg', '006971.jpg', '003506.jpg', '004562.jpg', '003161.jpg', '001247.jpg', '007241.jpg', '000484.jpg', '008397.jpg', '007898.jpg', '005229.jpg', '007445.jpg', '000865.jpg', '009898.jpg', '005614.jpg', '001747.jpg', '008125.jpg', '007611.jpg', '004082.jpg', '007781.jpg', '002747.jpg', '002276.jpg', '001565.jpg', '007184.jpg', '001078.jpg', '008403.jpg', '000112.jpg', '008582.jpg', '002555.jpg', '000469.jpg', '007149.jpg', '001713.jpg', '006066.jpg', '000876.jpg', '007375.jpg', '002445.jpg', '002803.jpg', '003377.jpg', '009545.jpg', '007222.jpg', '009350.jpg', '000710.jpg', '002083.jpg', '006760.jpg', '000672.jpg', '004164.jpg', '000688.jpg', '003618.jpg', '001515.jpg', '000902.jpg', '001785.jpg', '004527.jpg', '004439.jpg', '002817.jpg', '007760.jpg', '001963.jpg', '003994.jpg', '003876.jpg', '009700.jpg', '005072.jpg', '002667.jpg', '001610.jpg', '008318.jpg', '003053.jpg', '005641.jpg', '003360.jpg', '006874.jpg', '005559.jpg', '004935.jpg', '001682.jpg', '003714.jpg', '007414.jpg', '003700.jpg', '004190.jpg', '000042.jpg', '004679.jpg', '005980.jpg', '008535.jpg', '004885.jpg', '002152.jpg', '005079.jpg', '007924.jpg', '009433.jpg', '004897.jpg', '003594.jpg', '005094.jpg', '005854.jpg', '009664.jpg', '006254.jpg', '001348.jpg', '005723.jpg', '005471.jpg', '005397.jpg', '001101.jpg', '009175.jpg', '002844.jpg', '000228.jpg', '002942.jpg', '001414.jpg', '000868.jpg', '008177.jpg', '001457.jpg', '008434.jpg', '005839.jpg', '005121.jpg', '007036.jpg', '004555.jpg', '000110.jpg', '004380.jpg', '002715.jpg', '002804.jpg', '003181.jpg', '002190.jpg', '006922.jpg', '003586.jpg', '008644.jpg', '002854.jpg', '007122.jpg', '007075.jpg', '008698.jpg', '008009.jpg', '000885.jpg', '005668.jpg', '007039.jpg', '005358.jpg', '006784.jpg', '008524.jpg', '005153.jpg', '005457.jpg', '008936.jpg', '003477.jpg', '004291.jpg', '007080.jpg', '007877.jpg', '001870.jpg', '004907.jpg', '008985.jpg', '007863.jpg', '007612.jpg', '006903.jpg', '000686.jpg', '007294.jpg', '001673.jpg', '008710.jpg', '009881.jpg', '000589.jpg', '002199.jpg', '003970.jpg', '002117.jpg', '007385.jpg', '006799.jpg', '003462.jpg', '000954.jpg', '008519.jpg', '001784.jpg', '004434.jpg', '006404.jpg', '008587.jpg', '003635.jpg', '008048.jpg', '008975.jpg', '002374.jpg', '009949.jpg', '005303.jpg', '000064.jpg', '003749.jpg', '002345.jpg', '005431.jpg', '001638.jpg', '006251.jpg', '007603.jpg', '000464.jpg', '005899.jpg', '007129.jpg', '001708.jpg', '007052.jpg', '006645.jpg', '001834.jpg', '004273.jpg', '000017.jpg', '004494.jpg', '002273.jpg', '009466.jpg', '007647.jpg', '000177.jpg', '008001.jpg', '009920.jpg', '002598.jpg', '002952.jpg', '004303.jpg', '005388.jpg', '001018.jpg', '003887.jpg', '003213.jpg', '009336.jpg', '009434.jpg', '002244.jpg', '005519.jpg', '000035.jpg', '005914.jpg', '006428.jpg', '004194.jpg', '002941.jpg', '009446.jpg', '004585.jpg', '000165.jpg', '003450.jpg', '001801.jpg', '003793.jpg', '002086.jpg', '001289.jpg', '004850.jpg', '000050.jpg', '007943.jpg', '005679.jpg', '005014.jpg', '001027.jpg', '003392.jpg', '007786.jpg', '002104.jpg', '001691.jpg', '001077.jpg', '001426.jpg', '003090.jpg', '003430.jpg', '002946.jpg', '004632.jpg', '003554.jpg', '006950.jpg', '007432.jpg', '008955.jpg', '008607.jpg', '006151.jpg', '000671.jpg', '004931.jpg', '003806.jpg', '006740.jpg', '003106.jpg', '008639.jpg', '003698.jpg', '008188.jpg', '009636.jpg', '005441.jpg', '001640.jpg', '004365.jpg', '005864.jpg', '001215.jpg', '000347.jpg', '000898.jpg', '004359.jpg', '005791.jpg', '008716.jpg', '005278.jpg', '004270.jpg', '003640.jpg', '006595.jpg', '003548.jpg', '006009.jpg', '003663.jpg', '000515.jpg', '006215.jpg', '006553.jpg', '006599.jpg', '008341.jpg', '004391.jpg', '005838.jpg', '004033.jpg', '008315.jpg', '008390.jpg', '009938.jpg', '001147.jpg', '002984.jpg', '000476.jpg', '006357.jpg', '009508.jpg', '002082.jpg', '003219.jpg', '005340.jpg', '006321.jpg', '004280.jpg', '000832.jpg', '007138.jpg', '009429.jpg', '003349.jpg', '009868.jpg', '007873.jpg', '003063.jpg', '008164.jpg', '009437.jpg', '005297.jpg', '000509.jpg', '009678.jpg', '004655.jpg', '000541.jpg', '009476.jpg', '008443.jpg', '003000.jpg', '006828.jpg', '000500.jpg', '007466.jpg', '006339.jpg', '000739.jpg', '004379.jpg', '002759.jpg', '008667.jpg', '006474.jpg', '005547.jpg', '004990.jpg', '007666.jpg', '007350.jpg', '008171.jpg', '009100.jpg', '006899.jpg', '006396.jpg', '008254.jpg', '002600.jpg', '002886.jpg', '003002.jpg', '008750.jpg', '000684.jpg', '004991.jpg', '006314.jpg', '000808.jpg', '007191.jpg', '003425.jpg', '002109.jpg', '004651.jpg', '000774.jpg', '005417.jpg', '006949.jpg', '007308.jpg', '005173.jpg', '007214.jpg', '003240.jpg', '008562.jpg', '001930.jpg', '006247.jpg', '004750.jpg', '003857.jpg', '003236.jpg', '004014.jpg', '008801.jpg', '000052.jpg', '000296.jpg', '004195.jpg', '005852.jpg', '000729.jpg', '008932.jpg', '002858.jpg', '006443.jpg', '000577.jpg', '002352.jpg', '006605.jpg', '009634.jpg', '002841.jpg', '008313.jpg', '009440.jpg', '006666.jpg', '008426.jpg', '009339.jpg', '006893.jpg', '000714.jpg', '009406.jpg', '007172.jpg', '006606.jpg', '005875.jpg', '003271.jpg', '008556.jpg', '007147.jpg', '001938.jpg', '001194.jpg', '001160.jpg', '007417.jpg', '003239.jpg', '009702.jpg', '002023.jpg', '000657.jpg', '009174.jpg', '002443.jpg', '003603.jpg', '004269.jpg', '001388.jpg', '009738.jpg', '005057.jpg', '000454.jpg', '001493.jpg', '003848.jpg', '007605.jpg', '004636.jpg', '001680.jpg', '004754.jpg', '000855.jpg', '007775.jpg', '003621.jpg', '005586.jpg', '004436.jpg', '003093.jpg', '004825.jpg', '000344.jpg', '006235.jpg', '008112.jpg', '001593.jpg', '001981.jpg', '003519.jpg', '001332.jpg', '006398.jpg', '009272.jpg', '005150.jpg', '008858.jpg', '008461.jpg', '008498.jpg', '004841.jpg', '004498.jpg', '000203.jpg', '003662.jpg', '000298.jpg', '005507.jpg', '008253.jpg', '002234.jpg', '006436.jpg', '003116.jpg', '009867.jpg', '009015.jpg', '000263.jpg', '003489.jpg', '002794.jpg', '008296.jpg', '008163.jpg', '006585.jpg', '008160.jpg', '006377.jpg', '002514.jpg', '007713.jpg', '007275.jpg', '006444.jpg', '006124.jpg', '006631.jpg', '003696.jpg', '000518.jpg', '009671.jpg', '007213.jpg', '005981.jpg', '003824.jpg', '007322.jpg', '006236.jpg', '008738.jpg', '008138.jpg', '006824.jpg', '003024.jpg', '000276.jpg', '001053.jpg', '005239.jpg', '009168.jpg', '003127.jpg', '009587.jpg', '000211.jpg', '006025.jpg', '004794.jpg', '004848.jpg', '009935.jpg', '005911.jpg', '004110.jpg', '008962.jpg', '000516.jpg', '002067.jpg', '009497.jpg', '005389.jpg', '001311.jpg', '004607.jpg', '007117.jpg', '007299.jpg', '008654.jpg', '002662.jpg', '002762.jpg', '006612.jpg', '006551.jpg', '001950.jpg', '003031.jpg', '009693.jpg', '007194.jpg', '006097.jpg', '002917.jpg', '009627.jpg', '000754.jpg', '004859.jpg', '009173.jpg', '007166.jpg', '009692.jpg', '006708.jpg', '000921.jpg', '007009.jpg', '004652.jpg', '006172.jpg', '007042.jpg', '009421.jpg', '008381.jpg', '000210.jpg', '006468.jpg', '002259.jpg', '004852.jpg', '009470.jpg', '005824.jpg', '005701.jpg', '007006.jpg', '009160.jpg', '002348.jpg', '006909.jpg', '004364.jpg', '003088.jpg', '003396.jpg', '002689.jpg', '008843.jpg', '007003.jpg', '002906.jpg', '008430.jpg', '009155.jpg', '004671.jpg', '007329.jpg', '003138.jpg', '006509.jpg', '004281.jpg', '006738.jpg', '002068.jpg', '007663.jpg', '004714.jpg', '004376.jpg', '002355.jpg', '000320.jpg', '001669.jpg', '006782.jpg', '008349.jpg', '001316.jpg', '003752.jpg', '005826.jpg', '008995.jpg', '004370.jpg', '002621.jpg', '009019.jpg', '007742.jpg', '007457.jpg', '004710.jpg', '007460.jpg', '000180.jpg', '002423.jpg', '003403.jpg', '005259.jpg', '003889.jpg', '000262.jpg', '005653.jpg', '001113.jpg', '006876.jpg', '005258.jpg', '008423.jpg', '004191.jpg', '000814.jpg', '007753.jpg', '000919.jpg', '007422.jpg', '007302.jpg', '001286.jpg', '000654.jpg', '007963.jpg', '009567.jpg', '002512.jpg', '004968.jpg', '005260.jpg', '004142.jpg', '008701.jpg', '005406.jpg', '002332.jpg', '002606.jpg', '007513.jpg', '007585.jpg', '005517.jpg', '002174.jpg', '003003.jpg', '009349.jpg', '009755.jpg', '002579.jpg', '006411.jpg', '006043.jpg', '004389.jpg', '008327.jpg', '003280.jpg', '003609.jpg', '007046.jpg', '009623.jpg', '007865.jpg', '008793.jpg', '007128.jpg', '006530.jpg', '005905.jpg', '006363.jpg', '006183.jpg', '001312.jpg', '008262.jpg', '004939.jpg', '008433.jpg', '004121.jpg', '006073.jpg', '009295.jpg', '006684.jpg', '001771.jpg', '008444.jpg', '006148.jpg', '009147.jpg', '000430.jpg', '004628.jpg', '002835.jpg', '009676.jpg', '005212.jpg', '005593.jpg', '000663.jpg', '006664.jpg', '002468.jpg', '003013.jpg', '006503.jpg', '002393.jpg', '004753.jpg', '005693.jpg', '009754.jpg', '009290.jpg', '007538.jpg', '009591.jpg', '002290.jpg', '004913.jpg', '004539.jpg', '002116.jpg', '000012.jpg', '009573.jpg', '002960.jpg', '009318.jpg', '008979.jpg', '006963.jpg', '007809.jpg', '003202.jpg', '005370.jpg', '009002.jpg', '006855.jpg', '005963.jpg', '005262.jpg', '003899.jpg', '001675.jpg', '003273.jpg', '003233.jpg', '002590.jpg', '007996.jpg', '003863.jpg', '004676.jpg', '006299.jpg', '008150.jpg', '007772.jpg', '009306.jpg', '009365.jpg', '006290.jpg', '002986.jpg', '004011.jpg', '007655.jpg', '006940.jpg', '003395.jpg', '003846.jpg', '000935.jpg', '004108.jpg', '000828.jpg', '004323.jpg', '002182.jpg', '006618.jpg', '005430.jpg', '006163.jpg', '007956.jpg', '004490.jpg', '000854.jpg', '003508.jpg', '002061.jpg', '000173.jpg', '000463.jpg', '001161.jpg', '001818.jpg', '002939.jpg', '002615.jpg', '006070.jpg', '005812.jpg', '000508.jpg', '004867.jpg', '002328.jpg', '001627.jpg', '004057.jpg', '007068.jpg', '003932.jpg', '001684.jpg', '009268.jpg', '002757.jpg', '002151.jpg', '000494.jpg', '009897.jpg', '007968.jpg', '009855.jpg', '001683.jpg', '008061.jpg', '006456.jpg', '003247.jpg', '003327.jpg', '002508.jpg', '003818.jpg', '009059.jpg', '004535.jpg', '001149.jpg', '000711.jpg', '007506.jpg', '001057.jpg', '009749.jpg', '009502.jpg', '001759.jpg', '005176.jpg', '005704.jpg', '009585.jpg', '001630.jpg', '001661.jpg', '006473.jpg', '008494.jpg', '001586.jpg', '008391.jpg', '002192.jpg', '000537.jpg', '004367.jpg', '001543.jpg', '002184.jpg', '006859.jpg', '007559.jpg', '000066.jpg', '005047.jpg', '005183.jpg', '002634.jpg', '000545.jpg', '009726.jpg', '003210.jpg', '009807.jpg', '008105.jpg', '001110.jpg', '003461.jpg', '000156.jpg', '007493.jpg', '000063.jpg', '002465.jpg', '001052.jpg', '008095.jpg', '008422.jpg', '004898.jpg', '008225.jpg', '003859.jpg', '009358.jpg', '008258.jpg', '002646.jpg', '004832.jpg', '006133.jpg', '009641.jpg', '005541.jpg', '004984.jpg', '003214.jpg', '002914.jpg', '006944.jpg', '001484.jpg', '001971.jpg', '008713.jpg', '007105.jpg', '001298.jpg', '000842.jpg', '003413.jpg', '005355.jpg', '003973.jpg', '006309.jpg', '001254.jpg', '006983.jpg', '001225.jpg', '007480.jpg', '005998.jpg', '001677.jpg', '009087.jpg', '001858.jpg', '006803.jpg', '005912.jpg', '007016.jpg', '000965.jpg', '006654.jpg', '000338.jpg', '005611.jpg', '000661.jpg', '006725.jpg', '004292.jpg', '006230.jpg', '008610.jpg', '008900.jpg', '003811.jpg', '007928.jpg', '004747.jpg', '005016.jpg', '006249.jpg', '003935.jpg', '000138.jpg', '002166.jpg', '008449.jpg', '001371.jpg', '004878.jpg', '001119.jpg', '004136.jpg', '004058.jpg', '006597.jpg', '003627.jpg', '000726.jpg', '008951.jpg', '004283.jpg', '002529.jpg', '007523.jpg', '000311.jpg', '000559.jpg', '008345.jpg', '002459.jpg', '008728.jpg', '003082.jpg', '001211.jpg', '001109.jpg', '008229.jpg', '004349.jpg', '000972.jpg', '002842.jpg', '006220.jpg', '008823.jpg', '007425.jpg', '007705.jpg', '008416.jpg', '007141.jpg', '004540.jpg', '006318.jpg', '004552.jpg', '005253.jpg', '004926.jpg', '006480.jpg', '005568.jpg', '006840.jpg', '007389.jpg', '006943.jpg', '004992.jpg', '002932.jpg', '008281.jpg', '004204.jpg', '001427.jpg', '009761.jpg', '000906.jpg', '009114.jpg', '001207.jpg', '007095.jpg', '008031.jpg', '002567.jpg', '003195.jpg', '009286.jpg', '002937.jpg', '001643.jpg', '002410.jpg', '002278.jpg', '003369.jpg', '003118.jpg', '006078.jpg', '004520.jpg', '001980.jpg', '005511.jpg', '005779.jpg', '009327.jpg', '005850.jpg', '007527.jpg', '004518.jpg', '001603.jpg', '001604.jpg', '003137.jpg', '003117.jpg', '003338.jpg', '003596.jpg', '009658.jpg', '005036.jpg', '005786.jpg', '002452.jpg', '000523.jpg', '009213.jpg', '002827.jpg', '001749.jpg', '005214.jpg', '002786.jpg', '006381.jpg', '005749.jpg', '000024.jpg', '005923.jpg', '001490.jpg', '003102.jpg', '002228.jpg', '007451.jpg', '000232.jpg', '005134.jpg', '001061.jpg', '008191.jpg', '008306.jpg', '001287.jpg', '009650.jpg', '005573.jpg', '000041.jpg', '008859.jpg', '005128.jpg', '006335.jpg', '000404.jpg', '006918.jpg', '008141.jpg', '006512.jpg', '004967.jpg', '000486.jpg', '006735.jpg', '003580.jpg', '007819.jpg', '007477.jpg', '007187.jpg', '005413.jpg', '004818.jpg', '000285.jpg', '005189.jpg', '003335.jpg', '000073.jpg', '005762.jpg', '004228.jpg', '009200.jpg', '000209.jpg', '009859.jpg', '004869.jpg', '007914.jpg', '006166.jpg', '001443.jpg', '000526.jpg', '000121.jpg', '002873.jpg', '006445.jpg', '001395.jpg', '001718.jpg', '004312.jpg', '000245.jpg', '005063.jpg', '007002.jpg', '006529.jpg', '009721.jpg', '005344.jpg', '005429.jpg', '004801.jpg', '001772.jpg', '005269.jpg', '008272.jpg', '007074.jpg', '001934.jpg', '006714.jpg', '002364.jpg', '000647.jpg', '004982.jpg', '008747.jpg', '007723.jpg', '002280.jpg', '006523.jpg', '001288.jpg', '000619.jpg', '007971.jpg', '006698.jpg', '006258.jpg', '006896.jpg', '001896.jpg', '003165.jpg', '005954.jpg', '000474.jpg', '002124.jpg', '008826.jpg', '008748.jpg', '006813.jpg', '000860.jpg', '000236.jpg', '005917.jpg', '001920.jpg', '006947.jpg', '004186.jpg', '000007.jpg', '005522.jpg', '006497.jpg', '008776.jpg', '003042.jpg', '003555.jpg', '008958.jpg', '006924.jpg', '005440.jpg', '000424.jpg', '009796.jpg', '009841.jpg', '000676.jpg', '008615.jpg', '007633.jpg', '003242.jpg', '007256.jpg', '009517.jpg', '001688.jpg', '003657.jpg', '007132.jpg', '005769.jpg', '002564.jpg', '005320.jpg', '009654.jpg', '003307.jpg', '001060.jpg', '003537.jpg', '007694.jpg', '004354.jpg', '006095.jpg', '004133.jpg', '003779.jpg', '004493.jpg', '003487.jpg', '005790.jpg', '003351.jpg', '009068.jpg', '008342.jpg', '002253.jpg', '005818.jpg', '005404.jpg', '009557.jpg', '009324.jpg', '009913.jpg', '009153.jpg', '006041.jpg', '004966.jpg', '004544.jpg', '006175.jpg', '004805.jpg', '007489.jpg', '004463.jpg', '005248.jpg', '002586.jpg', '007029.jpg', '001281.jpg', '006805.jpg', '008815.jpg', '003223.jpg', '003376.jpg', '003758.jpg', '006678.jpg', '001837.jpg', '004117.jpg', '005645.jpg', '006104.jpg', '004882.jpg', '002272.jpg', '004994.jpg', '000163.jpg', '004405.jpg', '002695.jpg', '005836.jpg', '003516.jpg', '006747.jpg', '001383.jpg', '007211.jpg', '002800.jpg', '008612.jpg', '005292.jpg', '009706.jpg', '002377.jpg', '008454.jpg', '000220.jpg', '003452.jpg', '004849.jpg', '002329.jpg', '000020.jpg', '004519.jpg', '009316.jpg', '001333.jpg', '006619.jpg', '003422.jpg', '007249.jpg', '009184.jpg', '008067.jpg', '000805.jpg', '007915.jpg', '001439.jpg', '008717.jpg', '002036.jpg', '001224.jpg', '008534.jpg', '009551.jpg', '007481.jpg', '008101.jpg', '007260.jpg', '009186.jpg', '009576.jpg', '005177.jpg', '003355.jpg', '004595.jpg', '009568.jpg', '008960.jpg', '006900.jpg', '000460.jpg', '005365.jpg', '002241.jpg', '008115.jpg', '003936.jpg', '002502.jpg', '001862.jpg', '003658.jpg', '004474.jpg', '000325.jpg', '007872.jpg', '001274.jpg', '008722.jpg', '004423.jpg', '002678.jpg', '005743.jpg', '008886.jpg', '009063.jpg', '002537.jpg', '002454.jpg', '004023.jpg', '003419.jpg', '003074.jpg', '004047.jpg', '002519.jpg', '007799.jpg', '002859.jpg', '003178.jpg', '007283.jpg', '009644.jpg', '004542.jpg', '006189.jpg', '004828.jpg', '000525.jpg', '005599.jpg', '007258.jpg', '005609.jpg', '003056.jpg', '008541.jpg', '005293.jpg', '009307.jpg', '008492.jpg', '000190.jpg', '001468.jpg', '009858.jpg', '002558.jpg', '000733.jpg', '008645.jpg', '005337.jpg', '006694.jpg', '001083.jpg', '007563.jpg', '007216.jpg', '008220.jpg', '009141.jpg', '003655.jpg', '009620.jpg', '008709.jpg', '006348.jpg', '006174.jpg', '007433.jpg', '006038.jpg', '008702.jpg', '004514.jpg', '007838.jpg', '002049.jpg', '008509.jpg', '007745.jpg', '002361.jpg', '009724.jpg', '004895.jpg', '006190.jpg', '001531.jpg', '008295.jpg', '004686.jpg', '002165.jpg', '007692.jpg', '008927.jpg', '008226.jpg', '008355.jpg', '001678.jpg', '009828.jpg', '009598.jpg', '007878.jpg', '002627.jpg', '000989.jpg', '009362.jpg', '002534.jpg', '008424.jpg', '009656.jpg', '007662.jpg', '007148.jpg', '000667.jpg', '009468.jpg', '008106.jpg', '008732.jpg', '002774.jpg', '005868.jpg', '009249.jpg', '003536.jpg', '000256.jpg', '002155.jpg', '008940.jpg', '008741.jpg', '007649.jpg', '002833.jpg', '007383.jpg', '001436.jpg', '005419.jpg', '000170.jpg', '000483.jpg', '009748.jpg', '002647.jpg', '001170.jpg', '007653.jpg', '003772.jpg', '006176.jpg', '000750.jpg', '004735.jpg', '009337.jpg', '005829.jpg', '001091.jpg', '002755.jpg', '008076.jpg', '007984.jpg', '006074.jpg', '004592.jpg', '002820.jpg', '007114.jpg', '001962.jpg', '000102.jpg', '008482.jpg', '002697.jpg', '008445.jpg', '009271.jpg', '000030.jpg', '005885.jpg', '003077.jpg', '000889.jpg', '001464.jpg', '005383.jpg', '006136.jpg', '008462.jpg', '008042.jpg', '003926.jpg', '007482.jpg', '003654.jpg', '009944.jpg', '006638.jpg', '000023.jpg', '008764.jpg', '002479.jpg', '000660.jpg', '005283.jpg', '005175.jpg', '009695.jpg', '005131.jpg', '004654.jpg', '004605.jpg', '002801.jpg', '009388.jpg', '005521.jpg', '007474.jpg', '001690.jpg', '007090.jpg', '002916.jpg', '000880.jpg', '002478.jpg', '003837.jpg', '001240.jpg', '001898.jpg', '009283.jpg', '003860.jpg', '009006.jpg', '008292.jpg', '007884.jpg', '006560.jpg', '002595.jpg', '008530.jpg', '007079.jpg', '006587.jpg', '005314.jpg', '002659.jpg', '007735.jpg', '002187.jpg', '001902.jpg', '007040.jpg', '002354.jpg', '001234.jpg', '006089.jpg', '001248.jpg', '006989.jpg', '001272.jpg', '005018.jpg', '003551.jpg', '002940.jpg', '006808.jpg', '007089.jpg', '004581.jpg', '009618.jpg', '004643.jpg', '002306.jpg', '000896.jpg', '001590.jpg', '008032.jpg', '009401.jpg', '008878.jpg', '000129.jpg', '009193.jpg', '007054.jpg', '002098.jpg', '003260.jpg', '007964.jpg', '001171.jpg', '000980.jpg', '008833.jpg', '004069.jpg', '004705.jpg', '003292.jpg', '005450.jpg', '003709.jpg', '002912.jpg', '008517.jpg', '000628.jpg', '000343.jpg', '007727.jpg', '001608.jpg', '002369.jpg', '008085.jpg', '004694.jpg', '000867.jpg', '009579.jpg', '008514.jpg', '004307.jpg', '008203.jpg', '007396.jpg', '007947.jpg', '007958.jpg', '000065.jpg', '006129.jpg', '000143.jpg', '002045.jpg', '009805.jpg', '007413.jpg', '006515.jpg', '007715.jpg', '000491.jpg', '003550.jpg', '009685.jpg', '001732.jpg', '005940.jpg', '008822.jpg', '004812.jpg', '002969.jpg', '001050.jpg', '005718.jpg', '000738.jpg', '009884.jpg', '009747.jpg', '009932.jpg', '009230.jpg', '003163.jpg', '007639.jpg', '004429.jpg', '001068.jpg', '001853.jpg', '003796.jpg', '002962.jpg', '002594.jpg', '009617.jpg', '005318.jpg', '003408.jpg', '004404.jpg', '005728.jpg', '000895.jpg', '002120.jpg', '007629.jpg', '004200.jpg', '007038.jpg', '006643.jpg', '008023.jpg', '009869.jpg', '007346.jpg', '001156.jpg', '001072.jpg', '009797.jpg', '009334.jpg', '003948.jpg', '003564.jpg', '008299.jpg', '002022.jpg', '002226.jpg', '000244.jpg', '004259.jpg', '008911.jpg', '005549.jpg', '005821.jpg', '007276.jpg', '007343.jpg', '008040.jpg', '006201.jpg', '006337.jpg', '005054.jpg', '009667.jpg', '008209.jpg', '003974.jpg', '005481.jpg', '004223.jpg', '007586.jpg', '001654.jpg', '003499.jpg', '006755.jpg', '009718.jpg', '000597.jpg', '006718.jpg', '003098.jpg', '001384.jpg', '004470.jpg', '003699.jpg', '008744.jpg', '002682.jpg', '004066.jpg', '009053.jpg', '001229.jpg', '003525.jpg', '002798.jpg', '004372.jpg', '006026.jpg', '008024.jpg', '001204.jpg', '006864.jpg', '006727.jpg', '002956.jpg', '003713.jpg', '005752.jpg', '008942.jpg', '006188.jpg', '004950.jpg', '009516.jpg', '001400.jpg', '005576.jpg', '004028.jpg', '008884.jpg', '007768.jpg', '007575.jpg', '006455.jpg', '008060.jpg', '006934.jpg', '008117.jpg', '009224.jpg', '003706.jpg', '004868.jpg', '000581.jpg', '008360.jpg', '002727.jpg', '005003.jpg', '001576.jpg', '004296.jpg', '000395.jpg', '002988.jpg', '005191.jpg', '005647.jpg', '000194.jpg', '004113.jpg', '001864.jpg', '001014.jpg', '007162.jpg', '002224.jpg', '009392.jpg', '005116.jpg', '001517.jpg', '007736.jpg', '000161.jpg', '008091.jpg', '001304.jpg', '007121.jpg', '000225.jpg', '006860.jpg', '009743.jpg', '002901.jpg', '006952.jpg', '003146.jpg', '002633.jpg', '000689.jpg', '000712.jpg', '006564.jpg', '008909.jpg', '001614.jpg', '006123.jpg', '006429.jpg', '001404.jpg', '009496.jpg', '000794.jpg', '008437.jpg', '002308.jpg', '004938.jpg', '006181.jpg', '008326.jpg', '001214.jpg', '005985.jpg', '005436.jpg', '001279.jpg', '001466.jpg', '000816.jpg', '008368.jpg', '000966.jpg', '009113.jpg', '004662.jpg', '006117.jpg', '008336.jpg', '007370.jpg', '008676.jpg', '009018.jpg', '001618.jpg', '000682.jpg', '002702.jpg', '006079.jpg', '005989.jpg', '006753.jpg', '003449.jpg', '006703.jpg', '001192.jpg', '002779.jpg', '003898.jpg', '004863.jpg', '000089.jpg', '003176.jpg', '001066.jpg', '005603.jpg', '006304.jpg', '002342.jpg', '006821.jpg', '006911.jpg', '006418.jpg', '002012.jpg', '008997.jpg', '008813.jpg', '005625.jpg', '002004.jpg', '005615.jpg', '003259.jpg', '000871.jpg', '009655.jpg', '002180.jpg', '005654.jpg', '007970.jpg', '005245.jpg', '007576.jpg', '006884.jpg', '004067.jpg', '002845.jpg', '006130.jpg', '002491.jpg', '005305.jpg', '006107.jpg', '003735.jpg', '004037.jpg', '000633.jpg', '002305.jpg', '008838.jpg', '004987.jpg', '003780.jpg', '008248.jpg', '007292.jpg', '009518.jpg', '004699.jpg', '001787.jpg', '005815.jpg', '006108.jpg', '003436.jpg', '005760.jpg', '002266.jpg', '003189.jpg', '003051.jpg', '001364.jpg', '004020.jpg', '004212.jpg', '004673.jpg', '007682.jpg', '002034.jpg', '002637.jpg', '007023.jpg', '006030.jpg', '005257.jpg', '002815.jpg', '009185.jpg', '001845.jpg', '009767.jpg', '008499.jpg', '009000.jpg', '007008.jpg', '006330.jpg', '004010.jpg', '000653.jpg', '002963.jpg', '006768.jpg', '006459.jpg', '003464.jpg', '002669.jpg', '003969.jpg', '006677.jpg', '001723.jpg', '004256.jpg', '006814.jpg', '003522.jpg', '001758.jpg', '003484.jpg', '009244.jpg', '001365.jpg', '008252.jpg', '001724.jpg', '003984.jpg', '005455.jpg', '000950.jpg', '003792.jpg', '001387.jpg', '009780.jpg', '004095.jpg', '005210.jpg', '003939.jpg', '007517.jpg', '006012.jpg', '003905.jpg', '000951.jpg', '005032.jpg', '005910.jpg', '007841.jpg', '003954.jpg', '005368.jpg', '008204.jpg', '001642.jpg', '003639.jpg', '007845.jpg', '003008.jpg', '006781.jpg', '001290.jpg', '002039.jpg', '002699.jpg', '009621.jpg', '009955.jpg', '002218.jpg', '002513.jpg', '003614.jpg', '002456.jpg', '009208.jpg', '001345.jpg', '001185.jpg', '000450.jpg', '004789.jpg', '000731.jpg', '004773.jpg', '002546.jpg', '005700.jpg', '003763.jpg', '004008.jpg', '008810.jpg', '007712.jpg', '009917.jpg', '008876.jpg', '001766.jpg', '004612.jpg', '008301.jpg', '003017.jpg', '009540.jpg', '001978.jpg', '004653.jpg', '008127.jpg', '009670.jpg', '005574.jpg', '007465.jpg', '005029.jpg', '003861.jpg', '007244.jpg', '007543.jpg', '004985.jpg', '006534.jpg', '003185.jpg', '008137.jpg', '009287.jpg', '000605.jpg', '008284.jpg', '004488.jpg', '006267.jpg', '004948.jpg', '002337.jpg', '007763.jpg', '008280.jpg', '009205.jpg', '003576.jpg', '007813.jpg', '002183.jpg', '000468.jpg', '008638.jpg', '000033.jpg', '009686.jpg', '009060.jpg', '004369.jpg', '005224.jpg', '006156.jpg', '006045.jpg', '007153.jpg', '009377.jpg', '001441.jpg', '003694.jpg', '001964.jpg', '007484.jpg', '001250.jpg', '005996.jpg', '002875.jpg', '008261.jpg', '005027.jpg', '009273.jpg', '007146.jpg', '000428.jpg', '006696.jpg', '002214.jpg', '007470.jpg', '008442.jpg', '003065.jpg', '000742.jpg', '001015.jpg', '000306.jpg', '001230.jpg', '005101.jpg', '007537.jpg', '003122.jpg', '002864.jpg', '008072.jpg', '009649.jpg', '003988.jpg', '007159.jpg', '002810.jpg', '005439.jpg', '008200.jpg', '007437.jpg', '001104.jpg', '002782.jpg', '007376.jpg', '002419.jpg', '003622.jpg', '005326.jpg', '007388.jpg', '005001.jpg', '000140.jpg', '003299.jpg', '004649.jpg', '005380.jpg', '009105.jpg', '007071.jpg', '009745.jpg', '004239.jpg', '004834.jpg', '001259.jpg', '007356.jpg', '001799.jpg', '003406.jpg', '006609.jpg', '009918.jpg', '006134.jpg', '003294.jpg', '001168.jpg', '009703.jpg', '002051.jpg', '006588.jpg', '000019.jpg', '005367.jpg', '009822.jpg', '000396.jpg', '002442.jpg', '000620.jpg', '003184.jpg', '008346.jpg', '004230.jpg', '005729.jpg', '004785.jpg', '009342.jpg', '004087.jpg', '003629.jpg', '007497.jpg', '001465.jpg', '005108.jpg', '003986.jpg', '008836.jpg', '003194.jpg', '007814.jpg', '009024.jpg', '004879.jpg', '004551.jpg', '002102.jpg', '007921.jpg', '001685.jpg', '002554.jpg', '006240.jpg', '007601.jpg', '003336.jpg', '008069.jpg', '000920.jpg', '004793.jpg', '000583.jpg', '005061.jpg', '009945.jpg', '001481.jpg', '005004.jpg', '005208.jpg', '008282.jpg', '005199.jpg', '009488.jpg', '009958.jpg', '000949.jpg', '002094.jpg', '001901.jpg', '004347.jpg', '003009.jpg', '000713.jpg', '000159.jpg', '001795.jpg', '002247.jpg', '001536.jpg', '002196.jpg', '004446.jpg', '002603.jpg', '002680.jpg', '003530.jpg', '001470.jpg', '004571.jpg', '003636.jpg', '005104.jpg', '003593.jpg', '008079.jpg', '007219.jpg', '009558.jpg', '002461.jpg', '008854.jpg', '001327.jpg', '008044.jpg', '006275.jpg', '002613.jpg', '008731.jpg', '003660.jpg', '004743.jpg', '007088.jpg', '008068.jpg', '003140.jpg', '006635.jpg', '003879.jpg', '005306.jpg', '005918.jpg', '009032.jpg', '003272.jpg', '002384.jpg', '005420.jpg', '001082.jpg', '006224.jpg', '001833.jpg', '002966.jpg', '003891.jpg', '005465.jpg', '000530.jpg', '009597.jpg', '003496.jpg', '009560.jpg', '000588.jpg', '008608.jpg', '004836.jpg', '001203.jpg', '002540.jpg', '002664.jpg', '000459.jpg', '004487.jpg', '009507.jpg', '000827.jpg', '004831.jpg', '000221.jpg', '004526.jpg', '006658.jpg', '000610.jpg', '004648.jpg', '002279.jpg', '008037.jpg', '006216.jpg', '006105.jpg', '008263.jpg', '000039.jpg', '004122.jpg', '005984.jpg', '007130.jpg', '002420.jpg', '009202.jpg', '004955.jpg', '005310.jpg', '008470.jpg', '004814.jpg', '009448.jpg', '001940.jpg', '001933.jpg', '002172.jpg', '009209.jpg', '001362.jpg', '008388.jpg', '001330.jpg', '000215.jpg', '003094.jpg', '002466.jpg', '000322.jpg', '003293.jpg', '008961.jpg', '000622.jpg', '003611.jpg', '005220.jpg', '008063.jpg', '008752.jpg', '006886.jpg', '006387.jpg', '004876.jpg', '006802.jpg', '000249.jpg', '004600.jpg', '009394.jpg', '006179.jpg', '008929.jpg', '006170.jpg', '004481.jpg', '006120.jpg', '006301.jpg', '003039.jpg', '001765.jpg', '007683.jpg', '000943.jpg', '009289.jpg', '005451.jpg', '000728.jpg', '005445.jpg', '009800.jpg', '005539.jpg', '006674.jpg', '004192.jpg', '000408.jpg', '001714.jpg', '007498.jpg', '004911.jpg', '006892.jpg', '008332.jpg', '008557.jpg', '007022.jpg', '003134.jpg', '000282.jpg', '006543.jpg', '006250.jpg', '006862.jpg', '003492.jpg', '000592.jpg', '007435.jpg', '000462.jpg', '002684.jpg', '001325.jpg', '003608.jpg', '001832.jpg', '000123.jpg', '006434.jpg', '003937.jpg', '006062.jpg', '003915.jpg', '006565.jpg', '009236.jpg', '002812.jpg', '005230.jpg', '002879.jpg', '006262.jpg', '001872.jpg', '007991.jpg', '006004.jpg', '001954.jpg', '000336.jpg', '006777.jpg', '006819.jpg', '002578.jpg', '002435.jpg', '002585.jpg', '006296.jpg', '007696.jpg', '009619.jpg', '003774.jpg', '007439.jpg', '002300.jpg', '006492.jpg', '006538.jpg', '009239.jpg', '008093.jpg', '002359.jpg', '005756.jpg', '000461.jpg', '007911.jpg', '006681.jpg', '005518.jpg', '005730.jpg', '002251.jpg', '006162.jpg', '006748.jpg', '000251.jpg', '002992.jpg', '007410.jpg', '001145.jpg', '004553.jpg', '005246.jpg', '000709.jpg', '009666.jpg', '009108.jpg', '006783.jpg', '007803.jpg', '006035.jpg', '001662.jpg', '003646.jpg', '004604.jpg', '007900.jpg', '005486.jpg', '005351.jpg', '006690.jpg', '001360.jpg', '002710.jpg', '001442.jpg', '002376.jpg', '001780.jpg', '007381.jpg', '004792.jpg', '006259.jpg', '007600.jpg', '004623.jpg', '003365.jpg', '009178.jpg', '007208.jpg', '006486.jpg', '003691.jpg', '003786.jpg', '002497.jpg', '000367.jpg', '005181.jpg', '001206.jpg', '009877.jpg', '005687.jpg', '006625.jpg', '006827.jpg', '003439.jpg', '000977.jpg', '003379.jpg', '004232.jpg', '001579.jpg', '000005.jpg', '004105.jpg', '005086.jpg', '007108.jpg', '007833.jpg', '007856.jpg', '000337.jpg', '005186.jpg', '005231.jpg', '000355.jpg', '006483.jpg', '004039.jpg', '000967.jpg', '005583.jpg', '006621.jpg', '004902.jpg', '002565.jpg', '004611.jpg', '007077.jpg', '002893.jpg', '001800.jpg', '008107.jpg', '008533.jpg', '009465.jpg', '008933.jpg', '006222.jpg', '000083.jpg', '009085.jpg', '005906.jpg', '003290.jpg', '000032.jpg', '006994.jpg', '001588.jpg', '008914.jpg', '008251.jpg', '006550.jpg', '002934.jpg', '004351.jpg', '008372.jpg', '001314.jpg', '008796.jpg', '008814.jpg', '006852.jpg', '008132.jpg', '002193.jpg', '006463.jpg', '001746.jpg', '006611.jpg', '004003.jpg', '007189.jpg', '000266.jpg', '000797.jpg', '001074.jpg', '007899.jpg', '009161.jpg', '005788.jpg', '006908.jpg', '003727.jpg', '009288.jpg', '002458.jpg', '007670.jpg', '000612.jpg', '009191.jpg', '003675.jpg', '008199.jpg', '008753.jpg', '000093.jpg', '008980.jpg', '007270.jpg', '004495.jpg', '000937.jpg', '002987.jpg', '001761.jpg', '007011.jpg', '008477.jpg', '005179.jpg', '008438.jpg', '003869.jpg', '005582.jpg', '001734.jpg', '004141.jpg', '008468.jpg', '006018.jpg', '007243.jpg', '002126.jpg', '003945.jpg', '009543.jpg', '004905.jpg', '007840.jpg', '007671.jpg', '000648.jpg', '008775.jpg', '008250.jpg', '009412.jpg', '000843.jpg', '002524.jpg', '009762.jpg', '008602.jpg', '009242.jpg', '006466.jpg', '004565.jpg', '002807.jpg', '004570.jpg', '000746.jpg', '004500.jpg', '001825.jpg', '009526.jpg', '001494.jpg', '006968.jpg', '005469.jpg', '002176.jpg', '004092.jpg', '008604.jpg', '001524.jpg', '001995.jpg', '008364.jpg', '008749.jpg', '001418.jpg', '002658.jpg', '008033.jpg', '001143.jpg', '003218.jpg', '003397.jpg', '004591.jpg', '009785.jpg', '006325.jpg', '007062.jpg', '007372.jpg', '007834.jpg', '007762.jpg', '003367.jpg', '009763.jpg', '009842.jpg', '000372.jpg', '001236.jpg', '000242.jpg', '003216.jpg', '009187.jpg', '004846.jpg', '002636.jpg', '005524.jpg', '003255.jpg', '009773.jpg', '003979.jpg', '007677.jpg', '006344.jpg', '003085.jpg', '009279.jpg', '005705.jpg', '003838.jpg', '006375.jpg', '007448.jpg', '005881.jpg', '006023.jpg', '005579.jpg', '008415.jpg', '005889.jpg', '001777.jpg', '002437.jpg', '004356.jpg', '004091.jpg', '002132.jpg', '000200.jpg', '009128.jpg', '006289.jpg', '000171.jpg', '001011.jpg', '005620.jpg', '005065.jpg', '003183.jpg', '008841.jpg', '002021.jpg', '007059.jpg', '001607.jpg', '009212.jpg', '009546.jpg', '002371.jpg', '000420.jpg', '002212.jpg', '000882.jpg', '008485.jpg', '005696.jpg', '005348.jpg', '002978.jpg', '009166.jpg', '001413.jpg', '008687.jpg', '003941.jpg', '004840.jpg', '005995.jpg', '009939.jpg', '009393.jpg', '005508.jpg', '007050.jpg', '000153.jpg', '000926.jpg', '000122.jpg', '007767.jpg', '004912.jpg', '001309.jpg', '003470.jpg', '009159.jpg', '003866.jpg', '000241.jpg', '001093.jpg', '006277.jpg', '001843.jpg', '005307.jpg', '007820.jpg', '002735.jpg', '008429.jpg', '008840.jpg', '003370.jpg', '003722.jpg', '005686.jpg', '007025.jpg', '005669.jpg', '004579.jpg', '009870.jpg', '004145.jpg', '001001.jpg', '009179.jpg', '008862.jpg', '008053.jpg', '008180.jpg', '000391.jpg', '007336.jpg', '000046.jpg', '009042.jpg', '005336.jpg']\n"
          ],
          "name": "stdout"
        }
      ]
    },
    {
      "cell_type": "code",
      "metadata": {
        "colab": {
          "base_uri": "https://localhost:8080/"
        },
        "id": "qsHdnhY2ztVe",
        "outputId": "1a5454fa-36a5-4cde-b441-7a22bbdf2062"
      },
      "source": [
        "valid = pd.read_csv('/content/diabetes2.csv') \n",
        "valid.columns\n"
      ],
      "execution_count": null,
      "outputs": [
        {
          "output_type": "execute_result",
          "data": {
            "text/plain": [
              "Index(['Pregnancies', 'Glucose', 'BloodPressure', 'SkinThickness', 'Insulin',\n",
              "       'BMI', 'DiabetesPedigreeFunction', 'Age', 'Outcome'],\n",
              "      dtype='object')"
            ]
          },
          "metadata": {
            "tags": []
          },
          "execution_count": 13
        }
      ]
    },
    {
      "cell_type": "markdown",
      "metadata": {
        "id": "0tAdjrwde1eM"
      },
      "source": [
        "**CNN Learner**"
      ]
    },
    {
      "cell_type": "code",
      "metadata": {
        "id": "V_z-l4e-e6wo"
      },
      "source": [
        "def is_Tigerlilly(x):\n",
        "  a=int(x[6:].split('.')[0])\n",
        "  if a>480 and a<561:\n",
        "    return True\n",
        "  else: \n",
        "    return False\n",
        "\n",
        "\n",
        "def is_dog(x): return x[0].islower()"
      ],
      "execution_count": null,
      "outputs": []
    },
    {
      "cell_type": "code",
      "metadata": {
        "id": "YqiEFKlHgoqO"
      },
      "source": [
        "from fastai.vision.all import*\n",
        "path=untar_data(URLs.FLOWERS)/'jpg'\n",
        "data_loader=ImageDataLoaders.from_name_func(path,get_image_files(path),valid_pct=0.2,seed=42,label_func=is_Tigerlilly, item_tfms=Resize(224))\n",
        "#ImageDataLoaders is used as our dataset is of images\n",
        "#valid_pct is to know how much of data is to be used for training, here 80% of data is used and 20% for validation randomly\n",
        "#label_func is used to filter images data\n",
        "#item_tfms is used to resize each item to 224 pixels\n",
        "#seed is to set random seed to same value every time i.e. same validation set every time "
      ],
      "execution_count": null,
      "outputs": []
    },
    {
      "cell_type": "code",
      "metadata": {
        "colab": {
          "base_uri": "https://localhost:8080/",
          "height": 143
        },
        "id": "rugW9doqhVKV",
        "outputId": "9685e0de-4abb-40f3-cb96-48ef5fb6f5a9"
      },
      "source": [
        "train=cnn_learner(data_loader, resnet34, metrics=error_rate)\n",
        "#resnet34 is a CNN model with 34 layers\n",
        "#metrics is used to measure quality of metrics prediction using validation data \n",
        "train.fine_tune(1)\n",
        "#fine tunes fits parameters to the model architecture"
      ],
      "execution_count": null,
      "outputs": [
        {
          "output_type": "display_data",
          "data": {
            "text/html": [
              "<table border=\"1\" class=\"dataframe\">\n",
              "  <thead>\n",
              "    <tr style=\"text-align: left;\">\n",
              "      <th>epoch</th>\n",
              "      <th>train_loss</th>\n",
              "      <th>valid_loss</th>\n",
              "      <th>error_rate</th>\n",
              "      <th>time</th>\n",
              "    </tr>\n",
              "  </thead>\n",
              "  <tbody>\n",
              "    <tr>\n",
              "      <td>0</td>\n",
              "      <td>0.683698</td>\n",
              "      <td>0.158788</td>\n",
              "      <td>0.038485</td>\n",
              "      <td>01:05</td>\n",
              "    </tr>\n",
              "  </tbody>\n",
              "</table>"
            ],
            "text/plain": [
              "<IPython.core.display.HTML object>"
            ]
          },
          "metadata": {
            "tags": []
          }
        },
        {
          "output_type": "display_data",
          "data": {
            "text/html": [
              "<table border=\"1\" class=\"dataframe\">\n",
              "  <thead>\n",
              "    <tr style=\"text-align: left;\">\n",
              "      <th>epoch</th>\n",
              "      <th>train_loss</th>\n",
              "      <th>valid_loss</th>\n",
              "      <th>error_rate</th>\n",
              "      <th>time</th>\n",
              "    </tr>\n",
              "  </thead>\n",
              "  <tbody>\n",
              "    <tr>\n",
              "      <td>0</td>\n",
              "      <td>0.133303</td>\n",
              "      <td>0.060642</td>\n",
              "      <td>0.012217</td>\n",
              "      <td>01:10</td>\n",
              "    </tr>\n",
              "  </tbody>\n",
              "</table>"
            ],
            "text/plain": [
              "<IPython.core.display.HTML object>"
            ]
          },
          "metadata": {
            "tags": []
          }
        }
      ]
    },
    {
      "cell_type": "code",
      "metadata": {
        "colab": {
          "base_uri": "https://localhost:8080/",
          "height": 49,
          "referenced_widgets": [
            "7770b86dc77748a697817256aeab67bf",
            "96c140996f404cc1b7434a34ada11c13",
            "35a4cfc1522f478fa10bc0712a6965f3"
          ]
        },
        "id": "z4JBhJzlklKr",
        "outputId": "b6ed9663-cf07-4e56-f396-b29d59bf5497"
      },
      "source": [
        "uploader= widgets.FileUpload()\n",
        "uploader"
      ],
      "execution_count": null,
      "outputs": [
        {
          "output_type": "display_data",
          "data": {
            "application/vnd.jupyter.widget-view+json": {
              "model_id": "7770b86dc77748a697817256aeab67bf",
              "version_minor": 0,
              "version_major": 2
            },
            "text/plain": [
              "FileUpload(value={}, description='Upload')"
            ]
          },
          "metadata": {
            "tags": []
          }
        }
      ]
    },
    {
      "cell_type": "code",
      "metadata": {
        "colab": {
          "base_uri": "https://localhost:8080/",
          "height": 51
        },
        "id": "m_RungRykvbM",
        "outputId": "29a11beb-5ae3-4dcc-9cc0-c298a8c1df52"
      },
      "source": [
        "image=PILImage.create(uploader.data[0])\n",
        "is_Tigerlilly,_,probability=train.predict(image)\n",
        "print(is_Tigerlilly)\n",
        "print(f\"Probability it's a Tigerlilly: {probability[1]}\")"
      ],
      "execution_count": null,
      "outputs": [
        {
          "output_type": "display_data",
          "data": {
            "text/html": [
              ""
            ],
            "text/plain": [
              "<IPython.core.display.HTML object>"
            ]
          },
          "metadata": {
            "tags": []
          }
        },
        {
          "output_type": "stream",
          "text": [
            "False\n",
            "Probability it's a Tigerlilly: 0.02243203856050968\n"
          ],
          "name": "stdout"
        }
      ]
    },
    {
      "cell_type": "markdown",
      "metadata": {
        "id": "NL_I1XYxtDkE"
      },
      "source": [
        "**UNET learner**"
      ]
    },
    {
      "cell_type": "code",
      "metadata": {
        "id": "0iCQyJCXtK-C"
      },
      "source": [
        "path=untar_data(URLs.CAMVID_TINY)\n",
        "data_loader_segmentation=SegmentationDataLoaders.from_label_func(path, bs=8,fnames=get_image_files(path/'images'), label_func= lambda o: path/'labels'/f'{o.stem}_P{o.suffix}',codes = np.loadtxt(path/'codes.txt',dtype=str))\n"
      ],
      "execution_count": null,
      "outputs": []
    },
    {
      "cell_type": "code",
      "metadata": {
        "colab": {
          "base_uri": "https://localhost:8080/",
          "height": 229,
          "referenced_widgets": [
            "975230dcd3574811b5e5b13c49e1131e",
            "dc707dd5366a407fb50b3d4b1606cac5",
            "989de4d120d644ba8575e32c6208287f",
            "73d8b3f7920f45dfaf46ce8681799f3c",
            "4704a594bd9149e4a05e8c453cb5d83e",
            "32a4398b0bca4087ac42d79c708dd895",
            "70621d0034f249f8bf3b2c8d52321513",
            "54038db5cbd34bd4ae5799d22c40a530"
          ]
        },
        "id": "T2RhoR8Tt8EZ",
        "outputId": "cbb5a16e-e1af-4959-a85a-56826763a923"
      },
      "source": [
        "train=unet_learner(data_loader_segmentation,resnet34)\n",
        "train.fine_tune(1)"
      ],
      "execution_count": null,
      "outputs": [
        {
          "output_type": "stream",
          "text": [
            "Downloading: \"https://download.pytorch.org/models/resnet34-333f7ec4.pth\" to /root/.cache/torch/hub/checkpoints/resnet34-333f7ec4.pth\n"
          ],
          "name": "stderr"
        },
        {
          "output_type": "display_data",
          "data": {
            "application/vnd.jupyter.widget-view+json": {
              "model_id": "975230dcd3574811b5e5b13c49e1131e",
              "version_minor": 0,
              "version_major": 2
            },
            "text/plain": [
              "HBox(children=(FloatProgress(value=0.0, max=87306240.0), HTML(value='')))"
            ]
          },
          "metadata": {
            "tags": []
          }
        },
        {
          "output_type": "stream",
          "text": [
            "\n"
          ],
          "name": "stdout"
        },
        {
          "output_type": "display_data",
          "data": {
            "text/html": [
              "<table border=\"1\" class=\"dataframe\">\n",
              "  <thead>\n",
              "    <tr style=\"text-align: left;\">\n",
              "      <th>epoch</th>\n",
              "      <th>train_loss</th>\n",
              "      <th>valid_loss</th>\n",
              "      <th>time</th>\n",
              "    </tr>\n",
              "  </thead>\n",
              "  <tbody>\n",
              "    <tr>\n",
              "      <td>0</td>\n",
              "      <td>3.521142</td>\n",
              "      <td>2.246273</td>\n",
              "      <td>00:01</td>\n",
              "    </tr>\n",
              "  </tbody>\n",
              "</table>"
            ],
            "text/plain": [
              "<IPython.core.display.HTML object>"
            ]
          },
          "metadata": {
            "tags": []
          }
        },
        {
          "output_type": "display_data",
          "data": {
            "text/html": [
              "<table border=\"1\" class=\"dataframe\">\n",
              "  <thead>\n",
              "    <tr style=\"text-align: left;\">\n",
              "      <th>epoch</th>\n",
              "      <th>train_loss</th>\n",
              "      <th>valid_loss</th>\n",
              "      <th>time</th>\n",
              "    </tr>\n",
              "  </thead>\n",
              "  <tbody>\n",
              "    <tr>\n",
              "      <td>0</td>\n",
              "      <td>2.011533</td>\n",
              "      <td>2.053941</td>\n",
              "      <td>00:01</td>\n",
              "    </tr>\n",
              "  </tbody>\n",
              "</table>"
            ],
            "text/plain": [
              "<IPython.core.display.HTML object>"
            ]
          },
          "metadata": {
            "tags": []
          }
        }
      ]
    },
    {
      "cell_type": "code",
      "metadata": {
        "id": "njDK-pVKuFv1",
        "colab": {
          "base_uri": "https://localhost:8080/",
          "height": 491
        },
        "outputId": "3ed3a31f-2164-4309-ac58-5f0015785c1b"
      },
      "source": [
        "train.show_results(max_n=9,figsize=(7,8))"
      ],
      "execution_count": null,
      "outputs": [
        {
          "output_type": "display_data",
          "data": {
            "text/html": [
              ""
            ],
            "text/plain": [
              "<IPython.core.display.HTML object>"
            ]
          },
          "metadata": {
            "tags": []
          }
        },
        {
          "output_type": "display_data",
          "data": {
            "image/png": "[encoded data removed]",
            "text/plain": [
              "<Figure size 504x576 with 4 Axes>"
            ]
          },
          "metadata": {
            "tags": [],
            "needs_background": "light"
          }
        }
      ]
    },
    {
      "cell_type": "markdown",
      "metadata": {
        "id": "b5gR7IUwzgrk"
      },
      "source": [
        "**Text classifier Learner**"
      ]
    },
    {
      "cell_type": "code",
      "metadata": {
        "id": "tzYvrBRZzm45"
      },
      "source": [
        "from fastai.text.all import*\n",
        "data_loader_text=TextDataLoaders.from_csv(untar_data(URLs.YELP_REVIEWS_POLARITY),csv_fname='train.csv',text_col=1,label_col=0,bs=16)\n",
        "#text_col is the input column \n",
        "#label_col is the desired outcome  \n",
        "train_text=text_classifier_learner(data_loader_text, AWD_LSTM , drop_mult=0.5, metrics=accuracy)\n",
        "train_text.fine_tune(1)"
      ],
      "execution_count": null,
      "outputs": []
    },
    {
      "cell_type": "code",
      "metadata": {
        "id": "GlEALyOVzrJ1",
        "colab": {
          "base_uri": "https://localhost:8080/",
          "height": 34
        },
        "outputId": "95b31e3b-e380-4646-d16d-ba79ee058ac3"
      },
      "source": [
        "train_text.predict(\"quality of product is amazing\")"
      ],
      "execution_count": null,
      "outputs": [
        {
          "output_type": "display_data",
          "data": {
            "text/html": [
              ""
            ],
            "text/plain": [
              "<IPython.core.display.HTML object>"
            ]
          },
          "metadata": {
            "tags": []
          }
        },
        {
          "output_type": "execute_result",
          "data": {
            "text/plain": [
              "('2', tensor(1), tensor([0.4623, 0.5377]))"
            ]
          },
          "metadata": {
            "tags": []
          },
          "execution_count": 10
        }
      ]
    },
    {
      "cell_type": "code",
      "metadata": {
        "colab": {
          "base_uri": "https://localhost:8080/",
          "height": 34
        },
        "id": "5bo1E4fCmUw1",
        "outputId": "17f58bbe-4618-4230-d788-affd67f550b5"
      },
      "source": [
        "train_text.predict(\"quality of product is worst\")"
      ],
      "execution_count": null,
      "outputs": [
        {
          "output_type": "display_data",
          "data": {
            "text/html": [
              ""
            ],
            "text/plain": [
              "<IPython.core.display.HTML object>"
            ]
          },
          "metadata": {
            "tags": []
          }
        },
        {
          "output_type": "execute_result",
          "data": {
            "text/plain": [
              "('1', tensor(0), tensor([0.8070, 0.1930]))"
            ]
          },
          "metadata": {
            "tags": []
          },
          "execution_count": 12
        }
      ]
    },
    {
      "cell_type": "markdown",
      "metadata": {
        "id": "7UhD1-E-zsQa"
      },
      "source": [
        "**Tabular Learner**"
      ]
    },
    {
      "cell_type": "code",
      "metadata": {
        "id": "RGsgsg4Pzz-1",
        "colab": {
          "base_uri": "https://localhost:8080/",
          "height": 359
        },
        "outputId": "1479490a-0fc3-498c-8ff9-db702175cbb3"
      },
      "source": [
        "from fastai.tabular.all import *\n",
        "path = untar_data(URLs.ADULT_SAMPLE)\n",
        "\n",
        "dls = TabularDataLoaders.from_csv('/content/diabetes2.csv', path='/content/diabetes2.csv', y_names='Outcome',\n",
        "    cont_names = ['Pregnancies', 'Glucose', 'BloodPressure', 'SkinThickness', 'Insulin',\n",
        "       'BMI', 'DiabetesPedigreeFunction', 'Age'],\n",
        "    procs = [Categorify, FillMissing, Normalize])\n",
        "#y_name is the desired prediction\n",
        "#const_name are the continuous valued attributes\n",
        "train_tabular = tabular_learner(dls, metrics=accuracy)\n",
        "#accuarcy metric is to be calculated \n",
        "train_tabular.fit_one_cycle(10)"
      ],
      "execution_count": null,
      "outputs": [
        {
          "output_type": "display_data",
          "data": {
            "text/html": [
              "<table border=\"1\" class=\"dataframe\">\n",
              "  <thead>\n",
              "    <tr style=\"text-align: left;\">\n",
              "      <th>epoch</th>\n",
              "      <th>train_loss</th>\n",
              "      <th>valid_loss</th>\n",
              "      <th>accuracy</th>\n",
              "      <th>time</th>\n",
              "    </tr>\n",
              "  </thead>\n",
              "  <tbody>\n",
              "    <tr>\n",
              "      <td>0</td>\n",
              "      <td>0.255324</td>\n",
              "      <td>0.250001</td>\n",
              "      <td>0.673203</td>\n",
              "      <td>00:00</td>\n",
              "    </tr>\n",
              "    <tr>\n",
              "      <td>1</td>\n",
              "      <td>0.219418</td>\n",
              "      <td>0.182150</td>\n",
              "      <td>0.673203</td>\n",
              "      <td>00:00</td>\n",
              "    </tr>\n",
              "    <tr>\n",
              "      <td>2</td>\n",
              "      <td>0.194883</td>\n",
              "      <td>0.167907</td>\n",
              "      <td>0.673203</td>\n",
              "      <td>00:00</td>\n",
              "    </tr>\n",
              "    <tr>\n",
              "      <td>3</td>\n",
              "      <td>0.181172</td>\n",
              "      <td>0.170156</td>\n",
              "      <td>0.673203</td>\n",
              "      <td>00:00</td>\n",
              "    </tr>\n",
              "    <tr>\n",
              "      <td>4</td>\n",
              "      <td>0.172371</td>\n",
              "      <td>0.160441</td>\n",
              "      <td>0.673203</td>\n",
              "      <td>00:00</td>\n",
              "    </tr>\n",
              "    <tr>\n",
              "      <td>5</td>\n",
              "      <td>0.163457</td>\n",
              "      <td>0.168354</td>\n",
              "      <td>0.673203</td>\n",
              "      <td>00:00</td>\n",
              "    </tr>\n",
              "    <tr>\n",
              "      <td>6</td>\n",
              "      <td>0.156388</td>\n",
              "      <td>0.157252</td>\n",
              "      <td>0.673203</td>\n",
              "      <td>00:00</td>\n",
              "    </tr>\n",
              "    <tr>\n",
              "      <td>7</td>\n",
              "      <td>0.150660</td>\n",
              "      <td>0.152413</td>\n",
              "      <td>0.673203</td>\n",
              "      <td>00:00</td>\n",
              "    </tr>\n",
              "    <tr>\n",
              "      <td>8</td>\n",
              "      <td>0.144468</td>\n",
              "      <td>0.154998</td>\n",
              "      <td>0.673203</td>\n",
              "      <td>00:00</td>\n",
              "    </tr>\n",
              "    <tr>\n",
              "      <td>9</td>\n",
              "      <td>0.139682</td>\n",
              "      <td>0.156521</td>\n",
              "      <td>0.673203</td>\n",
              "      <td>00:00</td>\n",
              "    </tr>\n",
              "  </tbody>\n",
              "</table>"
            ],
            "text/plain": [
              "<IPython.core.display.HTML object>"
            ]
          },
          "metadata": {
            "tags": []
          }
        }
      ]
    },
    {
      "cell_type": "code",
      "metadata": {
        "colab": {
          "base_uri": "https://localhost:8080/",
          "height": 348
        },
        "id": "8zK1D4pX3f9o",
        "outputId": "103fb2bf-9856-4928-82ab-f48ab8cfeb33"
      },
      "source": [
        "train_tabular.show_results()"
      ],
      "execution_count": null,
      "outputs": [
        {
          "output_type": "display_data",
          "data": {
            "text/html": [
              ""
            ],
            "text/plain": [
              "<IPython.core.display.HTML object>"
            ]
          },
          "metadata": {
            "tags": []
          }
        },
        {
          "output_type": "display_data",
          "data": {
            "text/html": [
              "<table border=\"1\" class=\"dataframe\">\n",
              "  <thead>\n",
              "    <tr style=\"text-align: right;\">\n",
              "      <th></th>\n",
              "      <th>Pregnancies</th>\n",
              "      <th>Glucose</th>\n",
              "      <th>BloodPressure</th>\n",
              "      <th>SkinThickness</th>\n",
              "      <th>Insulin</th>\n",
              "      <th>BMI</th>\n",
              "      <th>DiabetesPedigreeFunction</th>\n",
              "      <th>Age</th>\n",
              "      <th>Outcome</th>\n",
              "      <th>Outcome_pred</th>\n",
              "    </tr>\n",
              "  </thead>\n",
              "  <tbody>\n",
              "    <tr>\n",
              "      <th>0</th>\n",
              "      <td>-0.245603</td>\n",
              "      <td>1.170368</td>\n",
              "      <td>-0.282729</td>\n",
              "      <td>-0.454459</td>\n",
              "      <td>2.727593</td>\n",
              "      <td>-0.095713</td>\n",
              "      <td>-0.518497</td>\n",
              "      <td>-0.790276</td>\n",
              "      <td>0.0</td>\n",
              "      <td>0.342293</td>\n",
              "    </tr>\n",
              "    <tr>\n",
              "      <th>1</th>\n",
              "      <td>0.646401</td>\n",
              "      <td>-0.215574</td>\n",
              "      <td>0.976118</td>\n",
              "      <td>-1.275196</td>\n",
              "      <td>-0.684658</td>\n",
              "      <td>-0.515636</td>\n",
              "      <td>-0.661886</td>\n",
              "      <td>2.867280</td>\n",
              "      <td>0.0</td>\n",
              "      <td>0.230917</td>\n",
              "    </tr>\n",
              "    <tr>\n",
              "      <th>2</th>\n",
              "      <td>0.646401</td>\n",
              "      <td>1.422358</td>\n",
              "      <td>0.241791</td>\n",
              "      <td>-1.275196</td>\n",
              "      <td>-0.684658</td>\n",
              "      <td>-0.663844</td>\n",
              "      <td>-0.491612</td>\n",
              "      <td>2.867280</td>\n",
              "      <td>0.0</td>\n",
              "      <td>0.503740</td>\n",
              "    </tr>\n",
              "    <tr>\n",
              "      <th>3</th>\n",
              "      <td>-0.840273</td>\n",
              "      <td>-1.570018</td>\n",
              "      <td>-0.387633</td>\n",
              "      <td>-1.275196</td>\n",
              "      <td>-0.684658</td>\n",
              "      <td>-1.256676</td>\n",
              "      <td>-0.157038</td>\n",
              "      <td>-0.616106</td>\n",
              "      <td>0.0</td>\n",
              "      <td>-0.110355</td>\n",
              "    </tr>\n",
              "    <tr>\n",
              "      <th>4</th>\n",
              "      <td>1.241071</td>\n",
              "      <td>1.894838</td>\n",
              "      <td>-0.072921</td>\n",
              "      <td>0.997613</td>\n",
              "      <td>3.679849</td>\n",
              "      <td>-0.231571</td>\n",
              "      <td>0.437428</td>\n",
              "      <td>2.344772</td>\n",
              "      <td>1.0</td>\n",
              "      <td>0.937068</td>\n",
              "    </tr>\n",
              "    <tr>\n",
              "      <th>5</th>\n",
              "      <td>-0.542938</td>\n",
              "      <td>-0.656556</td>\n",
              "      <td>-0.177825</td>\n",
              "      <td>-0.012524</td>\n",
              "      <td>0.108889</td>\n",
              "      <td>0.114248</td>\n",
              "      <td>1.190219</td>\n",
              "      <td>-0.441937</td>\n",
              "      <td>1.0</td>\n",
              "      <td>0.199950</td>\n",
              "    </tr>\n",
              "    <tr>\n",
              "      <th>6</th>\n",
              "      <td>0.943736</td>\n",
              "      <td>-0.373067</td>\n",
              "      <td>0.556502</td>\n",
              "      <td>0.681945</td>\n",
              "      <td>-0.684658</td>\n",
              "      <td>0.484768</td>\n",
              "      <td>1.966908</td>\n",
              "      <td>0.864333</td>\n",
              "      <td>1.0</td>\n",
              "      <td>0.699656</td>\n",
              "    </tr>\n",
              "    <tr>\n",
              "      <th>7</th>\n",
              "      <td>-0.840273</td>\n",
              "      <td>-0.562060</td>\n",
              "      <td>0.556502</td>\n",
              "      <td>-0.580726</td>\n",
              "      <td>0.038351</td>\n",
              "      <td>-1.553092</td>\n",
              "      <td>0.067007</td>\n",
              "      <td>-0.964445</td>\n",
              "      <td>0.0</td>\n",
              "      <td>-0.016295</td>\n",
              "    </tr>\n",
              "    <tr>\n",
              "      <th>8</th>\n",
              "      <td>0.349066</td>\n",
              "      <td>0.508896</td>\n",
              "      <td>2.025156</td>\n",
              "      <td>-1.275196</td>\n",
              "      <td>-0.684658</td>\n",
              "      <td>2.078004</td>\n",
              "      <td>-0.721631</td>\n",
              "      <td>0.341825</td>\n",
              "      <td>1.0</td>\n",
              "      <td>0.662645</td>\n",
              "    </tr>\n",
              "  </tbody>\n",
              "</table>"
            ],
            "text/plain": [
              "<IPython.core.display.HTML object>"
            ]
          },
          "metadata": {
            "tags": []
          }
        }
      ]
    },
    {
      "cell_type": "markdown",
      "metadata": {
        "id": "VOcGD60M0EY7"
      },
      "source": [
        "**collab Learner**"
      ]
    },
    {
      "cell_type": "code",
      "metadata": {
        "id": "rOFl-qOi0Ki5",
        "colab": {
          "base_uri": "https://localhost:8080/",
          "height": 205
        },
        "outputId": "eeaa6878-d45c-4487-d3e2-2016fad9c1ad"
      },
      "source": [
        "from fastai.collab import*\n",
        "path='/content/songsDataset.csv'\n",
        "data_loader_collab=CollabDataLoaders.from_csv(path)\n",
        "train_collab= collab_learner(data_loader_collab, y_range=(1,5))#y_range is used to provide the range in which the prediction can be\n",
        "train_collab.fine_tune(3)\n",
        "#fit the parameters to the model in three iterations"
      ],
      "execution_count": null,
      "outputs": [
        {
          "output_type": "display_data",
          "data": {
            "text/html": [
              "<table border=\"1\" class=\"dataframe\">\n",
              "  <thead>\n",
              "    <tr style=\"text-align: left;\">\n",
              "      <th>epoch</th>\n",
              "      <th>train_loss</th>\n",
              "      <th>valid_loss</th>\n",
              "      <th>time</th>\n",
              "    </tr>\n",
              "  </thead>\n",
              "  <tbody>\n",
              "    <tr>\n",
              "      <td>0</td>\n",
              "      <td>2.310013</td>\n",
              "      <td>2.353972</td>\n",
              "      <td>05:19</td>\n",
              "    </tr>\n",
              "  </tbody>\n",
              "</table>"
            ],
            "text/plain": [
              "<IPython.core.display.HTML object>"
            ]
          },
          "metadata": {
            "tags": []
          }
        },
        {
          "output_type": "display_data",
          "data": {
            "text/html": [
              "<table border=\"1\" class=\"dataframe\">\n",
              "  <thead>\n",
              "    <tr style=\"text-align: left;\">\n",
              "      <th>epoch</th>\n",
              "      <th>train_loss</th>\n",
              "      <th>valid_loss</th>\n",
              "      <th>time</th>\n",
              "    </tr>\n",
              "  </thead>\n",
              "  <tbody>\n",
              "    <tr>\n",
              "      <td>0</td>\n",
              "      <td>2.160244</td>\n",
              "      <td>2.279665</td>\n",
              "      <td>05:19</td>\n",
              "    </tr>\n",
              "    <tr>\n",
              "      <td>1</td>\n",
              "      <td>1.901432</td>\n",
              "      <td>2.204562</td>\n",
              "      <td>05:19</td>\n",
              "    </tr>\n",
              "    <tr>\n",
              "      <td>2</td>\n",
              "      <td>1.689410</td>\n",
              "      <td>2.191028</td>\n",
              "      <td>05:20</td>\n",
              "    </tr>\n",
              "  </tbody>\n",
              "</table>"
            ],
            "text/plain": [
              "<IPython.core.display.HTML object>"
            ]
          },
          "metadata": {
            "tags": []
          }
        }
      ]
    },
    {
      "cell_type": "code",
      "metadata": {
        "id": "1sKC9te20j4U",
        "colab": {
          "base_uri": "https://localhost:8080/",
          "height": 328
        },
        "outputId": "4bed66a7-07b2-467d-c0a0-53b90d0d4bd2"
      },
      "source": [
        "train_collab.show_results()"
      ],
      "execution_count": null,
      "outputs": [
        {
          "output_type": "display_data",
          "data": {
            "text/html": [
              ""
            ],
            "text/plain": [
              "<IPython.core.display.HTML object>"
            ]
          },
          "metadata": {
            "tags": []
          }
        },
        {
          "output_type": "display_data",
          "data": {
            "text/html": [
              "<table border=\"1\" class=\"dataframe\">\n",
              "  <thead>\n",
              "    <tr style=\"text-align: right;\">\n",
              "      <th></th>\n",
              "      <th>'userID'</th>\n",
              "      <th>'songID'</th>\n",
              "      <th>'rating'</th>\n",
              "      <th>'rating'_pred</th>\n",
              "    </tr>\n",
              "  </thead>\n",
              "  <tbody>\n",
              "    <tr>\n",
              "      <th>0</th>\n",
              "      <td>10853</td>\n",
              "      <td>67757</td>\n",
              "      <td>2</td>\n",
              "      <td>3.071877</td>\n",
              "    </tr>\n",
              "    <tr>\n",
              "      <th>1</th>\n",
              "      <td>80005</td>\n",
              "      <td>35810</td>\n",
              "      <td>1</td>\n",
              "      <td>3.276520</td>\n",
              "    </tr>\n",
              "    <tr>\n",
              "      <th>2</th>\n",
              "      <td>145059</td>\n",
              "      <td>112278</td>\n",
              "      <td>4</td>\n",
              "      <td>3.239768</td>\n",
              "    </tr>\n",
              "    <tr>\n",
              "      <th>3</th>\n",
              "      <td>20447</td>\n",
              "      <td>58479</td>\n",
              "      <td>4</td>\n",
              "      <td>3.482496</td>\n",
              "    </tr>\n",
              "    <tr>\n",
              "      <th>4</th>\n",
              "      <td>74778</td>\n",
              "      <td>20597</td>\n",
              "      <td>5</td>\n",
              "      <td>3.105671</td>\n",
              "    </tr>\n",
              "    <tr>\n",
              "      <th>5</th>\n",
              "      <td>182458</td>\n",
              "      <td>96278</td>\n",
              "      <td>2</td>\n",
              "      <td>2.921741</td>\n",
              "    </tr>\n",
              "    <tr>\n",
              "      <th>6</th>\n",
              "      <td>20040</td>\n",
              "      <td>66183</td>\n",
              "      <td>4</td>\n",
              "      <td>2.935327</td>\n",
              "    </tr>\n",
              "    <tr>\n",
              "      <th>7</th>\n",
              "      <td>140712</td>\n",
              "      <td>104620</td>\n",
              "      <td>2</td>\n",
              "      <td>3.200722</td>\n",
              "    </tr>\n",
              "    <tr>\n",
              "      <th>8</th>\n",
              "      <td>18278</td>\n",
              "      <td>91509</td>\n",
              "      <td>5</td>\n",
              "      <td>2.946598</td>\n",
              "    </tr>\n",
              "  </tbody>\n",
              "</table>"
            ],
            "text/plain": [
              "<IPython.core.display.HTML object>"
            ]
          },
          "metadata": {
            "tags": []
          }
        }
      ]
    }
  ]
}